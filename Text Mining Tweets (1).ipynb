{
 "cells": [
  {
   "cell_type": "markdown",
   "metadata": {},
   "source": [
    "# Text Mining Twitter Analysis"
   ]
  },
  {
   "cell_type": "code",
   "execution_count": 1,
   "metadata": {},
   "outputs": [],
   "source": [
    "from warnings import filterwarnings\n",
    "filterwarnings('ignore')"
   ]
  },
  {
   "cell_type": "markdown",
   "metadata": {},
   "source": [
    " # API Connection"
   ]
  },
  {
   "cell_type": "code",
   "execution_count": 2,
   "metadata": {
    "run_control": {
     "marked": true
    }
   },
   "outputs": [
    {
     "name": "stdout",
     "output_type": "stream",
     "text": [
      "Collecting tweepy\r\n",
      "  Downloading https://files.pythonhosted.org/packages/36/1b/2bd38043d22ade352fc3d3902cf30ce0e2f4bf285be3b304a2782a767aec/tweepy-3.8.0-py2.py3-none-any.whl\r\n",
      "Collecting requests-oauthlib>=0.7.0 (from tweepy)\r\n",
      "  Downloading https://files.pythonhosted.org/packages/a3/12/b92740d845ab62ea4edf04d2f4164d82532b5a0b03836d4d4e71c6f3d379/requests_oauthlib-1.3.0-py2.py3-none-any.whl\r\n",
      "Requirement already satisfied: six>=1.10.0 in /opt/conda/lib/python3.6/site-packages (from tweepy) (1.12.0)\r\n",
      "Requirement already satisfied: requests>=2.11.1 in /opt/conda/lib/python3.6/site-packages (from tweepy) (2.22.0)\r\n",
      "Requirement already satisfied: PySocks>=1.5.7 in /opt/conda/lib/python3.6/site-packages (from tweepy) (1.7.1)\r\n",
      "Collecting oauthlib>=3.0.0 (from requests-oauthlib>=0.7.0->tweepy)\r\n",
      "\u001b[?25l  Downloading https://files.pythonhosted.org/packages/05/57/ce2e7a8fa7c0afb54a0581b14a65b56e62b5759dbc98e80627142b8a3704/oauthlib-3.1.0-py2.py3-none-any.whl (147kB)\r\n",
      "\u001b[K     |████████████████████████████████| 153kB 13.4MB/s \r\n",
      "\u001b[?25hRequirement already satisfied: urllib3!=1.25.0,!=1.25.1,<1.26,>=1.21.1 in /opt/conda/lib/python3.6/site-packages (from requests>=2.11.1->tweepy) (1.24.2)\r\n",
      "Requirement already satisfied: chardet<3.1.0,>=3.0.2 in /opt/conda/lib/python3.6/site-packages (from requests>=2.11.1->tweepy) (3.0.4)\r\n",
      "Requirement already satisfied: certifi>=2017.4.17 in /opt/conda/lib/python3.6/site-packages (from requests>=2.11.1->tweepy) (2019.9.11)\r\n",
      "Requirement already satisfied: idna<2.9,>=2.5 in /opt/conda/lib/python3.6/site-packages (from requests>=2.11.1->tweepy) (2.8)\r\n",
      "Installing collected packages: oauthlib, requests-oauthlib, tweepy\r\n",
      "Successfully installed oauthlib-3.1.0 requests-oauthlib-1.3.0 tweepy-3.8.0\r\n"
     ]
    }
   ],
   "source": [
    " !pip install tweepy"
   ]
  },
  {
   "cell_type": "code",
   "execution_count": 3,
   "metadata": {
    "_kg_hide-input": true
   },
   "outputs": [],
   "source": [
    "import tweepy, codecs\n",
    "\n",
    "\n",
    "\n",
    "consumer_key = '5ecrgpF8KDhSZlvM8o0xSASVh'\n",
    "consumer_secret = '5MdKdPRMpgGylXBZUlHXPwnxsgwjczusIeYw1JMTUUGQ0Dcdpi'\n",
    "access_token = '330297491-56WABQRvTJnWTLG7bMnJT27Jlt9T5TYwUPiTR7hh'\n",
    "access_token_secret = 'aCmW6YbiBjIycroI5zmoXGgpsnN46P5rXbCfx69KmRBMt'\n",
    "\n",
    "auth = tweepy.OAuthHandler(consumer_key, consumer_secret)\n",
    "auth.set_access_token(access_token,access_token_secret)\n",
    "api = tweepy.API(auth)"
   ]
  },
  {
   "cell_type": "code",
   "execution_count": 4,
   "metadata": {
    "scrolled": true
   },
   "outputs": [],
   "source": [
    "# we can tweet with this code\n",
    "# api.update_status('hello from python')"
   ]
  },
  {
   "cell_type": "code",
   "execution_count": 5,
   "metadata": {},
   "outputs": [],
   "source": [
    "# we can see our friends on twitter with this code\n",
    "#api.friends()"
   ]
  },
  {
   "cell_type": "markdown",
   "metadata": {},
   "source": [
    "# Pull data from Twitter "
   ]
  },
  {
   "cell_type": "code",
   "execution_count": 6,
   "metadata": {},
   "outputs": [],
   "source": [
    "fk = api.me()"
   ]
  },
  {
   "cell_type": "code",
   "execution_count": 7,
   "metadata": {},
   "outputs": [
    {
     "data": {
      "text/plain": [
       "'fatmaakursun'"
      ]
     },
     "execution_count": 7,
     "metadata": {},
     "output_type": "execute_result"
    }
   ],
   "source": [
    "# you can follow me :)\n",
    "fk.screen_name"
   ]
  },
  {
   "cell_type": "code",
   "execution_count": 8,
   "metadata": {},
   "outputs": [
    {
     "data": {
      "text/plain": [
       "191"
      ]
     },
     "execution_count": 8,
     "metadata": {},
     "output_type": "execute_result"
    }
   ],
   "source": [
    "fk.followers_count"
   ]
  },
  {
   "cell_type": "code",
   "execution_count": 9,
   "metadata": {
    "scrolled": true
   },
   "outputs": [],
   "source": [
    "#fk.friends"
   ]
  },
  {
   "cell_type": "code",
   "execution_count": 10,
   "metadata": {
    "run_control": {
     "marked": true
    },
    "scrolled": true
   },
   "outputs": [
    {
     "name": "stdout",
     "output_type": "stream",
     "text": [
      "Emre_buTCher\n",
      "cleverqazi\n",
      "lexfridman\n",
      "Twitter\n",
      "TheRealRyanHiga\n",
      "feyyazyigit\n",
      "englishtesting\n",
      "SalimJabbour2\n",
      "LOOKOUTBrighton\n",
      "billieeilish\n"
     ]
    }
   ],
   "source": [
    "for friend in fk.friends(count=10):\n",
    "    print(friend.screen_name)"
   ]
  },
  {
   "cell_type": "code",
   "execution_count": 11,
   "metadata": {
    "run_control": {
     "marked": true
    },
    "scrolled": true
   },
   "outputs": [
    {
     "data": {
      "text/plain": [
       "['__class__',\n",
       " '__delattr__',\n",
       " '__dict__',\n",
       " '__dir__',\n",
       " '__doc__',\n",
       " '__eq__',\n",
       " '__format__',\n",
       " '__ge__',\n",
       " '__getattribute__',\n",
       " '__getstate__',\n",
       " '__gt__',\n",
       " '__hash__',\n",
       " '__init__',\n",
       " '__init_subclass__',\n",
       " '__le__',\n",
       " '__lt__',\n",
       " '__module__',\n",
       " '__ne__',\n",
       " '__new__',\n",
       " '__reduce__',\n",
       " '__reduce_ex__',\n",
       " '__repr__',\n",
       " '__setattr__',\n",
       " '__sizeof__',\n",
       " '__str__',\n",
       " '__subclasshook__',\n",
       " '__weakref__',\n",
       " '_api',\n",
       " '_json',\n",
       " 'contributors_enabled',\n",
       " 'created_at',\n",
       " 'default_profile',\n",
       " 'default_profile_image',\n",
       " 'description',\n",
       " 'entities',\n",
       " 'favourites_count',\n",
       " 'follow',\n",
       " 'follow_request_sent',\n",
       " 'followers',\n",
       " 'followers_count',\n",
       " 'followers_ids',\n",
       " 'following',\n",
       " 'friends',\n",
       " 'friends_count',\n",
       " 'geo_enabled',\n",
       " 'has_extended_profile',\n",
       " 'id',\n",
       " 'id_str',\n",
       " 'is_translation_enabled',\n",
       " 'is_translator',\n",
       " 'lang',\n",
       " 'listed_count',\n",
       " 'lists',\n",
       " 'lists_memberships',\n",
       " 'lists_subscriptions',\n",
       " 'location',\n",
       " 'name',\n",
       " 'needs_phone_verification',\n",
       " 'notifications',\n",
       " 'parse',\n",
       " 'parse_list',\n",
       " 'profile_background_color',\n",
       " 'profile_background_image_url',\n",
       " 'profile_background_image_url_https',\n",
       " 'profile_background_tile',\n",
       " 'profile_banner_url',\n",
       " 'profile_image_url',\n",
       " 'profile_image_url_https',\n",
       " 'profile_link_color',\n",
       " 'profile_location',\n",
       " 'profile_sidebar_border_color',\n",
       " 'profile_sidebar_fill_color',\n",
       " 'profile_text_color',\n",
       " 'profile_use_background_image',\n",
       " 'protected',\n",
       " 'screen_name',\n",
       " 'status',\n",
       " 'statuses_count',\n",
       " 'suspended',\n",
       " 'time_zone',\n",
       " 'timeline',\n",
       " 'translator_type',\n",
       " 'unfollow',\n",
       " 'url',\n",
       " 'utc_offset',\n",
       " 'verified']"
      ]
     },
     "execution_count": 11,
     "metadata": {},
     "output_type": "execute_result"
    }
   ],
   "source": [
    "dir(fk)"
   ]
  },
  {
   "cell_type": "code",
   "execution_count": 12,
   "metadata": {},
   "outputs": [],
   "source": [
    "user = api.get_user(id = 'bsrakrsn')"
   ]
  },
  {
   "cell_type": "code",
   "execution_count": 13,
   "metadata": {},
   "outputs": [
    {
     "data": {
      "text/plain": [
       "'bsrakrsn'"
      ]
     },
     "execution_count": 13,
     "metadata": {},
     "output_type": "execute_result"
    }
   ],
   "source": [
    "user.screen_name"
   ]
  },
  {
   "cell_type": "code",
   "execution_count": 14,
   "metadata": {},
   "outputs": [
    {
     "data": {
      "text/plain": [
       "202"
      ]
     },
     "execution_count": 14,
     "metadata": {},
     "output_type": "execute_result"
    }
   ],
   "source": [
    "user.followers_count"
   ]
  },
  {
   "cell_type": "code",
   "execution_count": 15,
   "metadata": {},
   "outputs": [
    {
     "data": {
      "text/plain": [
       "'http://pbs.twimg.com/profile_images/1119183910230011904/a-xENa0o_normal.jpg'"
      ]
     },
     "execution_count": 15,
     "metadata": {},
     "output_type": "execute_result"
    }
   ],
   "source": [
    "user.profile_image_url"
   ]
  },
  {
   "cell_type": "markdown",
   "metadata": {},
   "source": [
    "## home timeline"
   ]
  },
  {
   "cell_type": "code",
   "execution_count": 16,
   "metadata": {},
   "outputs": [],
   "source": [
    "public_tweets = api.home_timeline(count=10)"
   ]
  },
  {
   "cell_type": "code",
   "execution_count": 17,
   "metadata": {},
   "outputs": [
    {
     "name": "stdout",
     "output_type": "stream",
     "text": [
      "The long list of vacancies and scramble to bring in expertise fit a pattern of neglect in the Trump Administration’… https://t.co/hutSqZx7Yr\n",
      "The highest-ranking officer in the US Marine Corps has ordered Confederate-related paraphernalia to be removed from… https://t.co/m01Goiklia\n",
      "Science has documented many biofluorescent animals including chameleons, corals, jellyfish, reef fish, sharks, scor… https://t.co/rtYGurmhIW\n",
      "İnternet neden yavaşladı, sosyal medyaya niye erişilemiyor? \n",
      "\n",
      "https://t.co/n5tbQA9K2H\n",
      "Simulating epidemics using Go and Python by @sausheong  https://t.co/geHH7qSe9F\n",
      "Hey #NorDevCon2020! Save 40% on #csharp, #agile, #javascript, #AWS, and other books and videos with CODE ctwndcon20… https://t.co/68hGnzgPVy\n",
      "Border Force officers are the front line in protecting the country. Watch the video to find out how they’re disrupt… https://t.co/YqmmTYwLSc\n",
      "Diyanet'ten Cuma hutbesi: Hak uğruna mücadelemiz, birlik beraberlik ruhumuz https://t.co/B1onbWzq5D https://t.co/L8L5kLaSDu\n",
      "RT @QuintinLake: The mud of the Humber looking silky under a blue sky #Lincolnshire https://t.co/WlxKu3a2Ln\n",
      "Türkiye yalnız bırakıldı, Avrupa'ya anladığı dilden mesaj veriliyor https://t.co/elqp5T13gg https://t.co/98f6SZbXJK\n"
     ]
    }
   ],
   "source": [
    "for tweet in public_tweets:\n",
    "    print(tweet.text)"
   ]
  },
  {
   "cell_type": "markdown",
   "metadata": {},
   "source": [
    "## user time line "
   ]
  },
  {
   "cell_type": "code",
   "execution_count": 18,
   "metadata": {},
   "outputs": [
    {
     "name": "stdout",
     "output_type": "stream",
     "text": [
      "Chatting with @lexfridman about ML, rise of MOOCs, what’s hard in learning AI, ... was the most fun interview I’ve… https://t.co/Kq3XDP30l1\n",
      "Consumer internet companies with 1B+ users have popularized Big Data. But industries like manufacturing, agricultur… https://t.co/oBWEWaPU69\n",
      "Happy multi-cultural palindrome day! Works whether your preferred date format is MM/DD/YYYY or DD/MM/YYYY or  YYYY/MM/DD.\n",
      "Great chatting with @lexfridman. We talked about everything from the early mistakes I made building MOOCs to the ch… https://t.co/ksALj0InTq\n",
      "Great having @EricTopol visit just now. His book Deep Medicine gives a compelling vision for AI in healthcare. We h… https://t.co/ylxKzpSNNM\n",
      "RIP Professor Clayton Christensen. The world has lost a brilliant mind and a wonderful person, whose teachings on t… https://t.co/FmNhfeXur7\n",
      "RT @RisingSayak: The latest @deeplearningai_ newsletter is just amazing. The part that I liked the most is the #ImageNet dataset is being m…\n",
      "Many aspiring AI engineers ask me how to take the next step and join an AI team. This report from @Workera_, a… https://t.co/EJ1OMpEQ1A\n",
      "In The Batch's new year edition, @ylecun @katecrawford @kaifulee @animaanandkumar @etzioni @chelseabfinn… https://t.co/rBVTutFTte\n",
      "Happy New Decade! In the last decade AI went from niche to mainstream. I wonder what our community will accomplish this decade?\n"
     ]
    }
   ],
   "source": [
    "name = 'AndrewYNg'\n",
    "tweet_count = 10\n",
    "\n",
    "user_timeline = api.user_timeline(id = name, count=tweet_count)\n",
    "\n",
    "for i in user_timeline:\n",
    "    print(i.text)"
   ]
  },
  {
   "cell_type": "markdown",
   "metadata": {},
   "source": [
    "## retweets"
   ]
  },
  {
   "cell_type": "code",
   "execution_count": 19,
   "metadata": {},
   "outputs": [],
   "source": [
    "retweets = api.retweets_of_me(count=10)\n",
    "for retweet in retweets:\n",
    "    print(retweet.text)"
   ]
  },
  {
   "cell_type": "code",
   "execution_count": 20,
   "metadata": {},
   "outputs": [
    {
     "data": {
      "text/plain": [
       "[]"
      ]
     },
     "execution_count": 20,
     "metadata": {},
     "output_type": "execute_result"
    }
   ],
   "source": [
    "retweets"
   ]
  },
  {
   "cell_type": "markdown",
   "metadata": {},
   "source": [
    "## hastag"
   ]
  },
  {
   "cell_type": "code",
   "execution_count": 21,
   "metadata": {},
   "outputs": [],
   "source": [
    "results = api.search(q = '#datascience',\n",
    "                    lang = 'tr',\n",
    "                    result_type = 'recent',\n",
    "                    count = 1000000 )"
   ]
  },
  {
   "cell_type": "markdown",
   "metadata": {},
   "source": [
    "## convert to dataframe "
   ]
  },
  {
   "cell_type": "code",
   "execution_count": 22,
   "metadata": {},
   "outputs": [],
   "source": [
    "import pandas as pd"
   ]
  },
  {
   "cell_type": "code",
   "execution_count": 23,
   "metadata": {},
   "outputs": [],
   "source": [
    "def tweets_df(results):\n",
    "    id_list = [tweet.id for tweet in results]\n",
    "    data_set = pd.DataFrame(id_list,columns=['id'])\n",
    "    \n",
    "    \n",
    "    data_set['text'] = [tweet.text for tweet in results]\n",
    "    data_set['created_at'] = [tweet.created_at for tweet in results]\n",
    "    data_set['retweet_count'] = [tweet.retweet_count for tweet in results]\n",
    "    data_set['name'] = [tweet.author.name for tweet in results]\n",
    "    data_set['user_screen_name'] = [tweet.author.screen_name for tweet in results]\n",
    "    data_set['user_followers_count'] = [tweet.author.followers_count for tweet in results]\n",
    "    data_set['user_location'] = [tweet.author.location for tweet in results]\n",
    "    data_set['Hashtags'] = [tweet.entities.get('hashtags') for tweet in results]\n",
    "    \n",
    "    return data_set"
   ]
  },
  {
   "cell_type": "code",
   "execution_count": 24,
   "metadata": {},
   "outputs": [],
   "source": [
    "data = tweets_df(results)"
   ]
  },
  {
   "cell_type": "code",
   "execution_count": 25,
   "metadata": {},
   "outputs": [
    {
     "data": {
      "text/html": [
       "<div>\n",
       "<style scoped>\n",
       "    .dataframe tbody tr th:only-of-type {\n",
       "        vertical-align: middle;\n",
       "    }\n",
       "\n",
       "    .dataframe tbody tr th {\n",
       "        vertical-align: top;\n",
       "    }\n",
       "\n",
       "    .dataframe thead th {\n",
       "        text-align: right;\n",
       "    }\n",
       "</style>\n",
       "<table border=\"1\" class=\"dataframe\">\n",
       "  <thead>\n",
       "    <tr style=\"text-align: right;\">\n",
       "      <th></th>\n",
       "      <th>id</th>\n",
       "      <th>text</th>\n",
       "      <th>created_at</th>\n",
       "      <th>retweet_count</th>\n",
       "      <th>name</th>\n",
       "      <th>user_screen_name</th>\n",
       "      <th>user_followers_count</th>\n",
       "      <th>user_location</th>\n",
       "      <th>Hashtags</th>\n",
       "    </tr>\n",
       "  </thead>\n",
       "  <tbody>\n",
       "    <tr>\n",
       "      <td>0</td>\n",
       "      <td>1233120996015661056</td>\n",
       "      <td>RT @emretunaayd: Türkiye'den tek yetkili platf...</td>\n",
       "      <td>2020-02-27 20:05:30</td>\n",
       "      <td>1</td>\n",
       "      <td>HrAnalitik.com</td>\n",
       "      <td>hranalitik</td>\n",
       "      <td>2</td>\n",
       "      <td>İstanbul, Türkiye</td>\n",
       "      <td>[]</td>\n",
       "    </tr>\n",
       "    <tr>\n",
       "      <td>1</td>\n",
       "      <td>1232774466196955136</td>\n",
       "      <td>#veribilimi #datascience ile uğraşan arkadaşla...</td>\n",
       "      <td>2020-02-26 21:08:31</td>\n",
       "      <td>0</td>\n",
       "      <td>Yalcin Parmaksiz, MBA, AMA PCM®</td>\n",
       "      <td>myparmaksiz</td>\n",
       "      <td>5282</td>\n",
       "      <td>N 40°23' 0'' / E 27°47' 0''</td>\n",
       "      <td>[{'text': 'veribilimi', 'indices': [0, 11]}, {...</td>\n",
       "    </tr>\n",
       "    <tr>\n",
       "      <td>2</td>\n",
       "      <td>1232735880932098050</td>\n",
       "      <td>This is necessary! 😂  \\n\\nNe kadar erken basla...</td>\n",
       "      <td>2020-02-26 18:35:11</td>\n",
       "      <td>0</td>\n",
       "      <td>S.Bayram</td>\n",
       "      <td>engineer702</td>\n",
       "      <td>91</td>\n",
       "      <td>Newark,De</td>\n",
       "      <td>[{'text': 'datascientists', 'indices': [64, 79...</td>\n",
       "    </tr>\n",
       "    <tr>\n",
       "      <td>3</td>\n",
       "      <td>1232640637910077443</td>\n",
       "      <td>RT @CansuUzunsimsek: Salı'lara anlam katan bir...</td>\n",
       "      <td>2020-02-26 12:16:44</td>\n",
       "      <td>6</td>\n",
       "      <td>HubofMachineLearning</td>\n",
       "      <td>hubofml</td>\n",
       "      <td>1834</td>\n",
       "      <td>Germany</td>\n",
       "      <td>[{'text': 'DataScience', 'indices': [63, 75]},...</td>\n",
       "    </tr>\n",
       "    <tr>\n",
       "      <td>4</td>\n",
       "      <td>1232640615353143298</td>\n",
       "      <td>RT @CansuUzunsimsek: Salı'lara anlam katan bir...</td>\n",
       "      <td>2020-02-26 12:16:38</td>\n",
       "      <td>6</td>\n",
       "      <td>Pınar Dağ FirthⓋ</td>\n",
       "      <td>pinardag</td>\n",
       "      <td>6367</td>\n",
       "      <td>London, Zürich, İstanbul</td>\n",
       "      <td>[{'text': 'DataScience', 'indices': [63, 75]},...</td>\n",
       "    </tr>\n",
       "  </tbody>\n",
       "</table>\n",
       "</div>"
      ],
      "text/plain": [
       "                    id                                               text  \\\n",
       "0  1233120996015661056  RT @emretunaayd: Türkiye'den tek yetkili platf...   \n",
       "1  1232774466196955136  #veribilimi #datascience ile uğraşan arkadaşla...   \n",
       "2  1232735880932098050  This is necessary! 😂  \\n\\nNe kadar erken basla...   \n",
       "3  1232640637910077443  RT @CansuUzunsimsek: Salı'lara anlam katan bir...   \n",
       "4  1232640615353143298  RT @CansuUzunsimsek: Salı'lara anlam katan bir...   \n",
       "\n",
       "           created_at  retweet_count                             name  \\\n",
       "0 2020-02-27 20:05:30              1                   HrAnalitik.com   \n",
       "1 2020-02-26 21:08:31              0  Yalcin Parmaksiz, MBA, AMA PCM®   \n",
       "2 2020-02-26 18:35:11              0                         S.Bayram   \n",
       "3 2020-02-26 12:16:44              6             HubofMachineLearning   \n",
       "4 2020-02-26 12:16:38              6                 Pınar Dağ FirthⓋ   \n",
       "\n",
       "  user_screen_name  user_followers_count                user_location  \\\n",
       "0       hranalitik                     2            İstanbul, Türkiye   \n",
       "1      myparmaksiz                  5282  N 40°23' 0'' / E 27°47' 0''   \n",
       "2      engineer702                    91                    Newark,De   \n",
       "3          hubofml                  1834                     Germany    \n",
       "4         pinardag                  6367     London, Zürich, İstanbul   \n",
       "\n",
       "                                            Hashtags  \n",
       "0                                                 []  \n",
       "1  [{'text': 'veribilimi', 'indices': [0, 11]}, {...  \n",
       "2  [{'text': 'datascientists', 'indices': [64, 79...  \n",
       "3  [{'text': 'DataScience', 'indices': [63, 75]},...  \n",
       "4  [{'text': 'DataScience', 'indices': [63, 75]},...  "
      ]
     },
     "execution_count": 25,
     "metadata": {},
     "output_type": "execute_result"
    }
   ],
   "source": [
    "data.head()"
   ]
  },
  {
   "cell_type": "markdown",
   "metadata": {},
   "source": [
    "# Profile Analysis"
   ]
  },
  {
   "cell_type": "code",
   "execution_count": 26,
   "metadata": {},
   "outputs": [],
   "source": [
    "AndrewNg = api.get_user('AndrewYNg')"
   ]
  },
  {
   "cell_type": "code",
   "execution_count": 27,
   "metadata": {},
   "outputs": [
    {
     "data": {
      "text/plain": [
       "'Andrew Ng'"
      ]
     },
     "execution_count": 27,
     "metadata": {},
     "output_type": "execute_result"
    }
   ],
   "source": [
    "AndrewNg.name"
   ]
  },
  {
   "cell_type": "code",
   "execution_count": 28,
   "metadata": {},
   "outputs": [
    {
     "data": {
      "text/plain": [
       "216939636"
      ]
     },
     "execution_count": 28,
     "metadata": {},
     "output_type": "execute_result"
    }
   ],
   "source": [
    "AndrewNg.id"
   ]
  },
  {
   "cell_type": "code",
   "execution_count": 29,
   "metadata": {},
   "outputs": [
    {
     "data": {
      "text/plain": [
       "'https://t.co/XidcMETENd'"
      ]
     },
     "execution_count": 29,
     "metadata": {},
     "output_type": "execute_result"
    }
   ],
   "source": [
    "AndrewNg.url"
   ]
  },
  {
   "cell_type": "code",
   "execution_count": 30,
   "metadata": {},
   "outputs": [
    {
     "data": {
      "text/plain": [
       "True"
      ]
     },
     "execution_count": 30,
     "metadata": {},
     "output_type": "execute_result"
    }
   ],
   "source": [
    "AndrewNg.verified"
   ]
  },
  {
   "cell_type": "code",
   "execution_count": 31,
   "metadata": {},
   "outputs": [
    {
     "data": {
      "text/plain": [
       "'AndrewYNg'"
      ]
     },
     "execution_count": 31,
     "metadata": {},
     "output_type": "execute_result"
    }
   ],
   "source": [
    "AndrewNg.screen_name"
   ]
  },
  {
   "cell_type": "code",
   "execution_count": 32,
   "metadata": {
    "scrolled": true
   },
   "outputs": [
    {
     "data": {
      "text/plain": [
       "1251"
      ]
     },
     "execution_count": 32,
     "metadata": {},
     "output_type": "execute_result"
    }
   ],
   "source": [
    "AndrewNg.statuses_count"
   ]
  },
  {
   "cell_type": "code",
   "execution_count": 33,
   "metadata": {},
   "outputs": [
    {
     "data": {
      "text/plain": [
       "896"
      ]
     },
     "execution_count": 33,
     "metadata": {},
     "output_type": "execute_result"
    }
   ],
   "source": [
    "AndrewNg.favourites_count"
   ]
  },
  {
   "cell_type": "code",
   "execution_count": 34,
   "metadata": {},
   "outputs": [
    {
     "data": {
      "text/plain": [
       "441"
      ]
     },
     "execution_count": 34,
     "metadata": {},
     "output_type": "execute_result"
    }
   ],
   "source": [
    "AndrewNg.friends_count"
   ]
  },
  {
   "cell_type": "code",
   "execution_count": 35,
   "metadata": {},
   "outputs": [],
   "source": [
    "tweets = api.user_timeline(id = 'AndrewYNg')"
   ]
  },
  {
   "cell_type": "code",
   "execution_count": 36,
   "metadata": {
    "scrolled": true
   },
   "outputs": [
    {
     "data": {
      "text/plain": [
       "'for i in tweets:\\n    print(i.text)'"
      ]
     },
     "execution_count": 36,
     "metadata": {},
     "output_type": "execute_result"
    }
   ],
   "source": [
    "\"\"\"for i in tweets:\n",
    "    print(i.text)\"\"\""
   ]
  },
  {
   "cell_type": "code",
   "execution_count": 37,
   "metadata": {},
   "outputs": [],
   "source": [
    "def timeline_df(tweets):\n",
    "    id_list = [tweet.id for tweet in tweets]\n",
    "    data_set = pd.DataFrame(id_list,columns=['id'])\n",
    "    \n",
    "    \n",
    "    data_set['text'] = [tweet.text for tweet in tweets]\n",
    "    data_set['created_at'] = [tweet.created_at for tweet in tweets]\n",
    "    data_set['retweet_count'] = [tweet.retweet_count for tweet in tweets]\n",
    "    data_set['favorite_count'] = [tweet.favorite_count for tweet in tweets]\n",
    "    data_set['source'] = [tweet.source for tweet in tweets]\n",
    "\n",
    "    \n",
    "    return data_set"
   ]
  },
  {
   "cell_type": "code",
   "execution_count": 38,
   "metadata": {
    "scrolled": true
   },
   "outputs": [
    {
     "data": {
      "text/html": [
       "<div>\n",
       "<style scoped>\n",
       "    .dataframe tbody tr th:only-of-type {\n",
       "        vertical-align: middle;\n",
       "    }\n",
       "\n",
       "    .dataframe tbody tr th {\n",
       "        vertical-align: top;\n",
       "    }\n",
       "\n",
       "    .dataframe thead th {\n",
       "        text-align: right;\n",
       "    }\n",
       "</style>\n",
       "<table border=\"1\" class=\"dataframe\">\n",
       "  <thead>\n",
       "    <tr style=\"text-align: right;\">\n",
       "      <th></th>\n",
       "      <th>id</th>\n",
       "      <th>text</th>\n",
       "      <th>created_at</th>\n",
       "      <th>retweet_count</th>\n",
       "      <th>favorite_count</th>\n",
       "      <th>source</th>\n",
       "    </tr>\n",
       "  </thead>\n",
       "  <tbody>\n",
       "    <tr>\n",
       "      <td>0</td>\n",
       "      <td>1230930707557388289</td>\n",
       "      <td>Chatting with @lexfridman about ML, rise of MO...</td>\n",
       "      <td>2020-02-21 19:02:04</td>\n",
       "      <td>307</td>\n",
       "      <td>1778</td>\n",
       "      <td>Twitter Web App</td>\n",
       "    </tr>\n",
       "    <tr>\n",
       "      <td>1</td>\n",
       "      <td>1227722012560384000</td>\n",
       "      <td>Consumer internet companies with 1B+ users hav...</td>\n",
       "      <td>2020-02-12 22:31:52</td>\n",
       "      <td>348</td>\n",
       "      <td>948</td>\n",
       "      <td>Twitter Web App</td>\n",
       "    </tr>\n",
       "    <tr>\n",
       "      <td>2</td>\n",
       "      <td>1224037549934383104</td>\n",
       "      <td>Happy multi-cultural palindrome day! Works whe...</td>\n",
       "      <td>2020-02-02 18:31:08</td>\n",
       "      <td>517</td>\n",
       "      <td>2452</td>\n",
       "      <td>Twitter Web App</td>\n",
       "    </tr>\n",
       "    <tr>\n",
       "      <td>3</td>\n",
       "      <td>1223344163682258944</td>\n",
       "      <td>Great chatting with @lexfridman. We talked abo...</td>\n",
       "      <td>2020-01-31 20:35:51</td>\n",
       "      <td>218</td>\n",
       "      <td>2858</td>\n",
       "      <td>Twitter Web App</td>\n",
       "    </tr>\n",
       "    <tr>\n",
       "      <td>4</td>\n",
       "      <td>1221969387042660353</td>\n",
       "      <td>Great having @EricTopol visit just now. His bo...</td>\n",
       "      <td>2020-01-28 01:32:59</td>\n",
       "      <td>98</td>\n",
       "      <td>794</td>\n",
       "      <td>Twitter Web App</td>\n",
       "    </tr>\n",
       "    <tr>\n",
       "      <td>5</td>\n",
       "      <td>1220826659303018496</td>\n",
       "      <td>RIP Professor Clayton Christensen. The world h...</td>\n",
       "      <td>2020-01-24 21:52:12</td>\n",
       "      <td>206</td>\n",
       "      <td>1047</td>\n",
       "      <td>Twitter Web App</td>\n",
       "    </tr>\n",
       "    <tr>\n",
       "      <td>6</td>\n",
       "      <td>1215362247456747520</td>\n",
       "      <td>RT @RisingSayak: The latest @deeplearningai_ n...</td>\n",
       "      <td>2020-01-09 19:58:34</td>\n",
       "      <td>62</td>\n",
       "      <td>0</td>\n",
       "      <td>Twitter Web App</td>\n",
       "    </tr>\n",
       "    <tr>\n",
       "      <td>7</td>\n",
       "      <td>1215047355126337538</td>\n",
       "      <td>Many aspiring AI engineers ask me how to take ...</td>\n",
       "      <td>2020-01-08 23:07:18</td>\n",
       "      <td>447</td>\n",
       "      <td>1603</td>\n",
       "      <td>Twitter Web App</td>\n",
       "    </tr>\n",
       "    <tr>\n",
       "      <td>8</td>\n",
       "      <td>1212502033804091392</td>\n",
       "      <td>In The Batch's new year edition, @ylecun @kate...</td>\n",
       "      <td>2020-01-01 22:33:06</td>\n",
       "      <td>233</td>\n",
       "      <td>671</td>\n",
       "      <td>Twitter Web App</td>\n",
       "    </tr>\n",
       "    <tr>\n",
       "      <td>9</td>\n",
       "      <td>1212288286024065024</td>\n",
       "      <td>Happy New Decade! In the last decade AI went f...</td>\n",
       "      <td>2020-01-01 08:23:45</td>\n",
       "      <td>276</td>\n",
       "      <td>2432</td>\n",
       "      <td>Twitter for iPad</td>\n",
       "    </tr>\n",
       "    <tr>\n",
       "      <td>10</td>\n",
       "      <td>1212104445078540289</td>\n",
       "      <td>Do you have an example of an underrated or und...</td>\n",
       "      <td>2019-12-31 20:13:14</td>\n",
       "      <td>222</td>\n",
       "      <td>1229</td>\n",
       "      <td>Twitter Web App</td>\n",
       "    </tr>\n",
       "    <tr>\n",
       "      <td>11</td>\n",
       "      <td>1208869431914319872</td>\n",
       "      <td>RT @ClimateChangeAI: Submissions for our ICLR ...</td>\n",
       "      <td>2019-12-22 21:58:26</td>\n",
       "      <td>88</td>\n",
       "      <td>0</td>\n",
       "      <td>Twitter Web App</td>\n",
       "    </tr>\n",
       "    <tr>\n",
       "      <td>12</td>\n",
       "      <td>1207755434053918720</td>\n",
       "      <td>Overall, a great conference. Congratulations a...</td>\n",
       "      <td>2019-12-19 20:11:49</td>\n",
       "      <td>8</td>\n",
       "      <td>125</td>\n",
       "      <td>Twitter Web App</td>\n",
       "    </tr>\n",
       "    <tr>\n",
       "      <td>13</td>\n",
       "      <td>1207755432028069888</td>\n",
       "      <td>It was fun speaking on the climate change pane...</td>\n",
       "      <td>2019-12-19 20:11:48</td>\n",
       "      <td>10</td>\n",
       "      <td>150</td>\n",
       "      <td>Twitter Web App</td>\n",
       "    </tr>\n",
       "    <tr>\n",
       "      <td>14</td>\n",
       "      <td>1207755424826458112</td>\n",
       "      <td>I also spoke about the work still needed for e...</td>\n",
       "      <td>2019-12-19 20:11:46</td>\n",
       "      <td>28</td>\n",
       "      <td>151</td>\n",
       "      <td>Twitter Web App</td>\n",
       "    </tr>\n",
       "    <tr>\n",
       "      <td>15</td>\n",
       "      <td>1207755424042106880</td>\n",
       "      <td>Sweet because: These are signs that NeurIPS is...</td>\n",
       "      <td>2019-12-19 20:11:46</td>\n",
       "      <td>14</td>\n",
       "      <td>127</td>\n",
       "      <td>Twitter Web App</td>\n",
       "    </tr>\n",
       "    <tr>\n",
       "      <td>16</td>\n",
       "      <td>1207755423333224448</td>\n",
       "      <td>Bayesian methods and causality got a lot of bu...</td>\n",
       "      <td>2019-12-19 20:11:46</td>\n",
       "      <td>25</td>\n",
       "      <td>220</td>\n",
       "      <td>Twitter Web App</td>\n",
       "    </tr>\n",
       "    <tr>\n",
       "      <td>17</td>\n",
       "      <td>1207755422603464704</td>\n",
       "      <td>The community has grown so much that we no lon...</td>\n",
       "      <td>2019-12-19 20:11:46</td>\n",
       "      <td>3</td>\n",
       "      <td>121</td>\n",
       "      <td>Twitter Web App</td>\n",
       "    </tr>\n",
       "    <tr>\n",
       "      <td>18</td>\n",
       "      <td>1207755421928157184</td>\n",
       "      <td>Reflecting on #NeurIPS2019. Great meeting as u...</td>\n",
       "      <td>2019-12-19 20:11:46</td>\n",
       "      <td>108</td>\n",
       "      <td>678</td>\n",
       "      <td>Twitter Web App</td>\n",
       "    </tr>\n",
       "    <tr>\n",
       "      <td>19</td>\n",
       "      <td>1204830641075867648</td>\n",
       "      <td>Courses 1 &amp;amp; 2 of @deeplearningai_‘s newest...</td>\n",
       "      <td>2019-12-11 18:29:44</td>\n",
       "      <td>373</td>\n",
       "      <td>1456</td>\n",
       "      <td>Twitter Web App</td>\n",
       "    </tr>\n",
       "  </tbody>\n",
       "</table>\n",
       "</div>"
      ],
      "text/plain": [
       "                     id                                               text  \\\n",
       "0   1230930707557388289  Chatting with @lexfridman about ML, rise of MO...   \n",
       "1   1227722012560384000  Consumer internet companies with 1B+ users hav...   \n",
       "2   1224037549934383104  Happy multi-cultural palindrome day! Works whe...   \n",
       "3   1223344163682258944  Great chatting with @lexfridman. We talked abo...   \n",
       "4   1221969387042660353  Great having @EricTopol visit just now. His bo...   \n",
       "5   1220826659303018496  RIP Professor Clayton Christensen. The world h...   \n",
       "6   1215362247456747520  RT @RisingSayak: The latest @deeplearningai_ n...   \n",
       "7   1215047355126337538  Many aspiring AI engineers ask me how to take ...   \n",
       "8   1212502033804091392  In The Batch's new year edition, @ylecun @kate...   \n",
       "9   1212288286024065024  Happy New Decade! In the last decade AI went f...   \n",
       "10  1212104445078540289  Do you have an example of an underrated or und...   \n",
       "11  1208869431914319872  RT @ClimateChangeAI: Submissions for our ICLR ...   \n",
       "12  1207755434053918720  Overall, a great conference. Congratulations a...   \n",
       "13  1207755432028069888  It was fun speaking on the climate change pane...   \n",
       "14  1207755424826458112  I also spoke about the work still needed for e...   \n",
       "15  1207755424042106880  Sweet because: These are signs that NeurIPS is...   \n",
       "16  1207755423333224448  Bayesian methods and causality got a lot of bu...   \n",
       "17  1207755422603464704  The community has grown so much that we no lon...   \n",
       "18  1207755421928157184  Reflecting on #NeurIPS2019. Great meeting as u...   \n",
       "19  1204830641075867648  Courses 1 &amp; 2 of @deeplearningai_‘s newest...   \n",
       "\n",
       "            created_at  retweet_count  favorite_count            source  \n",
       "0  2020-02-21 19:02:04            307            1778   Twitter Web App  \n",
       "1  2020-02-12 22:31:52            348             948   Twitter Web App  \n",
       "2  2020-02-02 18:31:08            517            2452   Twitter Web App  \n",
       "3  2020-01-31 20:35:51            218            2858   Twitter Web App  \n",
       "4  2020-01-28 01:32:59             98             794   Twitter Web App  \n",
       "5  2020-01-24 21:52:12            206            1047   Twitter Web App  \n",
       "6  2020-01-09 19:58:34             62               0   Twitter Web App  \n",
       "7  2020-01-08 23:07:18            447            1603   Twitter Web App  \n",
       "8  2020-01-01 22:33:06            233             671   Twitter Web App  \n",
       "9  2020-01-01 08:23:45            276            2432  Twitter for iPad  \n",
       "10 2019-12-31 20:13:14            222            1229   Twitter Web App  \n",
       "11 2019-12-22 21:58:26             88               0   Twitter Web App  \n",
       "12 2019-12-19 20:11:49              8             125   Twitter Web App  \n",
       "13 2019-12-19 20:11:48             10             150   Twitter Web App  \n",
       "14 2019-12-19 20:11:46             28             151   Twitter Web App  \n",
       "15 2019-12-19 20:11:46             14             127   Twitter Web App  \n",
       "16 2019-12-19 20:11:46             25             220   Twitter Web App  \n",
       "17 2019-12-19 20:11:46              3             121   Twitter Web App  \n",
       "18 2019-12-19 20:11:46            108             678   Twitter Web App  \n",
       "19 2019-12-11 18:29:44            373            1456   Twitter Web App  "
      ]
     },
     "execution_count": 38,
     "metadata": {},
     "output_type": "execute_result"
    }
   ],
   "source": [
    "timeline_df(tweets)"
   ]
  },
  {
   "cell_type": "code",
   "execution_count": 39,
   "metadata": {},
   "outputs": [],
   "source": [
    "def timeline_df(tweets):\n",
    "    df = pd.DataFrame()\n",
    "    \n",
    "    df['id'] = list(map(lambda tweet:tweet.id, tweets))\n",
    "    df['created_at'] = list(map(lambda tweet:tweet.created_at, tweets))\n",
    "    df['text'] = list(map(lambda tweet:tweet.text, tweets)) \n",
    "    df['favorite_count'] = list(map(lambda tweet:tweet.favorite_count, tweets))\n",
    "    df['retweeted_count'] = list(map(lambda tweet:tweet.retweet_count, tweets))\n",
    "    df['source'] = list(map(lambda tweet:tweet.source, tweets))\n",
    "    return df"
   ]
  },
  {
   "cell_type": "code",
   "execution_count": 40,
   "metadata": {},
   "outputs": [],
   "source": [
    "tweets = api.user_timeline(id = 'AndrewYNg',count=10000)"
   ]
  },
  {
   "cell_type": "code",
   "execution_count": 41,
   "metadata": {
    "scrolled": true
   },
   "outputs": [],
   "source": [
    "df = timeline_df(tweets)"
   ]
  },
  {
   "cell_type": "code",
   "execution_count": 42,
   "metadata": {},
   "outputs": [
    {
     "name": "stdout",
     "output_type": "stream",
     "text": [
      "<class 'pandas.core.frame.DataFrame'>\n",
      "RangeIndex: 200 entries, 0 to 199\n",
      "Data columns (total 6 columns):\n",
      "id                 200 non-null int64\n",
      "created_at         200 non-null datetime64[ns]\n",
      "text               200 non-null object\n",
      "favorite_count     200 non-null int64\n",
      "retweeted_count    200 non-null int64\n",
      "source             200 non-null object\n",
      "dtypes: datetime64[ns](1), int64(3), object(2)\n",
      "memory usage: 9.5+ KB\n"
     ]
    }
   ],
   "source": [
    "df.info()"
   ]
  },
  {
   "cell_type": "code",
   "execution_count": 43,
   "metadata": {
    "scrolled": true
   },
   "outputs": [
    {
     "data": {
      "text/html": [
       "<div>\n",
       "<style scoped>\n",
       "    .dataframe tbody tr th:only-of-type {\n",
       "        vertical-align: middle;\n",
       "    }\n",
       "\n",
       "    .dataframe tbody tr th {\n",
       "        vertical-align: top;\n",
       "    }\n",
       "\n",
       "    .dataframe thead th {\n",
       "        text-align: right;\n",
       "    }\n",
       "</style>\n",
       "<table border=\"1\" class=\"dataframe\">\n",
       "  <thead>\n",
       "    <tr style=\"text-align: right;\">\n",
       "      <th></th>\n",
       "      <th>id</th>\n",
       "      <th>created_at</th>\n",
       "      <th>text</th>\n",
       "      <th>favorite_count</th>\n",
       "      <th>retweeted_count</th>\n",
       "      <th>source</th>\n",
       "    </tr>\n",
       "  </thead>\n",
       "  <tbody>\n",
       "    <tr>\n",
       "      <td>196</td>\n",
       "      <td>973781600751308800</td>\n",
       "      <td>2018-03-14 04:43:20</td>\n",
       "      <td>Stephen Hawking once said, \"I'm not afraid of ...</td>\n",
       "      <td>14966</td>\n",
       "      <td>4279</td>\n",
       "      <td>Twitter Web Client</td>\n",
       "    </tr>\n",
       "    <tr>\n",
       "      <td>173</td>\n",
       "      <td>1006204761543081984</td>\n",
       "      <td>2018-06-11 16:01:24</td>\n",
       "      <td>AI+ethics is important, but has been partly hi...</td>\n",
       "      <td>6364</td>\n",
       "      <td>2391</td>\n",
       "      <td>Twitter Web Client</td>\n",
       "    </tr>\n",
       "    <tr>\n",
       "      <td>34</td>\n",
       "      <td>1144668413140144128</td>\n",
       "      <td>2019-06-28 18:06:31</td>\n",
       "      <td>I’m glad DeepNude is dead. As a person and as ...</td>\n",
       "      <td>8035</td>\n",
       "      <td>1934</td>\n",
       "      <td>Twitter Web Client</td>\n",
       "    </tr>\n",
       "    <tr>\n",
       "      <td>144</td>\n",
       "      <td>1045399898537873408</td>\n",
       "      <td>2018-09-27 19:48:53</td>\n",
       "      <td>Deep Learning is getting really good on Big Da...</td>\n",
       "      <td>5052</td>\n",
       "      <td>1442</td>\n",
       "      <td>Twitter Web Client</td>\n",
       "    </tr>\n",
       "    <tr>\n",
       "      <td>77</td>\n",
       "      <td>1101150955389706243</td>\n",
       "      <td>2019-02-28 16:03:40</td>\n",
       "      <td>AI For Everyone is now available on @Coursera!...</td>\n",
       "      <td>4243</td>\n",
       "      <td>1409</td>\n",
       "      <td>Twitter Web Client</td>\n",
       "    </tr>\n",
       "    <tr>\n",
       "      <td>...</td>\n",
       "      <td>...</td>\n",
       "      <td>...</td>\n",
       "      <td>...</td>\n",
       "      <td>...</td>\n",
       "      <td>...</td>\n",
       "      <td>...</td>\n",
       "    </tr>\n",
       "    <tr>\n",
       "      <td>17</td>\n",
       "      <td>1207755422603464704</td>\n",
       "      <td>2019-12-19 20:11:46</td>\n",
       "      <td>The community has grown so much that we no lon...</td>\n",
       "      <td>121</td>\n",
       "      <td>3</td>\n",
       "      <td>Twitter Web App</td>\n",
       "    </tr>\n",
       "    <tr>\n",
       "      <td>188</td>\n",
       "      <td>988455729194389504</td>\n",
       "      <td>2018-04-23 16:33:05</td>\n",
       "      <td>@amritrp @CadeMetz Difference between AI vs. e...</td>\n",
       "      <td>16</td>\n",
       "      <td>2</td>\n",
       "      <td>Twitter Web Client</td>\n",
       "    </tr>\n",
       "    <tr>\n",
       "      <td>57</td>\n",
       "      <td>1113501712457793536</td>\n",
       "      <td>2019-04-03 18:01:10</td>\n",
       "      <td>@ruskin147 @BBCTechTent Great to see you and t...</td>\n",
       "      <td>13</td>\n",
       "      <td>2</td>\n",
       "      <td>Twitter for iPhone</td>\n",
       "    </tr>\n",
       "    <tr>\n",
       "      <td>85</td>\n",
       "      <td>1098273815690268672</td>\n",
       "      <td>2019-02-20 17:30:57</td>\n",
       "      <td>@kchonyc @honglaklee Thank you Kyunghyun! No n...</td>\n",
       "      <td>54</td>\n",
       "      <td>1</td>\n",
       "      <td>Twitter Web Client</td>\n",
       "    </tr>\n",
       "    <tr>\n",
       "      <td>54</td>\n",
       "      <td>1114316960341172225</td>\n",
       "      <td>2019-04-06 00:00:41</td>\n",
       "      <td>@KelvinPaschal @goodfellow_ian @tim_cook Yes, ...</td>\n",
       "      <td>74</td>\n",
       "      <td>1</td>\n",
       "      <td>Twitter Web Client</td>\n",
       "    </tr>\n",
       "  </tbody>\n",
       "</table>\n",
       "<p>200 rows × 6 columns</p>\n",
       "</div>"
      ],
      "text/plain": [
       "                      id          created_at  \\\n",
       "196   973781600751308800 2018-03-14 04:43:20   \n",
       "173  1006204761543081984 2018-06-11 16:01:24   \n",
       "34   1144668413140144128 2019-06-28 18:06:31   \n",
       "144  1045399898537873408 2018-09-27 19:48:53   \n",
       "77   1101150955389706243 2019-02-28 16:03:40   \n",
       "..                   ...                 ...   \n",
       "17   1207755422603464704 2019-12-19 20:11:46   \n",
       "188   988455729194389504 2018-04-23 16:33:05   \n",
       "57   1113501712457793536 2019-04-03 18:01:10   \n",
       "85   1098273815690268672 2019-02-20 17:30:57   \n",
       "54   1114316960341172225 2019-04-06 00:00:41   \n",
       "\n",
       "                                                  text  favorite_count  \\\n",
       "196  Stephen Hawking once said, \"I'm not afraid of ...           14966   \n",
       "173  AI+ethics is important, but has been partly hi...            6364   \n",
       "34   I’m glad DeepNude is dead. As a person and as ...            8035   \n",
       "144  Deep Learning is getting really good on Big Da...            5052   \n",
       "77   AI For Everyone is now available on @Coursera!...            4243   \n",
       "..                                                 ...             ...   \n",
       "17   The community has grown so much that we no lon...             121   \n",
       "188  @amritrp @CadeMetz Difference between AI vs. e...              16   \n",
       "57   @ruskin147 @BBCTechTent Great to see you and t...              13   \n",
       "85   @kchonyc @honglaklee Thank you Kyunghyun! No n...              54   \n",
       "54   @KelvinPaschal @goodfellow_ian @tim_cook Yes, ...              74   \n",
       "\n",
       "     retweeted_count              source  \n",
       "196             4279  Twitter Web Client  \n",
       "173             2391  Twitter Web Client  \n",
       "34              1934  Twitter Web Client  \n",
       "144             1442  Twitter Web Client  \n",
       "77              1409  Twitter Web Client  \n",
       "..               ...                 ...  \n",
       "17                 3     Twitter Web App  \n",
       "188                2  Twitter Web Client  \n",
       "57                 2  Twitter for iPhone  \n",
       "85                 1  Twitter Web Client  \n",
       "54                 1  Twitter Web Client  \n",
       "\n",
       "[200 rows x 6 columns]"
      ]
     },
     "execution_count": 43,
     "metadata": {},
     "output_type": "execute_result"
    }
   ],
   "source": [
    "df.sort_values('retweeted_count', ascending= False)"
   ]
  },
  {
   "cell_type": "code",
   "execution_count": 44,
   "metadata": {
    "scrolled": true
   },
   "outputs": [
    {
     "data": {
      "text/html": [
       "<div>\n",
       "<style scoped>\n",
       "    .dataframe tbody tr th:only-of-type {\n",
       "        vertical-align: middle;\n",
       "    }\n",
       "\n",
       "    .dataframe tbody tr th {\n",
       "        vertical-align: top;\n",
       "    }\n",
       "\n",
       "    .dataframe thead th {\n",
       "        text-align: right;\n",
       "    }\n",
       "</style>\n",
       "<table border=\"1\" class=\"dataframe\">\n",
       "  <thead>\n",
       "    <tr style=\"text-align: right;\">\n",
       "      <th></th>\n",
       "      <th>text</th>\n",
       "      <th>favorite_count</th>\n",
       "    </tr>\n",
       "  </thead>\n",
       "  <tbody>\n",
       "    <tr>\n",
       "      <td>196</td>\n",
       "      <td>Stephen Hawking once said, \"I'm not afraid of ...</td>\n",
       "      <td>14966</td>\n",
       "    </tr>\n",
       "    <tr>\n",
       "      <td>83</td>\n",
       "      <td>Announcing Nova Ng, our first daughter. Plus, ...</td>\n",
       "      <td>9578</td>\n",
       "    </tr>\n",
       "    <tr>\n",
       "      <td>34</td>\n",
       "      <td>I’m glad DeepNude is dead. As a person and as ...</td>\n",
       "      <td>8035</td>\n",
       "    </tr>\n",
       "  </tbody>\n",
       "</table>\n",
       "</div>"
      ],
      "text/plain": [
       "                                                  text  favorite_count\n",
       "196  Stephen Hawking once said, \"I'm not afraid of ...           14966\n",
       "83   Announcing Nova Ng, our first daughter. Plus, ...            9578\n",
       "34   I’m glad DeepNude is dead. As a person and as ...            8035"
      ]
     },
     "execution_count": 44,
     "metadata": {},
     "output_type": "execute_result"
    }
   ],
   "source": [
    "df.sort_values('favorite_count', ascending= False)[['text', 'favorite_count']].iloc[0:3]"
   ]
  },
  {
   "cell_type": "code",
   "execution_count": 45,
   "metadata": {
    "scrolled": true
   },
   "outputs": [
    {
     "data": {
      "text/plain": [
       "'Stephen Hawking once said, \"I\\'m not afraid of death, but I\\'m in no hurry to die. I have so much I want to do first.… https://t.co/fDFfvPZX2l'"
      ]
     },
     "execution_count": 45,
     "metadata": {},
     "output_type": "execute_result"
    }
   ],
   "source": [
    "df.sort_values('favorite_count', ascending= False)['text'].iloc[0]"
   ]
  },
  {
   "cell_type": "markdown",
   "metadata": {},
   "source": [
    "# Distribution of Retweet & Favorite Counts"
   ]
  },
  {
   "cell_type": "code",
   "execution_count": 46,
   "metadata": {},
   "outputs": [
    {
     "data": {
      "text/html": [
       "<div>\n",
       "<style scoped>\n",
       "    .dataframe tbody tr th:only-of-type {\n",
       "        vertical-align: middle;\n",
       "    }\n",
       "\n",
       "    .dataframe tbody tr th {\n",
       "        vertical-align: top;\n",
       "    }\n",
       "\n",
       "    .dataframe thead th {\n",
       "        text-align: right;\n",
       "    }\n",
       "</style>\n",
       "<table border=\"1\" class=\"dataframe\">\n",
       "  <thead>\n",
       "    <tr style=\"text-align: right;\">\n",
       "      <th></th>\n",
       "      <th>id</th>\n",
       "      <th>created_at</th>\n",
       "      <th>text</th>\n",
       "      <th>favorite_count</th>\n",
       "      <th>retweeted_count</th>\n",
       "      <th>source</th>\n",
       "    </tr>\n",
       "  </thead>\n",
       "  <tbody>\n",
       "    <tr>\n",
       "      <td>0</td>\n",
       "      <td>1230930707557388289</td>\n",
       "      <td>2020-02-21 19:02:04</td>\n",
       "      <td>Chatting with @lexfridman about ML, rise of MO...</td>\n",
       "      <td>1778</td>\n",
       "      <td>307</td>\n",
       "      <td>Twitter Web App</td>\n",
       "    </tr>\n",
       "    <tr>\n",
       "      <td>1</td>\n",
       "      <td>1227722012560384000</td>\n",
       "      <td>2020-02-12 22:31:52</td>\n",
       "      <td>Consumer internet companies with 1B+ users hav...</td>\n",
       "      <td>948</td>\n",
       "      <td>348</td>\n",
       "      <td>Twitter Web App</td>\n",
       "    </tr>\n",
       "    <tr>\n",
       "      <td>2</td>\n",
       "      <td>1224037549934383104</td>\n",
       "      <td>2020-02-02 18:31:08</td>\n",
       "      <td>Happy multi-cultural palindrome day! Works whe...</td>\n",
       "      <td>2452</td>\n",
       "      <td>517</td>\n",
       "      <td>Twitter Web App</td>\n",
       "    </tr>\n",
       "    <tr>\n",
       "      <td>3</td>\n",
       "      <td>1223344163682258944</td>\n",
       "      <td>2020-01-31 20:35:51</td>\n",
       "      <td>Great chatting with @lexfridman. We talked abo...</td>\n",
       "      <td>2858</td>\n",
       "      <td>218</td>\n",
       "      <td>Twitter Web App</td>\n",
       "    </tr>\n",
       "    <tr>\n",
       "      <td>4</td>\n",
       "      <td>1221969387042660353</td>\n",
       "      <td>2020-01-28 01:32:59</td>\n",
       "      <td>Great having @EricTopol visit just now. His bo...</td>\n",
       "      <td>794</td>\n",
       "      <td>98</td>\n",
       "      <td>Twitter Web App</td>\n",
       "    </tr>\n",
       "  </tbody>\n",
       "</table>\n",
       "</div>"
      ],
      "text/plain": [
       "                    id          created_at  \\\n",
       "0  1230930707557388289 2020-02-21 19:02:04   \n",
       "1  1227722012560384000 2020-02-12 22:31:52   \n",
       "2  1224037549934383104 2020-02-02 18:31:08   \n",
       "3  1223344163682258944 2020-01-31 20:35:51   \n",
       "4  1221969387042660353 2020-01-28 01:32:59   \n",
       "\n",
       "                                                text  favorite_count  \\\n",
       "0  Chatting with @lexfridman about ML, rise of MO...            1778   \n",
       "1  Consumer internet companies with 1B+ users hav...             948   \n",
       "2  Happy multi-cultural palindrome day! Works whe...            2452   \n",
       "3  Great chatting with @lexfridman. We talked abo...            2858   \n",
       "4  Great having @EricTopol visit just now. His bo...             794   \n",
       "\n",
       "   retweeted_count           source  \n",
       "0              307  Twitter Web App  \n",
       "1              348  Twitter Web App  \n",
       "2              517  Twitter Web App  \n",
       "3              218  Twitter Web App  \n",
       "4               98  Twitter Web App  "
      ]
     },
     "execution_count": 46,
     "metadata": {},
     "output_type": "execute_result"
    }
   ],
   "source": [
    "df.head()"
   ]
  },
  {
   "cell_type": "code",
   "execution_count": 47,
   "metadata": {},
   "outputs": [],
   "source": [
    "%config InlineBacend.figure_format = 'retina'\n",
    "import seaborn as sns\n",
    "import matplotlib.pyplot as plt"
   ]
  },
  {
   "cell_type": "code",
   "execution_count": 48,
   "metadata": {},
   "outputs": [
    {
     "data": {
      "text/plain": [
       "(-100, 15000)"
      ]
     },
     "execution_count": 48,
     "metadata": {},
     "output_type": "execute_result"
    },
    {
     "data": {
      "image/png": "[encoded data removed]",
      "text/plain": [
       "<Figure size 432x288 with 1 Axes>"
      ]
     },
     "metadata": {
      "needs_background": "light"
     },
     "output_type": "display_data"
    }
   ],
   "source": [
    "sns.distplot(df.favorite_count, kde=False ,color='blue')\n",
    "plt.xlim(-100,15000)"
   ]
  },
  {
   "cell_type": "code",
   "execution_count": 49,
   "metadata": {},
   "outputs": [
    {
     "data": {
      "text/plain": [
       "(-100, 5000)"
      ]
     },
     "execution_count": 49,
     "metadata": {},
     "output_type": "execute_result"
    },
    {
     "data": {
      "image/png": "[encoded data removed]",
      "text/plain": [
       "<Figure size 720x432 with 1 Axes>"
      ]
     },
     "metadata": {
      "needs_background": "light"
     },
     "output_type": "display_data"
    }
   ],
   "source": [
    "plt.figure(figsize=(10,6))\n",
    "sns.distplot(df.retweeted_count, color='red')\n",
    "plt.xlim(-100,5000)"
   ]
  },
  {
   "cell_type": "code",
   "execution_count": 50,
   "metadata": {},
   "outputs": [
    {
     "data": {
      "text/plain": [
       "1283.485"
      ]
     },
     "execution_count": 50,
     "metadata": {},
     "output_type": "execute_result"
    }
   ],
   "source": [
    "df['favorite_count'].mean()"
   ]
  },
  {
   "cell_type": "code",
   "execution_count": 51,
   "metadata": {},
   "outputs": [
    {
     "data": {
      "text/plain": [
       "1738.4451233818259"
      ]
     },
     "execution_count": 51,
     "metadata": {},
     "output_type": "execute_result"
    }
   ],
   "source": [
    "df['favorite_count'].std()"
   ]
  },
  {
   "cell_type": "markdown",
   "metadata": {},
   "source": [
    "## Distribution of Tweet-Hour  "
   ]
  },
  {
   "cell_type": "code",
   "execution_count": 52,
   "metadata": {
    "run_control": {
     "marked": true
    }
   },
   "outputs": [
    {
     "data": {
      "text/html": [
       "<div>\n",
       "<style scoped>\n",
       "    .dataframe tbody tr th:only-of-type {\n",
       "        vertical-align: middle;\n",
       "    }\n",
       "\n",
       "    .dataframe tbody tr th {\n",
       "        vertical-align: top;\n",
       "    }\n",
       "\n",
       "    .dataframe thead th {\n",
       "        text-align: right;\n",
       "    }\n",
       "</style>\n",
       "<table border=\"1\" class=\"dataframe\">\n",
       "  <thead>\n",
       "    <tr style=\"text-align: right;\">\n",
       "      <th></th>\n",
       "      <th>id</th>\n",
       "      <th>created_at</th>\n",
       "      <th>text</th>\n",
       "      <th>favorite_count</th>\n",
       "      <th>retweeted_count</th>\n",
       "      <th>source</th>\n",
       "    </tr>\n",
       "  </thead>\n",
       "  <tbody>\n",
       "    <tr>\n",
       "      <td>0</td>\n",
       "      <td>1230930707557388289</td>\n",
       "      <td>2020-02-21 19:02:04</td>\n",
       "      <td>Chatting with @lexfridman about ML, rise of MO...</td>\n",
       "      <td>1778</td>\n",
       "      <td>307</td>\n",
       "      <td>Twitter Web App</td>\n",
       "    </tr>\n",
       "    <tr>\n",
       "      <td>1</td>\n",
       "      <td>1227722012560384000</td>\n",
       "      <td>2020-02-12 22:31:52</td>\n",
       "      <td>Consumer internet companies with 1B+ users hav...</td>\n",
       "      <td>948</td>\n",
       "      <td>348</td>\n",
       "      <td>Twitter Web App</td>\n",
       "    </tr>\n",
       "    <tr>\n",
       "      <td>2</td>\n",
       "      <td>1224037549934383104</td>\n",
       "      <td>2020-02-02 18:31:08</td>\n",
       "      <td>Happy multi-cultural palindrome day! Works whe...</td>\n",
       "      <td>2452</td>\n",
       "      <td>517</td>\n",
       "      <td>Twitter Web App</td>\n",
       "    </tr>\n",
       "    <tr>\n",
       "      <td>3</td>\n",
       "      <td>1223344163682258944</td>\n",
       "      <td>2020-01-31 20:35:51</td>\n",
       "      <td>Great chatting with @lexfridman. We talked abo...</td>\n",
       "      <td>2858</td>\n",
       "      <td>218</td>\n",
       "      <td>Twitter Web App</td>\n",
       "    </tr>\n",
       "    <tr>\n",
       "      <td>4</td>\n",
       "      <td>1221969387042660353</td>\n",
       "      <td>2020-01-28 01:32:59</td>\n",
       "      <td>Great having @EricTopol visit just now. His bo...</td>\n",
       "      <td>794</td>\n",
       "      <td>98</td>\n",
       "      <td>Twitter Web App</td>\n",
       "    </tr>\n",
       "  </tbody>\n",
       "</table>\n",
       "</div>"
      ],
      "text/plain": [
       "                    id          created_at  \\\n",
       "0  1230930707557388289 2020-02-21 19:02:04   \n",
       "1  1227722012560384000 2020-02-12 22:31:52   \n",
       "2  1224037549934383104 2020-02-02 18:31:08   \n",
       "3  1223344163682258944 2020-01-31 20:35:51   \n",
       "4  1221969387042660353 2020-01-28 01:32:59   \n",
       "\n",
       "                                                text  favorite_count  \\\n",
       "0  Chatting with @lexfridman about ML, rise of MO...            1778   \n",
       "1  Consumer internet companies with 1B+ users hav...             948   \n",
       "2  Happy multi-cultural palindrome day! Works whe...            2452   \n",
       "3  Great chatting with @lexfridman. We talked abo...            2858   \n",
       "4  Great having @EricTopol visit just now. His bo...             794   \n",
       "\n",
       "   retweeted_count           source  \n",
       "0              307  Twitter Web App  \n",
       "1              348  Twitter Web App  \n",
       "2              517  Twitter Web App  \n",
       "3              218  Twitter Web App  \n",
       "4               98  Twitter Web App  "
      ]
     },
     "execution_count": 52,
     "metadata": {},
     "output_type": "execute_result"
    }
   ],
   "source": [
    "df.head()"
   ]
  },
  {
   "cell_type": "code",
   "execution_count": 53,
   "metadata": {
    "run_control": {
     "marked": true
    }
   },
   "outputs": [],
   "source": [
    "df['tweet_hour'] = df['created_at'].apply(lambda x: x.strftime('%H'))"
   ]
  },
  {
   "cell_type": "code",
   "execution_count": 54,
   "metadata": {},
   "outputs": [
    {
     "data": {
      "text/html": [
       "<div>\n",
       "<style scoped>\n",
       "    .dataframe tbody tr th:only-of-type {\n",
       "        vertical-align: middle;\n",
       "    }\n",
       "\n",
       "    .dataframe tbody tr th {\n",
       "        vertical-align: top;\n",
       "    }\n",
       "\n",
       "    .dataframe thead th {\n",
       "        text-align: right;\n",
       "    }\n",
       "</style>\n",
       "<table border=\"1\" class=\"dataframe\">\n",
       "  <thead>\n",
       "    <tr style=\"text-align: right;\">\n",
       "      <th></th>\n",
       "      <th>id</th>\n",
       "      <th>created_at</th>\n",
       "      <th>text</th>\n",
       "      <th>favorite_count</th>\n",
       "      <th>retweeted_count</th>\n",
       "      <th>source</th>\n",
       "      <th>tweet_hour</th>\n",
       "    </tr>\n",
       "  </thead>\n",
       "  <tbody>\n",
       "    <tr>\n",
       "      <td>0</td>\n",
       "      <td>1230930707557388289</td>\n",
       "      <td>2020-02-21 19:02:04</td>\n",
       "      <td>Chatting with @lexfridman about ML, rise of MO...</td>\n",
       "      <td>1778</td>\n",
       "      <td>307</td>\n",
       "      <td>Twitter Web App</td>\n",
       "      <td>19</td>\n",
       "    </tr>\n",
       "    <tr>\n",
       "      <td>1</td>\n",
       "      <td>1227722012560384000</td>\n",
       "      <td>2020-02-12 22:31:52</td>\n",
       "      <td>Consumer internet companies with 1B+ users hav...</td>\n",
       "      <td>948</td>\n",
       "      <td>348</td>\n",
       "      <td>Twitter Web App</td>\n",
       "      <td>22</td>\n",
       "    </tr>\n",
       "    <tr>\n",
       "      <td>2</td>\n",
       "      <td>1224037549934383104</td>\n",
       "      <td>2020-02-02 18:31:08</td>\n",
       "      <td>Happy multi-cultural palindrome day! Works whe...</td>\n",
       "      <td>2452</td>\n",
       "      <td>517</td>\n",
       "      <td>Twitter Web App</td>\n",
       "      <td>18</td>\n",
       "    </tr>\n",
       "    <tr>\n",
       "      <td>3</td>\n",
       "      <td>1223344163682258944</td>\n",
       "      <td>2020-01-31 20:35:51</td>\n",
       "      <td>Great chatting with @lexfridman. We talked abo...</td>\n",
       "      <td>2858</td>\n",
       "      <td>218</td>\n",
       "      <td>Twitter Web App</td>\n",
       "      <td>20</td>\n",
       "    </tr>\n",
       "    <tr>\n",
       "      <td>4</td>\n",
       "      <td>1221969387042660353</td>\n",
       "      <td>2020-01-28 01:32:59</td>\n",
       "      <td>Great having @EricTopol visit just now. His bo...</td>\n",
       "      <td>794</td>\n",
       "      <td>98</td>\n",
       "      <td>Twitter Web App</td>\n",
       "      <td>01</td>\n",
       "    </tr>\n",
       "  </tbody>\n",
       "</table>\n",
       "</div>"
      ],
      "text/plain": [
       "                    id          created_at  \\\n",
       "0  1230930707557388289 2020-02-21 19:02:04   \n",
       "1  1227722012560384000 2020-02-12 22:31:52   \n",
       "2  1224037549934383104 2020-02-02 18:31:08   \n",
       "3  1223344163682258944 2020-01-31 20:35:51   \n",
       "4  1221969387042660353 2020-01-28 01:32:59   \n",
       "\n",
       "                                                text  favorite_count  \\\n",
       "0  Chatting with @lexfridman about ML, rise of MO...            1778   \n",
       "1  Consumer internet companies with 1B+ users hav...             948   \n",
       "2  Happy multi-cultural palindrome day! Works whe...            2452   \n",
       "3  Great chatting with @lexfridman. We talked abo...            2858   \n",
       "4  Great having @EricTopol visit just now. His bo...             794   \n",
       "\n",
       "   retweeted_count           source tweet_hour  \n",
       "0              307  Twitter Web App         19  \n",
       "1              348  Twitter Web App         22  \n",
       "2              517  Twitter Web App         18  \n",
       "3              218  Twitter Web App         20  \n",
       "4               98  Twitter Web App         01  "
      ]
     },
     "execution_count": 54,
     "metadata": {},
     "output_type": "execute_result"
    }
   ],
   "source": [
    "df.head()"
   ]
  },
  {
   "cell_type": "code",
   "execution_count": 55,
   "metadata": {
    "run_control": {
     "marked": true
    }
   },
   "outputs": [],
   "source": [
    "df['tweet_hour'] = pd.to_numeric(df['tweet_hour'])"
   ]
  },
  {
   "cell_type": "code",
   "execution_count": 56,
   "metadata": {},
   "outputs": [
    {
     "name": "stdout",
     "output_type": "stream",
     "text": [
      "<class 'pandas.core.frame.DataFrame'>\n",
      "RangeIndex: 200 entries, 0 to 199\n",
      "Data columns (total 7 columns):\n",
      "id                 200 non-null int64\n",
      "created_at         200 non-null datetime64[ns]\n",
      "text               200 non-null object\n",
      "favorite_count     200 non-null int64\n",
      "retweeted_count    200 non-null int64\n",
      "source             200 non-null object\n",
      "tweet_hour         200 non-null int64\n",
      "dtypes: datetime64[ns](1), int64(4), object(2)\n",
      "memory usage: 11.1+ KB\n"
     ]
    }
   ],
   "source": [
    "df.info()"
   ]
  },
  {
   "cell_type": "code",
   "execution_count": 57,
   "metadata": {
    "run_control": {
     "marked": true
    }
   },
   "outputs": [
    {
     "data": {
      "text/plain": [
       "<matplotlib.axes._subplots.AxesSubplot at 0x7ffa6e4dc390>"
      ]
     },
     "execution_count": 57,
     "metadata": {},
     "output_type": "execute_result"
    },
    {
     "data": {
      "image/png": "[encoded data removed]",
      "text/plain": [
       "<Figure size 720x432 with 1 Axes>"
      ]
     },
     "metadata": {
      "needs_background": "light"
     },
     "output_type": "display_data"
    }
   ],
   "source": [
    "plt.figure(figsize=(10,6))\n",
    "sns.distplot(df['tweet_hour'], kde=True, color='blue')"
   ]
  },
  {
   "cell_type": "code",
   "execution_count": 58,
   "metadata": {
    "run_control": {
     "marked": true
    }
   },
   "outputs": [],
   "source": [
    "df['days'] = df['created_at'].dt.weekday_name"
   ]
  },
  {
   "cell_type": "code",
   "execution_count": 59,
   "metadata": {},
   "outputs": [
    {
     "data": {
      "text/html": [
       "<div>\n",
       "<style scoped>\n",
       "    .dataframe tbody tr th:only-of-type {\n",
       "        vertical-align: middle;\n",
       "    }\n",
       "\n",
       "    .dataframe tbody tr th {\n",
       "        vertical-align: top;\n",
       "    }\n",
       "\n",
       "    .dataframe thead th {\n",
       "        text-align: right;\n",
       "    }\n",
       "</style>\n",
       "<table border=\"1\" class=\"dataframe\">\n",
       "  <thead>\n",
       "    <tr style=\"text-align: right;\">\n",
       "      <th></th>\n",
       "      <th>id</th>\n",
       "      <th>created_at</th>\n",
       "      <th>text</th>\n",
       "      <th>favorite_count</th>\n",
       "      <th>retweeted_count</th>\n",
       "      <th>source</th>\n",
       "      <th>tweet_hour</th>\n",
       "      <th>days</th>\n",
       "    </tr>\n",
       "  </thead>\n",
       "  <tbody>\n",
       "    <tr>\n",
       "      <td>0</td>\n",
       "      <td>1230930707557388289</td>\n",
       "      <td>2020-02-21 19:02:04</td>\n",
       "      <td>Chatting with @lexfridman about ML, rise of MO...</td>\n",
       "      <td>1778</td>\n",
       "      <td>307</td>\n",
       "      <td>Twitter Web App</td>\n",
       "      <td>19</td>\n",
       "      <td>Friday</td>\n",
       "    </tr>\n",
       "    <tr>\n",
       "      <td>1</td>\n",
       "      <td>1227722012560384000</td>\n",
       "      <td>2020-02-12 22:31:52</td>\n",
       "      <td>Consumer internet companies with 1B+ users hav...</td>\n",
       "      <td>948</td>\n",
       "      <td>348</td>\n",
       "      <td>Twitter Web App</td>\n",
       "      <td>22</td>\n",
       "      <td>Wednesday</td>\n",
       "    </tr>\n",
       "    <tr>\n",
       "      <td>2</td>\n",
       "      <td>1224037549934383104</td>\n",
       "      <td>2020-02-02 18:31:08</td>\n",
       "      <td>Happy multi-cultural palindrome day! Works whe...</td>\n",
       "      <td>2452</td>\n",
       "      <td>517</td>\n",
       "      <td>Twitter Web App</td>\n",
       "      <td>18</td>\n",
       "      <td>Sunday</td>\n",
       "    </tr>\n",
       "    <tr>\n",
       "      <td>3</td>\n",
       "      <td>1223344163682258944</td>\n",
       "      <td>2020-01-31 20:35:51</td>\n",
       "      <td>Great chatting with @lexfridman. We talked abo...</td>\n",
       "      <td>2858</td>\n",
       "      <td>218</td>\n",
       "      <td>Twitter Web App</td>\n",
       "      <td>20</td>\n",
       "      <td>Friday</td>\n",
       "    </tr>\n",
       "    <tr>\n",
       "      <td>4</td>\n",
       "      <td>1221969387042660353</td>\n",
       "      <td>2020-01-28 01:32:59</td>\n",
       "      <td>Great having @EricTopol visit just now. His bo...</td>\n",
       "      <td>794</td>\n",
       "      <td>98</td>\n",
       "      <td>Twitter Web App</td>\n",
       "      <td>1</td>\n",
       "      <td>Tuesday</td>\n",
       "    </tr>\n",
       "  </tbody>\n",
       "</table>\n",
       "</div>"
      ],
      "text/plain": [
       "                    id          created_at  \\\n",
       "0  1230930707557388289 2020-02-21 19:02:04   \n",
       "1  1227722012560384000 2020-02-12 22:31:52   \n",
       "2  1224037549934383104 2020-02-02 18:31:08   \n",
       "3  1223344163682258944 2020-01-31 20:35:51   \n",
       "4  1221969387042660353 2020-01-28 01:32:59   \n",
       "\n",
       "                                                text  favorite_count  \\\n",
       "0  Chatting with @lexfridman about ML, rise of MO...            1778   \n",
       "1  Consumer internet companies with 1B+ users hav...             948   \n",
       "2  Happy multi-cultural palindrome day! Works whe...            2452   \n",
       "3  Great chatting with @lexfridman. We talked abo...            2858   \n",
       "4  Great having @EricTopol visit just now. His bo...             794   \n",
       "\n",
       "   retweeted_count           source  tweet_hour       days  \n",
       "0              307  Twitter Web App          19     Friday  \n",
       "1              348  Twitter Web App          22  Wednesday  \n",
       "2              517  Twitter Web App          18     Sunday  \n",
       "3              218  Twitter Web App          20     Friday  \n",
       "4               98  Twitter Web App           1    Tuesday  "
      ]
     },
     "execution_count": 59,
     "metadata": {},
     "output_type": "execute_result"
    }
   ],
   "source": [
    "df.head()"
   ]
  },
  {
   "cell_type": "code",
   "execution_count": 60,
   "metadata": {
    "run_control": {
     "marked": false
    }
   },
   "outputs": [],
   "source": [
    "gun_freq = df.groupby('days').count()['id']"
   ]
  },
  {
   "cell_type": "code",
   "execution_count": 61,
   "metadata": {
    "run_control": {
     "marked": false
    }
   },
   "outputs": [
    {
     "data": {
      "text/plain": [
       "<matplotlib.axes._subplots.AxesSubplot at 0x7ffa6e4d9208>"
      ]
     },
     "execution_count": 61,
     "metadata": {},
     "output_type": "execute_result"
    },
    {
     "data": {
      "image/png": "[encoded data removed]",
      "text/plain": [
       "<Figure size 432x288 with 1 Axes>"
      ]
     },
     "metadata": {
      "needs_background": "light"
     },
     "output_type": "display_data"
    }
   ],
   "source": [
    "gun_freq.plot.bar(x='days', y='id')"
   ]
  },
  {
   "cell_type": "markdown",
   "metadata": {},
   "source": [
    "## Source of Tweets"
   ]
  },
  {
   "cell_type": "code",
   "execution_count": 62,
   "metadata": {
    "run_control": {
     "marked": true
    }
   },
   "outputs": [],
   "source": [
    "source_freq = df.groupby('source').count()['id']"
   ]
  },
  {
   "cell_type": "code",
   "execution_count": 63,
   "metadata": {
    "run_control": {
     "marked": true
    }
   },
   "outputs": [
    {
     "data": {
      "text/plain": [
       "<matplotlib.axes._subplots.AxesSubplot at 0x7ffa6e3f7e80>"
      ]
     },
     "execution_count": 63,
     "metadata": {},
     "output_type": "execute_result"
    },
    {
     "data": {
      "image/png": "[encoded data removed]",
      "text/plain": [
       "<Figure size 432x288 with 1 Axes>"
      ]
     },
     "metadata": {
      "needs_background": "light"
     },
     "output_type": "display_data"
    }
   ],
   "source": [
    "source_freq.plot.bar(x='source', y='id')"
   ]
  },
  {
   "cell_type": "code",
   "execution_count": 64,
   "metadata": {
    "run_control": {
     "marked": true
    }
   },
   "outputs": [
    {
     "data": {
      "text/plain": [
       "source\n",
       "Buffer                  6\n",
       "Twitter Web App        28\n",
       "Twitter Web Client    148\n",
       "Twitter for iPad        1\n",
       "Twitter for iPhone     17\n",
       "Name: id, dtype: int64"
      ]
     },
     "execution_count": 64,
     "metadata": {},
     "output_type": "execute_result"
    }
   ],
   "source": [
    "df.groupby('source').count()['id']"
   ]
  },
  {
   "cell_type": "code",
   "execution_count": 65,
   "metadata": {
    "run_control": {
     "marked": true
    },
    "scrolled": true
   },
   "outputs": [
    {
     "data": {
      "text/html": [
       "<div>\n",
       "<style scoped>\n",
       "    .dataframe tbody tr th:only-of-type {\n",
       "        vertical-align: middle;\n",
       "    }\n",
       "\n",
       "    .dataframe tbody tr th {\n",
       "        vertical-align: top;\n",
       "    }\n",
       "\n",
       "    .dataframe thead th {\n",
       "        text-align: right;\n",
       "    }\n",
       "</style>\n",
       "<table border=\"1\" class=\"dataframe\">\n",
       "  <thead>\n",
       "    <tr style=\"text-align: right;\">\n",
       "      <th></th>\n",
       "      <th></th>\n",
       "      <th></th>\n",
       "      <th>tweet_hour</th>\n",
       "    </tr>\n",
       "    <tr>\n",
       "      <th>source</th>\n",
       "      <th>tweet_hour</th>\n",
       "      <th>days</th>\n",
       "      <th></th>\n",
       "    </tr>\n",
       "  </thead>\n",
       "  <tbody>\n",
       "    <tr>\n",
       "      <td rowspan=\"5\" valign=\"top\">Buffer</td>\n",
       "      <td>15</td>\n",
       "      <td>Thursday</td>\n",
       "      <td>1</td>\n",
       "    </tr>\n",
       "    <tr>\n",
       "      <td>16</td>\n",
       "      <td>Monday</td>\n",
       "      <td>1</td>\n",
       "    </tr>\n",
       "    <tr>\n",
       "      <td rowspan=\"2\" valign=\"top\">17</td>\n",
       "      <td>Monday</td>\n",
       "      <td>1</td>\n",
       "    </tr>\n",
       "    <tr>\n",
       "      <td>Tuesday</td>\n",
       "      <td>1</td>\n",
       "    </tr>\n",
       "    <tr>\n",
       "      <td>20</td>\n",
       "      <td>Friday</td>\n",
       "      <td>1</td>\n",
       "    </tr>\n",
       "    <tr>\n",
       "      <td>...</td>\n",
       "      <td>...</td>\n",
       "      <td>...</td>\n",
       "      <td>...</td>\n",
       "    </tr>\n",
       "    <tr>\n",
       "      <td rowspan=\"5\" valign=\"top\">Twitter for iPhone</td>\n",
       "      <td>17</td>\n",
       "      <td>Wednesday</td>\n",
       "      <td>1</td>\n",
       "    </tr>\n",
       "    <tr>\n",
       "      <td>18</td>\n",
       "      <td>Wednesday</td>\n",
       "      <td>1</td>\n",
       "    </tr>\n",
       "    <tr>\n",
       "      <td>19</td>\n",
       "      <td>Thursday</td>\n",
       "      <td>1</td>\n",
       "    </tr>\n",
       "    <tr>\n",
       "      <td rowspan=\"2\" valign=\"top\">20</td>\n",
       "      <td>Sunday</td>\n",
       "      <td>1</td>\n",
       "    </tr>\n",
       "    <tr>\n",
       "      <td>Tuesday</td>\n",
       "      <td>2</td>\n",
       "    </tr>\n",
       "  </tbody>\n",
       "</table>\n",
       "<p>107 rows × 1 columns</p>\n",
       "</div>"
      ],
      "text/plain": [
       "                                         tweet_hour\n",
       "source             tweet_hour days                 \n",
       "Buffer             15         Thursday            1\n",
       "                   16         Monday              1\n",
       "                   17         Monday              1\n",
       "                              Tuesday             1\n",
       "                   20         Friday              1\n",
       "...                                             ...\n",
       "Twitter for iPhone 17         Wednesday           1\n",
       "                   18         Wednesday           1\n",
       "                   19         Thursday            1\n",
       "                   20         Sunday              1\n",
       "                              Tuesday             2\n",
       "\n",
       "[107 rows x 1 columns]"
      ]
     },
     "execution_count": 65,
     "metadata": {},
     "output_type": "execute_result"
    }
   ],
   "source": [
    "df.groupby(['source', 'tweet_hour','days'])[['tweet_hour']].count()"
   ]
  },
  {
   "cell_type": "markdown",
   "metadata": {},
   "source": [
    "## Followers and Friends Analysis"
   ]
  },
  {
   "cell_type": "code",
   "execution_count": 66,
   "metadata": {},
   "outputs": [],
   "source": [
    "user = api.get_user(id = 'AndrewYNg', count= 10000)"
   ]
  },
  {
   "cell_type": "code",
   "execution_count": 67,
   "metadata": {},
   "outputs": [],
   "source": [
    "friends = user.friends()\n",
    "followers = user.followers()"
   ]
  },
  {
   "cell_type": "code",
   "execution_count": 68,
   "metadata": {},
   "outputs": [],
   "source": [
    "def followers_df(follower):\n",
    "    idler = [i.id for i in follower]\n",
    "    df = pd.DataFrame(idler, columns=['id'])\n",
    "    \n",
    "    \n",
    "    df['created_at'] = [i.created_at for i in follower]\n",
    "    df['screen_name'] = [i.screen_name for i in follower]\n",
    "    df['location'] = [i.location for i in follower]\n",
    "    df['followers_count'] = [i.followers_count for i in follower]\n",
    "    df['statuses_count'] = [i.statuses_count for i in follower]\n",
    "    df['friends_count'] = [i.friends_count for i in follower]\n",
    "    df['favourites_count'] = [i.favourites_count for i in follower]\n",
    "    \n",
    "    return df"
   ]
  },
  {
   "cell_type": "code",
   "execution_count": 69,
   "metadata": {},
   "outputs": [],
   "source": [
    "df = followers_df(followers)"
   ]
  },
  {
   "cell_type": "code",
   "execution_count": 70,
   "metadata": {},
   "outputs": [
    {
     "data": {
      "text/html": [
       "<div>\n",
       "<style scoped>\n",
       "    .dataframe tbody tr th:only-of-type {\n",
       "        vertical-align: middle;\n",
       "    }\n",
       "\n",
       "    .dataframe tbody tr th {\n",
       "        vertical-align: top;\n",
       "    }\n",
       "\n",
       "    .dataframe thead th {\n",
       "        text-align: right;\n",
       "    }\n",
       "</style>\n",
       "<table border=\"1\" class=\"dataframe\">\n",
       "  <thead>\n",
       "    <tr style=\"text-align: right;\">\n",
       "      <th></th>\n",
       "      <th>id</th>\n",
       "      <th>created_at</th>\n",
       "      <th>screen_name</th>\n",
       "      <th>location</th>\n",
       "      <th>followers_count</th>\n",
       "      <th>statuses_count</th>\n",
       "      <th>friends_count</th>\n",
       "      <th>favourites_count</th>\n",
       "    </tr>\n",
       "  </thead>\n",
       "  <tbody>\n",
       "    <tr>\n",
       "      <td>0</td>\n",
       "      <td>944813202818215936</td>\n",
       "      <td>2017-12-24 06:13:16</td>\n",
       "      <td>ZhengZhongjes</td>\n",
       "      <td></td>\n",
       "      <td>2</td>\n",
       "      <td>0</td>\n",
       "      <td>10</td>\n",
       "      <td>0</td>\n",
       "    </tr>\n",
       "    <tr>\n",
       "      <td>1</td>\n",
       "      <td>1063735620</td>\n",
       "      <td>2013-01-05 19:02:04</td>\n",
       "      <td>nowedibles</td>\n",
       "      <td>Currently in Phoenix</td>\n",
       "      <td>143</td>\n",
       "      <td>1537</td>\n",
       "      <td>696</td>\n",
       "      <td>26312</td>\n",
       "    </tr>\n",
       "    <tr>\n",
       "      <td>2</td>\n",
       "      <td>42813709</td>\n",
       "      <td>2009-05-27 04:20:24</td>\n",
       "      <td>wrmntr</td>\n",
       "      <td>bangkok</td>\n",
       "      <td>65</td>\n",
       "      <td>25</td>\n",
       "      <td>15</td>\n",
       "      <td>5</td>\n",
       "    </tr>\n",
       "    <tr>\n",
       "      <td>3</td>\n",
       "      <td>2502971052</td>\n",
       "      <td>2014-05-18 01:18:16</td>\n",
       "      <td>BecDuane</td>\n",
       "      <td>New York City</td>\n",
       "      <td>52</td>\n",
       "      <td>45</td>\n",
       "      <td>186</td>\n",
       "      <td>22</td>\n",
       "    </tr>\n",
       "    <tr>\n",
       "      <td>4</td>\n",
       "      <td>1233272143669972992</td>\n",
       "      <td>2020-02-28 06:06:22</td>\n",
       "      <td>Geo50098532</td>\n",
       "      <td></td>\n",
       "      <td>0</td>\n",
       "      <td>0</td>\n",
       "      <td>32</td>\n",
       "      <td>1</td>\n",
       "    </tr>\n",
       "  </tbody>\n",
       "</table>\n",
       "</div>"
      ],
      "text/plain": [
       "                    id          created_at    screen_name  \\\n",
       "0   944813202818215936 2017-12-24 06:13:16  ZhengZhongjes   \n",
       "1           1063735620 2013-01-05 19:02:04     nowedibles   \n",
       "2             42813709 2009-05-27 04:20:24         wrmntr   \n",
       "3           2502971052 2014-05-18 01:18:16       BecDuane   \n",
       "4  1233272143669972992 2020-02-28 06:06:22    Geo50098532   \n",
       "\n",
       "               location  followers_count  statuses_count  friends_count  \\\n",
       "0                                      2               0             10   \n",
       "1  Currently in Phoenix              143            1537            696   \n",
       "2               bangkok               65              25             15   \n",
       "3         New York City               52              45            186   \n",
       "4                                      0               0             32   \n",
       "\n",
       "   favourites_count  \n",
       "0                 0  \n",
       "1             26312  \n",
       "2                 5  \n",
       "3                22  \n",
       "4                 1  "
      ]
     },
     "execution_count": 70,
     "metadata": {},
     "output_type": "execute_result"
    }
   ],
   "source": [
    "df.head()"
   ]
  },
  {
   "cell_type": "code",
   "execution_count": 71,
   "metadata": {},
   "outputs": [
    {
     "name": "stdout",
     "output_type": "stream",
     "text": [
      "<class 'pandas.core.frame.DataFrame'>\n",
      "RangeIndex: 20 entries, 0 to 19\n",
      "Data columns (total 8 columns):\n",
      "id                  20 non-null int64\n",
      "created_at          20 non-null datetime64[ns]\n",
      "screen_name         20 non-null object\n",
      "location            20 non-null object\n",
      "followers_count     20 non-null int64\n",
      "statuses_count      20 non-null int64\n",
      "friends_count       20 non-null int64\n",
      "favourites_count    20 non-null int64\n",
      "dtypes: datetime64[ns](1), int64(5), object(2)\n",
      "memory usage: 1.4+ KB\n"
     ]
    }
   ],
   "source": [
    "df.info()"
   ]
  },
  {
   "cell_type": "markdown",
   "metadata": {},
   "source": [
    "## Followers Segmentation"
   ]
  },
  {
   "cell_type": "code",
   "execution_count": 72,
   "metadata": {},
   "outputs": [],
   "source": [
    "df.index = df['screen_name']"
   ]
  },
  {
   "cell_type": "code",
   "execution_count": 73,
   "metadata": {},
   "outputs": [],
   "source": [
    "s_data = df[['followers_count', 'statuses_count']]"
   ]
  },
  {
   "cell_type": "code",
   "execution_count": 74,
   "metadata": {
    "scrolled": true
   },
   "outputs": [
    {
     "data": {
      "text/html": [
       "<div>\n",
       "<style scoped>\n",
       "    .dataframe tbody tr th:only-of-type {\n",
       "        vertical-align: middle;\n",
       "    }\n",
       "\n",
       "    .dataframe tbody tr th {\n",
       "        vertical-align: top;\n",
       "    }\n",
       "\n",
       "    .dataframe thead th {\n",
       "        text-align: right;\n",
       "    }\n",
       "</style>\n",
       "<table border=\"1\" class=\"dataframe\">\n",
       "  <thead>\n",
       "    <tr style=\"text-align: right;\">\n",
       "      <th></th>\n",
       "      <th>followers_count</th>\n",
       "      <th>statuses_count</th>\n",
       "    </tr>\n",
       "    <tr>\n",
       "      <th>screen_name</th>\n",
       "      <th></th>\n",
       "      <th></th>\n",
       "    </tr>\n",
       "  </thead>\n",
       "  <tbody>\n",
       "    <tr>\n",
       "      <td>ZhengZhongjes</td>\n",
       "      <td>2</td>\n",
       "      <td>0</td>\n",
       "    </tr>\n",
       "    <tr>\n",
       "      <td>nowedibles</td>\n",
       "      <td>143</td>\n",
       "      <td>1537</td>\n",
       "    </tr>\n",
       "    <tr>\n",
       "      <td>wrmntr</td>\n",
       "      <td>65</td>\n",
       "      <td>25</td>\n",
       "    </tr>\n",
       "    <tr>\n",
       "      <td>BecDuane</td>\n",
       "      <td>52</td>\n",
       "      <td>45</td>\n",
       "    </tr>\n",
       "    <tr>\n",
       "      <td>Geo50098532</td>\n",
       "      <td>0</td>\n",
       "      <td>0</td>\n",
       "    </tr>\n",
       "    <tr>\n",
       "      <td>PuneetMungali</td>\n",
       "      <td>3</td>\n",
       "      <td>1</td>\n",
       "    </tr>\n",
       "    <tr>\n",
       "      <td>TheHarshitGaur</td>\n",
       "      <td>48</td>\n",
       "      <td>102</td>\n",
       "    </tr>\n",
       "    <tr>\n",
       "      <td>AnttiHallavo</td>\n",
       "      <td>6</td>\n",
       "      <td>14</td>\n",
       "    </tr>\n",
       "    <tr>\n",
       "      <td>AshlarInnovati1</td>\n",
       "      <td>76</td>\n",
       "      <td>202</td>\n",
       "    </tr>\n",
       "    <tr>\n",
       "      <td>peterromero</td>\n",
       "      <td>65</td>\n",
       "      <td>8</td>\n",
       "    </tr>\n",
       "    <tr>\n",
       "      <td>liu_jingdong</td>\n",
       "      <td>0</td>\n",
       "      <td>0</td>\n",
       "    </tr>\n",
       "    <tr>\n",
       "      <td>blakkurrenr</td>\n",
       "      <td>133</td>\n",
       "      <td>48</td>\n",
       "    </tr>\n",
       "    <tr>\n",
       "      <td>AllisonLilie</td>\n",
       "      <td>39</td>\n",
       "      <td>14</td>\n",
       "    </tr>\n",
       "    <tr>\n",
       "      <td>rsmitawa</td>\n",
       "      <td>5</td>\n",
       "      <td>4</td>\n",
       "    </tr>\n",
       "    <tr>\n",
       "      <td>saimanojbera</td>\n",
       "      <td>23</td>\n",
       "      <td>6</td>\n",
       "    </tr>\n",
       "    <tr>\n",
       "      <td>TirathSBindra</td>\n",
       "      <td>1</td>\n",
       "      <td>2</td>\n",
       "    </tr>\n",
       "    <tr>\n",
       "      <td>koncle</td>\n",
       "      <td>2</td>\n",
       "      <td>10</td>\n",
       "    </tr>\n",
       "    <tr>\n",
       "      <td>07zhiping</td>\n",
       "      <td>0</td>\n",
       "      <td>2</td>\n",
       "    </tr>\n",
       "    <tr>\n",
       "      <td>anuj63</td>\n",
       "      <td>105</td>\n",
       "      <td>110</td>\n",
       "    </tr>\n",
       "    <tr>\n",
       "      <td>apbeaton</td>\n",
       "      <td>1138</td>\n",
       "      <td>23623</td>\n",
       "    </tr>\n",
       "  </tbody>\n",
       "</table>\n",
       "</div>"
      ],
      "text/plain": [
       "                 followers_count  statuses_count\n",
       "screen_name                                     \n",
       "ZhengZhongjes                  2               0\n",
       "nowedibles                   143            1537\n",
       "wrmntr                        65              25\n",
       "BecDuane                      52              45\n",
       "Geo50098532                    0               0\n",
       "PuneetMungali                  3               1\n",
       "TheHarshitGaur                48             102\n",
       "AnttiHallavo                   6              14\n",
       "AshlarInnovati1               76             202\n",
       "peterromero                   65               8\n",
       "liu_jingdong                   0               0\n",
       "blakkurrenr                  133              48\n",
       "AllisonLilie                  39              14\n",
       "rsmitawa                       5               4\n",
       "saimanojbera                  23               6\n",
       "TirathSBindra                  1               2\n",
       "koncle                         2              10\n",
       "07zhiping                      0               2\n",
       "anuj63                       105             110\n",
       "apbeaton                    1138           23623"
      ]
     },
     "execution_count": 74,
     "metadata": {},
     "output_type": "execute_result"
    }
   ],
   "source": [
    "s_data"
   ]
  },
  {
   "cell_type": "code",
   "execution_count": 75,
   "metadata": {},
   "outputs": [],
   "source": [
    "s_data['followers_count'] = s_data['followers_count'] +0.01"
   ]
  },
  {
   "cell_type": "code",
   "execution_count": 76,
   "metadata": {},
   "outputs": [],
   "source": [
    "s_data['statuses_count'] = s_data['statuses_count'] +0.01"
   ]
  },
  {
   "cell_type": "code",
   "execution_count": 77,
   "metadata": {
    "scrolled": true
   },
   "outputs": [
    {
     "data": {
      "text/html": [
       "<div>\n",
       "<style scoped>\n",
       "    .dataframe tbody tr th:only-of-type {\n",
       "        vertical-align: middle;\n",
       "    }\n",
       "\n",
       "    .dataframe tbody tr th {\n",
       "        vertical-align: top;\n",
       "    }\n",
       "\n",
       "    .dataframe thead th {\n",
       "        text-align: right;\n",
       "    }\n",
       "</style>\n",
       "<table border=\"1\" class=\"dataframe\">\n",
       "  <thead>\n",
       "    <tr style=\"text-align: right;\">\n",
       "      <th></th>\n",
       "      <th>followers_count</th>\n",
       "      <th>statuses_count</th>\n",
       "    </tr>\n",
       "    <tr>\n",
       "      <th>screen_name</th>\n",
       "      <th></th>\n",
       "      <th></th>\n",
       "    </tr>\n",
       "  </thead>\n",
       "  <tbody>\n",
       "    <tr>\n",
       "      <td>ZhengZhongjes</td>\n",
       "      <td>2.01</td>\n",
       "      <td>0.01</td>\n",
       "    </tr>\n",
       "    <tr>\n",
       "      <td>nowedibles</td>\n",
       "      <td>143.01</td>\n",
       "      <td>1537.01</td>\n",
       "    </tr>\n",
       "    <tr>\n",
       "      <td>wrmntr</td>\n",
       "      <td>65.01</td>\n",
       "      <td>25.01</td>\n",
       "    </tr>\n",
       "    <tr>\n",
       "      <td>BecDuane</td>\n",
       "      <td>52.01</td>\n",
       "      <td>45.01</td>\n",
       "    </tr>\n",
       "    <tr>\n",
       "      <td>Geo50098532</td>\n",
       "      <td>0.01</td>\n",
       "      <td>0.01</td>\n",
       "    </tr>\n",
       "    <tr>\n",
       "      <td>PuneetMungali</td>\n",
       "      <td>3.01</td>\n",
       "      <td>1.01</td>\n",
       "    </tr>\n",
       "    <tr>\n",
       "      <td>TheHarshitGaur</td>\n",
       "      <td>48.01</td>\n",
       "      <td>102.01</td>\n",
       "    </tr>\n",
       "    <tr>\n",
       "      <td>AnttiHallavo</td>\n",
       "      <td>6.01</td>\n",
       "      <td>14.01</td>\n",
       "    </tr>\n",
       "    <tr>\n",
       "      <td>AshlarInnovati1</td>\n",
       "      <td>76.01</td>\n",
       "      <td>202.01</td>\n",
       "    </tr>\n",
       "    <tr>\n",
       "      <td>peterromero</td>\n",
       "      <td>65.01</td>\n",
       "      <td>8.01</td>\n",
       "    </tr>\n",
       "    <tr>\n",
       "      <td>liu_jingdong</td>\n",
       "      <td>0.01</td>\n",
       "      <td>0.01</td>\n",
       "    </tr>\n",
       "    <tr>\n",
       "      <td>blakkurrenr</td>\n",
       "      <td>133.01</td>\n",
       "      <td>48.01</td>\n",
       "    </tr>\n",
       "    <tr>\n",
       "      <td>AllisonLilie</td>\n",
       "      <td>39.01</td>\n",
       "      <td>14.01</td>\n",
       "    </tr>\n",
       "    <tr>\n",
       "      <td>rsmitawa</td>\n",
       "      <td>5.01</td>\n",
       "      <td>4.01</td>\n",
       "    </tr>\n",
       "    <tr>\n",
       "      <td>saimanojbera</td>\n",
       "      <td>23.01</td>\n",
       "      <td>6.01</td>\n",
       "    </tr>\n",
       "    <tr>\n",
       "      <td>TirathSBindra</td>\n",
       "      <td>1.01</td>\n",
       "      <td>2.01</td>\n",
       "    </tr>\n",
       "    <tr>\n",
       "      <td>koncle</td>\n",
       "      <td>2.01</td>\n",
       "      <td>10.01</td>\n",
       "    </tr>\n",
       "    <tr>\n",
       "      <td>07zhiping</td>\n",
       "      <td>0.01</td>\n",
       "      <td>2.01</td>\n",
       "    </tr>\n",
       "    <tr>\n",
       "      <td>anuj63</td>\n",
       "      <td>105.01</td>\n",
       "      <td>110.01</td>\n",
       "    </tr>\n",
       "    <tr>\n",
       "      <td>apbeaton</td>\n",
       "      <td>1138.01</td>\n",
       "      <td>23623.01</td>\n",
       "    </tr>\n",
       "  </tbody>\n",
       "</table>\n",
       "</div>"
      ],
      "text/plain": [
       "                 followers_count  statuses_count\n",
       "screen_name                                     \n",
       "ZhengZhongjes               2.01            0.01\n",
       "nowedibles                143.01         1537.01\n",
       "wrmntr                     65.01           25.01\n",
       "BecDuane                   52.01           45.01\n",
       "Geo50098532                 0.01            0.01\n",
       "PuneetMungali               3.01            1.01\n",
       "TheHarshitGaur             48.01          102.01\n",
       "AnttiHallavo                6.01           14.01\n",
       "AshlarInnovati1            76.01          202.01\n",
       "peterromero                65.01            8.01\n",
       "liu_jingdong                0.01            0.01\n",
       "blakkurrenr               133.01           48.01\n",
       "AllisonLilie               39.01           14.01\n",
       "rsmitawa                    5.01            4.01\n",
       "saimanojbera               23.01            6.01\n",
       "TirathSBindra               1.01            2.01\n",
       "koncle                      2.01           10.01\n",
       "07zhiping                   0.01            2.01\n",
       "anuj63                    105.01          110.01\n",
       "apbeaton                 1138.01        23623.01"
      ]
     },
     "execution_count": 77,
     "metadata": {},
     "output_type": "execute_result"
    }
   ],
   "source": [
    "s_data"
   ]
  },
  {
   "cell_type": "code",
   "execution_count": 78,
   "metadata": {},
   "outputs": [],
   "source": [
    "s_data = s_data.apply(lambda x:(x-min(x)) / (max(x)- min(x))) #doing standardization"
   ]
  },
  {
   "cell_type": "code",
   "execution_count": 79,
   "metadata": {},
   "outputs": [],
   "source": [
    "s_data['followers_count'] = s_data['followers_count'] +0.01\n",
    "s_data['statuses_count'] = s_data['statuses_count'] +0.01"
   ]
  },
  {
   "cell_type": "code",
   "execution_count": 80,
   "metadata": {},
   "outputs": [
    {
     "data": {
      "text/html": [
       "<div>\n",
       "<style scoped>\n",
       "    .dataframe tbody tr th:only-of-type {\n",
       "        vertical-align: middle;\n",
       "    }\n",
       "\n",
       "    .dataframe tbody tr th {\n",
       "        vertical-align: top;\n",
       "    }\n",
       "\n",
       "    .dataframe thead th {\n",
       "        text-align: right;\n",
       "    }\n",
       "</style>\n",
       "<table border=\"1\" class=\"dataframe\">\n",
       "  <thead>\n",
       "    <tr style=\"text-align: right;\">\n",
       "      <th></th>\n",
       "      <th>followers_count</th>\n",
       "      <th>statuses_count</th>\n",
       "    </tr>\n",
       "    <tr>\n",
       "      <th>screen_name</th>\n",
       "      <th></th>\n",
       "      <th></th>\n",
       "    </tr>\n",
       "  </thead>\n",
       "  <tbody>\n",
       "    <tr>\n",
       "      <td>ZhengZhongjes</td>\n",
       "      <td>0.011757</td>\n",
       "      <td>0.010000</td>\n",
       "    </tr>\n",
       "    <tr>\n",
       "      <td>nowedibles</td>\n",
       "      <td>0.135659</td>\n",
       "      <td>0.075064</td>\n",
       "    </tr>\n",
       "    <tr>\n",
       "      <td>wrmntr</td>\n",
       "      <td>0.067118</td>\n",
       "      <td>0.011058</td>\n",
       "    </tr>\n",
       "    <tr>\n",
       "      <td>BecDuane</td>\n",
       "      <td>0.055694</td>\n",
       "      <td>0.011905</td>\n",
       "    </tr>\n",
       "    <tr>\n",
       "      <td>Geo50098532</td>\n",
       "      <td>0.010000</td>\n",
       "      <td>0.010000</td>\n",
       "    </tr>\n",
       "  </tbody>\n",
       "</table>\n",
       "</div>"
      ],
      "text/plain": [
       "               followers_count  statuses_count\n",
       "screen_name                                   \n",
       "ZhengZhongjes         0.011757        0.010000\n",
       "nowedibles            0.135659        0.075064\n",
       "wrmntr                0.067118        0.011058\n",
       "BecDuane              0.055694        0.011905\n",
       "Geo50098532           0.010000        0.010000"
      ]
     },
     "execution_count": 80,
     "metadata": {},
     "output_type": "execute_result"
    }
   ],
   "source": [
    "s_data.head()"
   ]
  },
  {
   "cell_type": "code",
   "execution_count": 81,
   "metadata": {},
   "outputs": [],
   "source": [
    "score = s_data['followers_count'] * s_data['statuses_count']"
   ]
  },
  {
   "cell_type": "code",
   "execution_count": 82,
   "metadata": {},
   "outputs": [
    {
     "data": {
      "text/plain": [
       "screen_name\n",
       "ZhengZhongjes      0.000118\n",
       "nowedibles         0.010183\n",
       "wrmntr             0.000742\n",
       "BecDuane           0.000663\n",
       "Geo50098532        0.000100\n",
       "PuneetMungali      0.000127\n",
       "TheHarshitGaur     0.000747\n",
       "AnttiHallavo       0.000162\n",
       "AshlarInnovati1    0.001424\n",
       "peterromero        0.000694\n",
       "liu_jingdong       0.000100\n",
       "blakkurrenr        0.001527\n",
       "AllisonLilie       0.000469\n",
       "rsmitawa           0.000146\n",
       "saimanojbera       0.000310\n",
       "TirathSBindra      0.000110\n",
       "koncle             0.000123\n",
       "07zhiping          0.000101\n",
       "anuj63             0.001499\n",
       "apbeaton           1.020100\n",
       "dtype: float64"
      ]
     },
     "execution_count": 82,
     "metadata": {},
     "output_type": "execute_result"
    }
   ],
   "source": [
    "score"
   ]
  },
  {
   "cell_type": "code",
   "execution_count": 83,
   "metadata": {},
   "outputs": [
    {
     "data": {
      "text/plain": [
       "screen_name\n",
       "apbeaton           1.020100\n",
       "nowedibles         0.010183\n",
       "blakkurrenr        0.001527\n",
       "anuj63             0.001499\n",
       "AshlarInnovati1    0.001424\n",
       "TheHarshitGaur     0.000747\n",
       "wrmntr             0.000742\n",
       "peterromero        0.000694\n",
       "BecDuane           0.000663\n",
       "AllisonLilie       0.000469\n",
       "saimanojbera       0.000310\n",
       "AnttiHallavo       0.000162\n",
       "rsmitawa           0.000146\n",
       "PuneetMungali      0.000127\n",
       "koncle             0.000123\n",
       "ZhengZhongjes      0.000118\n",
       "TirathSBindra      0.000110\n",
       "07zhiping          0.000101\n",
       "liu_jingdong       0.000100\n",
       "Geo50098532        0.000100\n",
       "dtype: float64"
      ]
     },
     "execution_count": 83,
     "metadata": {},
     "output_type": "execute_result"
    }
   ],
   "source": [
    "score.sort_values(ascending = False)"
   ]
  },
  {
   "cell_type": "code",
   "execution_count": 84,
   "metadata": {},
   "outputs": [
    {
     "data": {
      "text/plain": [
       "screen_name\n",
       "apbeaton    1.0201\n",
       "dtype: float64"
      ]
     },
     "execution_count": 84,
     "metadata": {},
     "output_type": "execute_result"
    }
   ],
   "source": [
    "score[score>score.median() + score.std()/2].sort_values(ascending=False)"
   ]
  },
  {
   "cell_type": "code",
   "execution_count": 85,
   "metadata": {},
   "outputs": [
    {
     "data": {
      "text/plain": [
       "0.0003893627022069806"
      ]
     },
     "execution_count": 85,
     "metadata": {},
     "output_type": "execute_result"
    }
   ],
   "source": [
    "score.median()"
   ]
  },
  {
   "cell_type": "code",
   "execution_count": 86,
   "metadata": {},
   "outputs": [],
   "source": [
    "s_data['score'] =score"
   ]
  },
  {
   "cell_type": "code",
   "execution_count": 87,
   "metadata": {},
   "outputs": [],
   "source": [
    "import numpy as np"
   ]
  },
  {
   "cell_type": "code",
   "execution_count": 88,
   "metadata": {},
   "outputs": [],
   "source": [
    "s_data['segment'] = np.where(s_data['score'] >=score.median() + score.std()/len(score) , 'A', 'B')"
   ]
  },
  {
   "cell_type": "code",
   "execution_count": 89,
   "metadata": {},
   "outputs": [
    {
     "data": {
      "text/html": [
       "<div>\n",
       "<style scoped>\n",
       "    .dataframe tbody tr th:only-of-type {\n",
       "        vertical-align: middle;\n",
       "    }\n",
       "\n",
       "    .dataframe tbody tr th {\n",
       "        vertical-align: top;\n",
       "    }\n",
       "\n",
       "    .dataframe thead th {\n",
       "        text-align: right;\n",
       "    }\n",
       "</style>\n",
       "<table border=\"1\" class=\"dataframe\">\n",
       "  <thead>\n",
       "    <tr style=\"text-align: right;\">\n",
       "      <th></th>\n",
       "      <th>followers_count</th>\n",
       "      <th>statuses_count</th>\n",
       "      <th>score</th>\n",
       "      <th>segment</th>\n",
       "    </tr>\n",
       "    <tr>\n",
       "      <th>screen_name</th>\n",
       "      <th></th>\n",
       "      <th></th>\n",
       "      <th></th>\n",
       "      <th></th>\n",
       "    </tr>\n",
       "  </thead>\n",
       "  <tbody>\n",
       "    <tr>\n",
       "      <td>ZhengZhongjes</td>\n",
       "      <td>0.011757</td>\n",
       "      <td>0.010000</td>\n",
       "      <td>0.000118</td>\n",
       "      <td>B</td>\n",
       "    </tr>\n",
       "    <tr>\n",
       "      <td>nowedibles</td>\n",
       "      <td>0.135659</td>\n",
       "      <td>0.075064</td>\n",
       "      <td>0.010183</td>\n",
       "      <td>B</td>\n",
       "    </tr>\n",
       "    <tr>\n",
       "      <td>wrmntr</td>\n",
       "      <td>0.067118</td>\n",
       "      <td>0.011058</td>\n",
       "      <td>0.000742</td>\n",
       "      <td>B</td>\n",
       "    </tr>\n",
       "    <tr>\n",
       "      <td>BecDuane</td>\n",
       "      <td>0.055694</td>\n",
       "      <td>0.011905</td>\n",
       "      <td>0.000663</td>\n",
       "      <td>B</td>\n",
       "    </tr>\n",
       "    <tr>\n",
       "      <td>Geo50098532</td>\n",
       "      <td>0.010000</td>\n",
       "      <td>0.010000</td>\n",
       "      <td>0.000100</td>\n",
       "      <td>B</td>\n",
       "    </tr>\n",
       "    <tr>\n",
       "      <td>PuneetMungali</td>\n",
       "      <td>0.012636</td>\n",
       "      <td>0.010042</td>\n",
       "      <td>0.000127</td>\n",
       "      <td>B</td>\n",
       "    </tr>\n",
       "    <tr>\n",
       "      <td>TheHarshitGaur</td>\n",
       "      <td>0.052179</td>\n",
       "      <td>0.014318</td>\n",
       "      <td>0.000747</td>\n",
       "      <td>B</td>\n",
       "    </tr>\n",
       "    <tr>\n",
       "      <td>AnttiHallavo</td>\n",
       "      <td>0.015272</td>\n",
       "      <td>0.010593</td>\n",
       "      <td>0.000162</td>\n",
       "      <td>B</td>\n",
       "    </tr>\n",
       "    <tr>\n",
       "      <td>AshlarInnovati1</td>\n",
       "      <td>0.076784</td>\n",
       "      <td>0.018551</td>\n",
       "      <td>0.001424</td>\n",
       "      <td>B</td>\n",
       "    </tr>\n",
       "    <tr>\n",
       "      <td>peterromero</td>\n",
       "      <td>0.067118</td>\n",
       "      <td>0.010339</td>\n",
       "      <td>0.000694</td>\n",
       "      <td>B</td>\n",
       "    </tr>\n",
       "    <tr>\n",
       "      <td>liu_jingdong</td>\n",
       "      <td>0.010000</td>\n",
       "      <td>0.010000</td>\n",
       "      <td>0.000100</td>\n",
       "      <td>B</td>\n",
       "    </tr>\n",
       "    <tr>\n",
       "      <td>blakkurrenr</td>\n",
       "      <td>0.126872</td>\n",
       "      <td>0.012032</td>\n",
       "      <td>0.001527</td>\n",
       "      <td>B</td>\n",
       "    </tr>\n",
       "    <tr>\n",
       "      <td>AllisonLilie</td>\n",
       "      <td>0.044271</td>\n",
       "      <td>0.010593</td>\n",
       "      <td>0.000469</td>\n",
       "      <td>B</td>\n",
       "    </tr>\n",
       "    <tr>\n",
       "      <td>rsmitawa</td>\n",
       "      <td>0.014394</td>\n",
       "      <td>0.010169</td>\n",
       "      <td>0.000146</td>\n",
       "      <td>B</td>\n",
       "    </tr>\n",
       "    <tr>\n",
       "      <td>saimanojbera</td>\n",
       "      <td>0.030211</td>\n",
       "      <td>0.010254</td>\n",
       "      <td>0.000310</td>\n",
       "      <td>B</td>\n",
       "    </tr>\n",
       "    <tr>\n",
       "      <td>TirathSBindra</td>\n",
       "      <td>0.010879</td>\n",
       "      <td>0.010085</td>\n",
       "      <td>0.000110</td>\n",
       "      <td>B</td>\n",
       "    </tr>\n",
       "    <tr>\n",
       "      <td>koncle</td>\n",
       "      <td>0.011757</td>\n",
       "      <td>0.010423</td>\n",
       "      <td>0.000123</td>\n",
       "      <td>B</td>\n",
       "    </tr>\n",
       "    <tr>\n",
       "      <td>07zhiping</td>\n",
       "      <td>0.010000</td>\n",
       "      <td>0.010085</td>\n",
       "      <td>0.000101</td>\n",
       "      <td>B</td>\n",
       "    </tr>\n",
       "    <tr>\n",
       "      <td>anuj63</td>\n",
       "      <td>0.102267</td>\n",
       "      <td>0.014656</td>\n",
       "      <td>0.001499</td>\n",
       "      <td>B</td>\n",
       "    </tr>\n",
       "    <tr>\n",
       "      <td>apbeaton</td>\n",
       "      <td>1.010000</td>\n",
       "      <td>1.010000</td>\n",
       "      <td>1.020100</td>\n",
       "      <td>A</td>\n",
       "    </tr>\n",
       "  </tbody>\n",
       "</table>\n",
       "</div>"
      ],
      "text/plain": [
       "                 followers_count  statuses_count     score segment\n",
       "screen_name                                                       \n",
       "ZhengZhongjes           0.011757        0.010000  0.000118       B\n",
       "nowedibles              0.135659        0.075064  0.010183       B\n",
       "wrmntr                  0.067118        0.011058  0.000742       B\n",
       "BecDuane                0.055694        0.011905  0.000663       B\n",
       "Geo50098532             0.010000        0.010000  0.000100       B\n",
       "PuneetMungali           0.012636        0.010042  0.000127       B\n",
       "TheHarshitGaur          0.052179        0.014318  0.000747       B\n",
       "AnttiHallavo            0.015272        0.010593  0.000162       B\n",
       "AshlarInnovati1         0.076784        0.018551  0.001424       B\n",
       "peterromero             0.067118        0.010339  0.000694       B\n",
       "liu_jingdong            0.010000        0.010000  0.000100       B\n",
       "blakkurrenr             0.126872        0.012032  0.001527       B\n",
       "AllisonLilie            0.044271        0.010593  0.000469       B\n",
       "rsmitawa                0.014394        0.010169  0.000146       B\n",
       "saimanojbera            0.030211        0.010254  0.000310       B\n",
       "TirathSBindra           0.010879        0.010085  0.000110       B\n",
       "koncle                  0.011757        0.010423  0.000123       B\n",
       "07zhiping               0.010000        0.010085  0.000101       B\n",
       "anuj63                  0.102267        0.014656  0.001499       B\n",
       "apbeaton                1.010000        1.010000  1.020100       A"
      ]
     },
     "execution_count": 89,
     "metadata": {},
     "output_type": "execute_result"
    }
   ],
   "source": [
    "s_data"
   ]
  },
  {
   "cell_type": "code",
   "execution_count": 90,
   "metadata": {},
   "outputs": [],
   "source": [
    "a = api.user_timeline(id= 'AndrewYNg',count=5)"
   ]
  },
  {
   "cell_type": "code",
   "execution_count": 91,
   "metadata": {},
   "outputs": [
    {
     "name": "stdout",
     "output_type": "stream",
     "text": [
      "Chatting with @lexfridman about ML, rise of MOOCs, what’s hard in learning AI, ... was the most fun interview I’ve… https://t.co/Kq3XDP30l1\n",
      "Consumer internet companies with 1B+ users have popularized Big Data. But industries like manufacturing, agricultur… https://t.co/oBWEWaPU69\n",
      "Happy multi-cultural palindrome day! Works whether your preferred date format is MM/DD/YYYY or DD/MM/YYYY or  YYYY/MM/DD.\n",
      "Great chatting with @lexfridman. We talked about everything from the early mistakes I made building MOOCs to the ch… https://t.co/ksALj0InTq\n",
      "Great having @EricTopol visit just now. His book Deep Medicine gives a compelling vision for AI in healthcare. We h… https://t.co/ylxKzpSNNM\n"
     ]
    }
   ],
   "source": [
    "for i in a:\n",
    "    print(i.text)"
   ]
  },
  {
   "cell_type": "code",
   "execution_count": 92,
   "metadata": {},
   "outputs": [],
   "source": [
    "def country_codes():\n",
    "    places = api.trends_available()\n",
    "    all_woeids = {place['name'].lower(): place['woeid'] for place in places}\n",
    "    return all_woeids"
   ]
  },
  {
   "cell_type": "code",
   "execution_count": 93,
   "metadata": {},
   "outputs": [],
   "source": [
    "# country_codes()"
   ]
  },
  {
   "cell_type": "code",
   "execution_count": 94,
   "metadata": {},
   "outputs": [],
   "source": [
    "def country_woeid(country_name):\n",
    "    country_name = country_name.lower()\n",
    "    trends = api.trends_available()\n",
    "    all_woeids = country_codes()\n",
    "    return all_woeids[country_name]"
   ]
  },
  {
   "cell_type": "code",
   "execution_count": 95,
   "metadata": {},
   "outputs": [
    {
     "data": {
      "text/plain": [
       "23424969"
      ]
     },
     "execution_count": 95,
     "metadata": {},
     "output_type": "execute_result"
    }
   ],
   "source": [
    "country_woeid('turkey')"
   ]
  },
  {
   "cell_type": "code",
   "execution_count": 96,
   "metadata": {},
   "outputs": [],
   "source": [
    "trends = api.trends_place(id= 23424969 )"
   ]
  },
  {
   "cell_type": "code",
   "execution_count": 97,
   "metadata": {},
   "outputs": [],
   "source": [
    "import json\n",
    "#print(json.dumps(trends, indent=1))"
   ]
  },
  {
   "cell_type": "code",
   "execution_count": 98,
   "metadata": {},
   "outputs": [],
   "source": [
    "turkey = api.trends_place(id= 23424969 )\n",
    "trends = turkey[0]['trends']"
   ]
  },
  {
   "cell_type": "markdown",
   "metadata": {},
   "source": [
    "## Pull Data from Hashtag"
   ]
  },
  {
   "cell_type": "code",
   "execution_count": 99,
   "metadata": {},
   "outputs": [],
   "source": [
    "tweets = api.search(q= '#datascience', lang='en',\n",
    "                     result_type='recent', counts = 1000)"
   ]
  },
  {
   "cell_type": "code",
   "execution_count": 100,
   "metadata": {},
   "outputs": [],
   "source": [
    "def hashtag_df(results):\n",
    "    id_list = [tweet.id for tweet in results]\n",
    "    data_set = pd.DataFrame(id_list,columns=['id'])\n",
    "    \n",
    "    \n",
    "    data_set['text'] = [tweet.text for tweet in results]\n",
    "    data_set['created_at'] = [tweet.created_at for tweet in results]\n",
    "    data_set['retweeted'] = [tweet.retweeted for tweet in results]\n",
    "    data_set['retweet_count'] = [tweet.retweet_count for tweet in results]\n",
    "    data_set['name'] = [tweet.author.name for tweet in results]\n",
    "    data_set['user_screen_name'] = [tweet.author.screen_name for tweet in results]\n",
    "    data_set['user_followers_count'] = [tweet.author.followers_count for tweet in results]\n",
    "    data_set['user_location'] = [tweet.author.location for tweet in results]\n",
    "    data_set['Hashtags'] = [tweet.entities.get('hashtags') for tweet in results]\n",
    "    \n",
    "    return data_set"
   ]
  },
  {
   "cell_type": "code",
   "execution_count": 101,
   "metadata": {},
   "outputs": [],
   "source": [
    "df = hashtag_df(tweets)"
   ]
  },
  {
   "cell_type": "code",
   "execution_count": 102,
   "metadata": {},
   "outputs": [
    {
     "data": {
      "text/plain": [
       "(15, 10)"
      ]
     },
     "execution_count": 102,
     "metadata": {},
     "output_type": "execute_result"
    }
   ],
   "source": [
    "df.shape"
   ]
  },
  {
   "cell_type": "code",
   "execution_count": 103,
   "metadata": {
    "scrolled": true
   },
   "outputs": [
    {
     "data": {
      "text/html": [
       "<div>\n",
       "<style scoped>\n",
       "    .dataframe tbody tr th:only-of-type {\n",
       "        vertical-align: middle;\n",
       "    }\n",
       "\n",
       "    .dataframe tbody tr th {\n",
       "        vertical-align: top;\n",
       "    }\n",
       "\n",
       "    .dataframe thead th {\n",
       "        text-align: right;\n",
       "    }\n",
       "</style>\n",
       "<table border=\"1\" class=\"dataframe\">\n",
       "  <thead>\n",
       "    <tr style=\"text-align: right;\">\n",
       "      <th></th>\n",
       "      <th>id</th>\n",
       "      <th>text</th>\n",
       "      <th>created_at</th>\n",
       "      <th>retweeted</th>\n",
       "      <th>retweet_count</th>\n",
       "      <th>name</th>\n",
       "      <th>user_screen_name</th>\n",
       "      <th>user_followers_count</th>\n",
       "      <th>user_location</th>\n",
       "      <th>Hashtags</th>\n",
       "    </tr>\n",
       "  </thead>\n",
       "  <tbody>\n",
       "    <tr>\n",
       "      <td>0</td>\n",
       "      <td>1233294134179454976</td>\n",
       "      <td>RT @amardeepkaushal: Deep Learning Chatbot: Ev...</td>\n",
       "      <td>2020-02-28 07:33:29</td>\n",
       "      <td>False</td>\n",
       "      <td>62</td>\n",
       "      <td>J-FACE</td>\n",
       "      <td>JFace4Ever</td>\n",
       "      <td>1313</td>\n",
       "      <td>Charlotte, NC</td>\n",
       "      <td>[{'text': 'DigitalTransformation', 'indices': ...</td>\n",
       "    </tr>\n",
       "    <tr>\n",
       "      <td>1</td>\n",
       "      <td>1233294108036345857</td>\n",
       "      <td>RT @amardeepkaushal: Deep Learning Chatbot: Ev...</td>\n",
       "      <td>2020-02-28 07:33:23</td>\n",
       "      <td>False</td>\n",
       "      <td>62</td>\n",
       "      <td>Ybeezydakid101</td>\n",
       "      <td>OfficalYBPage</td>\n",
       "      <td>1510</td>\n",
       "      <td>Indianapolis, IN 46229</td>\n",
       "      <td>[{'text': 'DigitalTransformation', 'indices': ...</td>\n",
       "    </tr>\n",
       "    <tr>\n",
       "      <td>2</td>\n",
       "      <td>1233294099849129984</td>\n",
       "      <td>And Now This:  What are Machine Learning and D...</td>\n",
       "      <td>2020-02-28 07:33:21</td>\n",
       "      <td>False</td>\n",
       "      <td>0</td>\n",
       "      <td>Chuck Russell</td>\n",
       "      <td>cichuck</td>\n",
       "      <td>22827</td>\n",
       "      <td>Harrisburg, PA</td>\n",
       "      <td>[{'text': 'tech', 'indices': [104, 109]}]</td>\n",
       "    </tr>\n",
       "    <tr>\n",
       "      <td>3</td>\n",
       "      <td>1233294059088891905</td>\n",
       "      <td>RT @OracleAnalytics: How can you make #datasci...</td>\n",
       "      <td>2020-02-28 07:33:11</td>\n",
       "      <td>False</td>\n",
       "      <td>6</td>\n",
       "      <td>HubofMachineLearning</td>\n",
       "      <td>hubofml</td>\n",
       "      <td>1834</td>\n",
       "      <td>Germany</td>\n",
       "      <td>[{'text': 'datascience', 'indices': [38, 50]}]</td>\n",
       "    </tr>\n",
       "    <tr>\n",
       "      <td>4</td>\n",
       "      <td>1233294037127507968</td>\n",
       "      <td>RT @OracleAnalytics: How can you make #datasci...</td>\n",
       "      <td>2020-02-28 07:33:06</td>\n",
       "      <td>False</td>\n",
       "      <td>6</td>\n",
       "      <td>Gabriel Trauvitch</td>\n",
       "      <td>gtrauvit</td>\n",
       "      <td>165</td>\n",
       "      <td>Athens, Greece</td>\n",
       "      <td>[{'text': 'datascience', 'indices': [38, 50]}]</td>\n",
       "    </tr>\n",
       "    <tr>\n",
       "      <td>5</td>\n",
       "      <td>1233293836899713028</td>\n",
       "      <td>RT @gp_pulipaka: Best Paper Award at ICLR 2019...</td>\n",
       "      <td>2020-02-28 07:32:18</td>\n",
       "      <td>False</td>\n",
       "      <td>30</td>\n",
       "      <td>CyberSecurityBot 🤖</td>\n",
       "      <td>CyberSecCare</td>\n",
       "      <td>83</td>\n",
       "      <td>Matrix</td>\n",
       "      <td>[{'text': 'BigData', 'indices': [48, 56]}, {'t...</td>\n",
       "    </tr>\n",
       "    <tr>\n",
       "      <td>6</td>\n",
       "      <td>1233293823691743235</td>\n",
       "      <td>RT @gp_pulipaka: Best Paper Award at ICLR 2019...</td>\n",
       "      <td>2020-02-28 07:32:15</td>\n",
       "      <td>False</td>\n",
       "      <td>30</td>\n",
       "      <td>LinuxBot</td>\n",
       "      <td>LlnuxBot</td>\n",
       "      <td>1239</td>\n",
       "      <td>Raspberry Pi</td>\n",
       "      <td>[{'text': 'BigData', 'indices': [48, 56]}, {'t...</td>\n",
       "    </tr>\n",
       "    <tr>\n",
       "      <td>7</td>\n",
       "      <td>1233293822613999617</td>\n",
       "      <td>RT @amardeepkaushal: Deep Learning Chatbot: Ev...</td>\n",
       "      <td>2020-02-28 07:32:15</td>\n",
       "      <td>False</td>\n",
       "      <td>62</td>\n",
       "      <td>Red Bizzle</td>\n",
       "      <td>RedBizzle131</td>\n",
       "      <td>1272</td>\n",
       "      <td>Tra Riverz, MI</td>\n",
       "      <td>[{'text': 'DigitalTransformation', 'indices': ...</td>\n",
       "    </tr>\n",
       "    <tr>\n",
       "      <td>8</td>\n",
       "      <td>1233293788065476608</td>\n",
       "      <td>#AI #DataScience #ML #Robotics 📄 Machine Learn...</td>\n",
       "      <td>2020-02-28 07:32:07</td>\n",
       "      <td>False</td>\n",
       "      <td>0</td>\n",
       "      <td>Kevin Cooper</td>\n",
       "      <td>KevinCooperCEO</td>\n",
       "      <td>2334</td>\n",
       "      <td></td>\n",
       "      <td>[{'text': 'AI', 'indices': [0, 3]}, {'text': '...</td>\n",
       "    </tr>\n",
       "    <tr>\n",
       "      <td>9</td>\n",
       "      <td>1233293714652618753</td>\n",
       "      <td>RT @amardeepkaushal: Deep Learning Chatbot: Ev...</td>\n",
       "      <td>2020-02-28 07:31:49</td>\n",
       "      <td>False</td>\n",
       "      <td>62</td>\n",
       "      <td>Brick</td>\n",
       "      <td>MrneedaBrick</td>\n",
       "      <td>839</td>\n",
       "      <td>Atlanta, GA</td>\n",
       "      <td>[{'text': 'DigitalTransformation', 'indices': ...</td>\n",
       "    </tr>\n",
       "    <tr>\n",
       "      <td>10</td>\n",
       "      <td>1233293692519272448</td>\n",
       "      <td>RT @amardeepkaushal: Deep Learning Chatbot: Ev...</td>\n",
       "      <td>2020-02-28 07:31:44</td>\n",
       "      <td>False</td>\n",
       "      <td>62</td>\n",
       "      <td>MeYouMusic</td>\n",
       "      <td>meyoumusicboy</td>\n",
       "      <td>2843</td>\n",
       "      <td>Atlanta, GA</td>\n",
       "      <td>[{'text': 'DigitalTransformation', 'indices': ...</td>\n",
       "    </tr>\n",
       "    <tr>\n",
       "      <td>11</td>\n",
       "      <td>1233293690136719360</td>\n",
       "      <td>RT @SKlausDev: Machine Learning on Encrypted D...</td>\n",
       "      <td>2020-02-28 07:31:43</td>\n",
       "      <td>False</td>\n",
       "      <td>1</td>\n",
       "      <td>Harshavardhan S</td>\n",
       "      <td>HarshaSanthoor</td>\n",
       "      <td>8</td>\n",
       "      <td></td>\n",
       "      <td>[{'text': 'MachineLearning', 'indices': [88, 1...</td>\n",
       "    </tr>\n",
       "    <tr>\n",
       "      <td>12</td>\n",
       "      <td>1233293658914512898</td>\n",
       "      <td>RT @idalail98916215: Data Analytics: SQL for n...</td>\n",
       "      <td>2020-02-28 07:31:36</td>\n",
       "      <td>False</td>\n",
       "      <td>11</td>\n",
       "      <td>HubofMachineLearning</td>\n",
       "      <td>hubofml</td>\n",
       "      <td>1834</td>\n",
       "      <td>Germany</td>\n",
       "      <td>[{'text': 'data', 'indices': [103, 108]}, {'te...</td>\n",
       "    </tr>\n",
       "    <tr>\n",
       "      <td>13</td>\n",
       "      <td>1233293654510460928</td>\n",
       "      <td>RT @gp_pulipaka: Best Paper Award at ICLR 2019...</td>\n",
       "      <td>2020-02-28 07:31:35</td>\n",
       "      <td>False</td>\n",
       "      <td>30</td>\n",
       "      <td>HubofMachineLearning</td>\n",
       "      <td>hubofml</td>\n",
       "      <td>1834</td>\n",
       "      <td>Germany</td>\n",
       "      <td>[{'text': 'BigData', 'indices': [48, 56]}, {'t...</td>\n",
       "    </tr>\n",
       "    <tr>\n",
       "      <td>14</td>\n",
       "      <td>1233293650949365760</td>\n",
       "      <td>RT @Omkar_Raii: Startups like @synctactic demo...</td>\n",
       "      <td>2020-02-28 07:31:34</td>\n",
       "      <td>False</td>\n",
       "      <td>197</td>\n",
       "      <td>Hemanth Kumar R</td>\n",
       "      <td>Hemanthkr15586</td>\n",
       "      <td>54</td>\n",
       "      <td>Bengaluru</td>\n",
       "      <td>[{'text': 'DataScience', 'indices': [68, 80]},...</td>\n",
       "    </tr>\n",
       "  </tbody>\n",
       "</table>\n",
       "</div>"
      ],
      "text/plain": [
       "                     id                                               text  \\\n",
       "0   1233294134179454976  RT @amardeepkaushal: Deep Learning Chatbot: Ev...   \n",
       "1   1233294108036345857  RT @amardeepkaushal: Deep Learning Chatbot: Ev...   \n",
       "2   1233294099849129984  And Now This:  What are Machine Learning and D...   \n",
       "3   1233294059088891905  RT @OracleAnalytics: How can you make #datasci...   \n",
       "4   1233294037127507968  RT @OracleAnalytics: How can you make #datasci...   \n",
       "5   1233293836899713028  RT @gp_pulipaka: Best Paper Award at ICLR 2019...   \n",
       "6   1233293823691743235  RT @gp_pulipaka: Best Paper Award at ICLR 2019...   \n",
       "7   1233293822613999617  RT @amardeepkaushal: Deep Learning Chatbot: Ev...   \n",
       "8   1233293788065476608  #AI #DataScience #ML #Robotics 📄 Machine Learn...   \n",
       "9   1233293714652618753  RT @amardeepkaushal: Deep Learning Chatbot: Ev...   \n",
       "10  1233293692519272448  RT @amardeepkaushal: Deep Learning Chatbot: Ev...   \n",
       "11  1233293690136719360  RT @SKlausDev: Machine Learning on Encrypted D...   \n",
       "12  1233293658914512898  RT @idalail98916215: Data Analytics: SQL for n...   \n",
       "13  1233293654510460928  RT @gp_pulipaka: Best Paper Award at ICLR 2019...   \n",
       "14  1233293650949365760  RT @Omkar_Raii: Startups like @synctactic demo...   \n",
       "\n",
       "            created_at  retweeted  retweet_count                  name  \\\n",
       "0  2020-02-28 07:33:29      False             62                J-FACE   \n",
       "1  2020-02-28 07:33:23      False             62        Ybeezydakid101   \n",
       "2  2020-02-28 07:33:21      False              0         Chuck Russell   \n",
       "3  2020-02-28 07:33:11      False              6  HubofMachineLearning   \n",
       "4  2020-02-28 07:33:06      False              6     Gabriel Trauvitch   \n",
       "5  2020-02-28 07:32:18      False             30    CyberSecurityBot 🤖   \n",
       "6  2020-02-28 07:32:15      False             30              LinuxBot   \n",
       "7  2020-02-28 07:32:15      False             62            Red Bizzle   \n",
       "8  2020-02-28 07:32:07      False              0          Kevin Cooper   \n",
       "9  2020-02-28 07:31:49      False             62                 Brick   \n",
       "10 2020-02-28 07:31:44      False             62            MeYouMusic   \n",
       "11 2020-02-28 07:31:43      False              1       Harshavardhan S   \n",
       "12 2020-02-28 07:31:36      False             11  HubofMachineLearning   \n",
       "13 2020-02-28 07:31:35      False             30  HubofMachineLearning   \n",
       "14 2020-02-28 07:31:34      False            197       Hemanth Kumar R   \n",
       "\n",
       "   user_screen_name  user_followers_count            user_location  \\\n",
       "0        JFace4Ever                  1313            Charlotte, NC   \n",
       "1     OfficalYBPage                  1510   Indianapolis, IN 46229   \n",
       "2           cichuck                 22827           Harrisburg, PA   \n",
       "3           hubofml                  1834                 Germany    \n",
       "4          gtrauvit                   165           Athens, Greece   \n",
       "5      CyberSecCare                    83                   Matrix   \n",
       "6          LlnuxBot                  1239             Raspberry Pi   \n",
       "7      RedBizzle131                  1272           Tra Riverz, MI   \n",
       "8    KevinCooperCEO                  2334                            \n",
       "9      MrneedaBrick                   839              Atlanta, GA   \n",
       "10    meyoumusicboy                  2843              Atlanta, GA   \n",
       "11   HarshaSanthoor                     8                            \n",
       "12          hubofml                  1834                 Germany    \n",
       "13          hubofml                  1834                 Germany    \n",
       "14   Hemanthkr15586                    54                Bengaluru   \n",
       "\n",
       "                                             Hashtags  \n",
       "0   [{'text': 'DigitalTransformation', 'indices': ...  \n",
       "1   [{'text': 'DigitalTransformation', 'indices': ...  \n",
       "2           [{'text': 'tech', 'indices': [104, 109]}]  \n",
       "3      [{'text': 'datascience', 'indices': [38, 50]}]  \n",
       "4      [{'text': 'datascience', 'indices': [38, 50]}]  \n",
       "5   [{'text': 'BigData', 'indices': [48, 56]}, {'t...  \n",
       "6   [{'text': 'BigData', 'indices': [48, 56]}, {'t...  \n",
       "7   [{'text': 'DigitalTransformation', 'indices': ...  \n",
       "8   [{'text': 'AI', 'indices': [0, 3]}, {'text': '...  \n",
       "9   [{'text': 'DigitalTransformation', 'indices': ...  \n",
       "10  [{'text': 'DigitalTransformation', 'indices': ...  \n",
       "11  [{'text': 'MachineLearning', 'indices': [88, 1...  \n",
       "12  [{'text': 'data', 'indices': [103, 108]}, {'te...  \n",
       "13  [{'text': 'BigData', 'indices': [48, 56]}, {'t...  \n",
       "14  [{'text': 'DataScience', 'indices': [68, 80]},...  "
      ]
     },
     "execution_count": 103,
     "metadata": {},
     "output_type": "execute_result"
    }
   ],
   "source": [
    "df"
   ]
  },
  {
   "cell_type": "code",
   "execution_count": 104,
   "metadata": {
    "run_control": {
     "marked": false
    }
   },
   "outputs": [],
   "source": [
    "df['tweet_hour'] = df['created_at'].apply(lambda x: x.strftime('%H'))"
   ]
  },
  {
   "cell_type": "code",
   "execution_count": 105,
   "metadata": {},
   "outputs": [],
   "source": [
    "df['tweet_hour'] = pd.to_numeric(df['tweet_hour'])"
   ]
  },
  {
   "cell_type": "code",
   "execution_count": 106,
   "metadata": {},
   "outputs": [
    {
     "data": {
      "text/plain": [
       "<matplotlib.axes._subplots.AxesSubplot at 0x7ffa70a01518>"
      ]
     },
     "execution_count": 106,
     "metadata": {},
     "output_type": "execute_result"
    },
    {
     "data": {
      "image/png": "[encoded data removed]",
      "text/plain": [
       "<Figure size 720x432 with 1 Axes>"
      ]
     },
     "metadata": {
      "needs_background": "light"
     },
     "output_type": "display_data"
    }
   ],
   "source": [
    "plt.figure(figsize=(10,6))\n",
    "sns.distplot(df['tweet_hour'], kde=True, color='blue')"
   ]
  },
  {
   "cell_type": "code",
   "execution_count": 107,
   "metadata": {},
   "outputs": [],
   "source": [
    "df['days'] = df['created_at'].dt.weekday_name"
   ]
  },
  {
   "cell_type": "code",
   "execution_count": 108,
   "metadata": {},
   "outputs": [],
   "source": [
    "gun_freq = df.groupby('days').count()['id']"
   ]
  },
  {
   "cell_type": "code",
   "execution_count": 109,
   "metadata": {},
   "outputs": [
    {
     "data": {
      "text/plain": [
       "<matplotlib.axes._subplots.AxesSubplot at 0x7ffa70896da0>"
      ]
     },
     "execution_count": 109,
     "metadata": {},
     "output_type": "execute_result"
    },
    {
     "data": {
      "image/png": "[encoded data removed]",
      "text/plain": [
       "<Figure size 432x288 with 1 Axes>"
      ]
     },
     "metadata": {
      "needs_background": "light"
     },
     "output_type": "display_data"
    }
   ],
   "source": [
    "gun_freq.plot.bar(x='days', y='id')"
   ]
  },
  {
   "cell_type": "markdown",
   "metadata": {},
   "source": [
    "# Twitter Text Mining"
   ]
  },
  {
   "cell_type": "code",
   "execution_count": 110,
   "metadata": {},
   "outputs": [],
   "source": [
    "\n",
    "df['text'] = df['text'].apply(lambda x: \" \".join(x.lower() for x in x.split()))\n",
    "\n",
    "df['text'] = df['text'].str.replace('[^\\w\\s]', '')\n",
    "\n",
    "df['text'] = df['text'].str.replace('[\\d]','')\n",
    "\n",
    "\n",
    "import nltk\n",
    "from nltk.corpus import stopwords\n",
    "sw = stopwords.words('english')\n",
    "df['text'] = df['text'].apply(lambda x: \" \".join(x for x in x.split() if x not in sw))\n",
    "\n",
    "#lemmi\n",
    "from textblob import Word\n",
    "df['text'] = df['text'].apply(lambda x: \" \".join([Word(word).lemmatize() for word in x.split()] ))\n",
    "\n",
    "df['text'] = df['text'].str.replace('rt', '')"
   ]
  },
  {
   "cell_type": "code",
   "execution_count": 111,
   "metadata": {
    "scrolled": true
   },
   "outputs": [
    {
     "data": {
      "text/plain": [
       "0      amardeepkaushal deep learning chatbot everyth...\n",
       "1      amardeepkaushal deep learning chatbot everyth...\n",
       "2     machine learning deep learning aificial intell...\n",
       "3      oracleanalytics make datascience team effo co...\n",
       "4      oracleanalytics make datascience team effo co...\n",
       "5      gp_pulipaka best paper award iclr bigdata ana...\n",
       "6      gp_pulipaka best paper award iclr bigdata ana...\n",
       "7      amardeepkaushal deep learning chatbot everyth...\n",
       "8     ai datascience ml robotics machine learning pa...\n",
       "9      amardeepkaushal deep learning chatbot everyth...\n",
       "10     amardeepkaushal deep learning chatbot everyth...\n",
       "11     sklausdev machine learning encrypted data lon...\n",
       "12     idalail data analytics sql newbs beginner mar...\n",
       "13     gp_pulipaka best paper award iclr bigdata ana...\n",
       "14     omkar_raii staup like synctactic democratisin...\n",
       "Name: text, dtype: object"
      ]
     },
     "execution_count": 111,
     "metadata": {},
     "output_type": "execute_result"
    }
   ],
   "source": [
    "df.text"
   ]
  },
  {
   "cell_type": "code",
   "execution_count": 112,
   "metadata": {},
   "outputs": [],
   "source": [
    "freq_df = df['text'].apply(lambda x:pd.value_counts(x.split(\" \"))).sum(axis = 0).reset_index()"
   ]
  },
  {
   "cell_type": "code",
   "execution_count": 113,
   "metadata": {},
   "outputs": [],
   "source": [
    "freq_df.columns = ['words', 'freqs']"
   ]
  },
  {
   "cell_type": "code",
   "execution_count": 114,
   "metadata": {
    "scrolled": true
   },
   "outputs": [
    {
     "data": {
      "text/html": [
       "<div>\n",
       "<style scoped>\n",
       "    .dataframe tbody tr th:only-of-type {\n",
       "        vertical-align: middle;\n",
       "    }\n",
       "\n",
       "    .dataframe tbody tr th {\n",
       "        vertical-align: top;\n",
       "    }\n",
       "\n",
       "    .dataframe thead th {\n",
       "        text-align: right;\n",
       "    }\n",
       "</style>\n",
       "<table border=\"1\" class=\"dataframe\">\n",
       "  <thead>\n",
       "    <tr style=\"text-align: right;\">\n",
       "      <th></th>\n",
       "      <th>words</th>\n",
       "      <th>freqs</th>\n",
       "    </tr>\n",
       "  </thead>\n",
       "  <tbody>\n",
       "    <tr>\n",
       "      <td>12</td>\n",
       "      <td></td>\n",
       "      <td>13.0</td>\n",
       "    </tr>\n",
       "    <tr>\n",
       "      <td>10</td>\n",
       "      <td>learning</td>\n",
       "      <td>11.0</td>\n",
       "    </tr>\n",
       "    <tr>\n",
       "      <td>7</td>\n",
       "      <td>ai</td>\n",
       "      <td>11.0</td>\n",
       "    </tr>\n",
       "    <tr>\n",
       "      <td>5</td>\n",
       "      <td>python</td>\n",
       "      <td>8.0</td>\n",
       "    </tr>\n",
       "    <tr>\n",
       "      <td>11</td>\n",
       "      <td>iot</td>\n",
       "      <td>8.0</td>\n",
       "    </tr>\n",
       "    <tr>\n",
       "      <td>...</td>\n",
       "      <td>...</td>\n",
       "      <td>...</td>\n",
       "    </tr>\n",
       "    <tr>\n",
       "      <td>51</td>\n",
       "      <td>sklausdev</td>\n",
       "      <td>1.0</td>\n",
       "    </tr>\n",
       "    <tr>\n",
       "      <td>52</td>\n",
       "      <td>longer</td>\n",
       "      <td>1.0</td>\n",
       "    </tr>\n",
       "    <tr>\n",
       "      <td>54</td>\n",
       "      <td>fantasy</td>\n",
       "      <td>1.0</td>\n",
       "    </tr>\n",
       "    <tr>\n",
       "      <td>55</td>\n",
       "      <td>encrypted</td>\n",
       "      <td>1.0</td>\n",
       "    </tr>\n",
       "    <tr>\n",
       "      <td>78</td>\n",
       "      <td>organisation</td>\n",
       "      <td>1.0</td>\n",
       "    </tr>\n",
       "  </tbody>\n",
       "</table>\n",
       "<p>79 rows × 2 columns</p>\n",
       "</div>"
      ],
      "text/plain": [
       "           words  freqs\n",
       "12                 13.0\n",
       "10      learning   11.0\n",
       "7             ai   11.0\n",
       "5         python    8.0\n",
       "11           iot    8.0\n",
       "..           ...    ...\n",
       "51     sklausdev    1.0\n",
       "52        longer    1.0\n",
       "54       fantasy    1.0\n",
       "55     encrypted    1.0\n",
       "78  organisation    1.0\n",
       "\n",
       "[79 rows x 2 columns]"
      ]
     },
     "execution_count": 114,
     "metadata": {},
     "output_type": "execute_result"
    }
   ],
   "source": [
    "freq_df.sort_values('freqs',ascending=False)"
   ]
  },
  {
   "cell_type": "code",
   "execution_count": 115,
   "metadata": {},
   "outputs": [
    {
     "data": {
      "text/plain": [
       "(79, 2)"
      ]
     },
     "execution_count": 115,
     "metadata": {},
     "output_type": "execute_result"
    }
   ],
   "source": [
    "freq_df.shape"
   ]
  },
  {
   "cell_type": "code",
   "execution_count": 116,
   "metadata": {},
   "outputs": [],
   "source": [
    "a = freq_df[freq_df.freqs > freq_df.freqs.mean() + \n",
    "       freq_df.freqs.std()] # this code for the being more meaningful"
   ]
  },
  {
   "cell_type": "code",
   "execution_count": 117,
   "metadata": {},
   "outputs": [
    {
     "data": {
      "text/plain": [
       "<matplotlib.axes._subplots.AxesSubplot at 0x7ffa6e397c18>"
      ]
     },
     "execution_count": 117,
     "metadata": {},
     "output_type": "execute_result"
    },
    {
     "data": {
      "image/png": "[encoded data removed]",
      "text/plain": [
       "<Figure size 432x288 with 1 Axes>"
      ]
     },
     "metadata": {
      "needs_background": "light"
     },
     "output_type": "display_data"
    }
   ],
   "source": [
    "a.plot.bar(x= 'words', y= 'freqs')"
   ]
  },
  {
   "cell_type": "markdown",
   "metadata": {},
   "source": [
    "## Word Cloud"
   ]
  },
  {
   "cell_type": "code",
   "execution_count": 118,
   "metadata": {},
   "outputs": [],
   "source": [
    "import numpy as np\n",
    "import pandas as pd\n",
    "from os import path\n",
    "from PIL import Image\n",
    "from wordcloud import WordCloud , STOPWORDS, ImageColorGenerator\n",
    "import matplotlib.pyplot as plt"
   ]
  },
  {
   "cell_type": "code",
   "execution_count": 119,
   "metadata": {},
   "outputs": [],
   "source": [
    "text = \" \".join(i for i in df.text)"
   ]
  },
  {
   "cell_type": "code",
   "execution_count": 120,
   "metadata": {
    "scrolled": true
   },
   "outputs": [
    {
     "data": {
      "text/plain": [
       "' amardeepkaushal deep learning chatbot everything need know httpstcotulsfzcsk digitaltransformation python iot ai  amardeepkaushal deep learning chatbot everything need know httpstcotulsfzcsk digitaltransformation python iot ai machine learning deep learning aificial intelligence twcn tech news tech httpstcosoohtt  oracleanalytics make datascience team effo collaboratively building training deploying machine learning mode  oracleanalytics make datascience team effo collaboratively building training deploying machine learning mode  gp_pulipaka best paper award iclr bigdata analytics datascience ai machinelearning iot iiot pytorch python rstats  gp_pulipaka best paper award iclr bigdata analytics datascience ai machinelearning iot iiot pytorch python rstats  amardeepkaushal deep learning chatbot everything need know httpstcotulsfzcsk digitaltransformation python iot ai ai datascience ml robotics machine learning paper generative model dynamic linear flow link httpstcozgndwmod  amardeepkaushal deep learning chatbot everything need know httpstcotulsfzcsk digitaltransformation python iot ai  amardeepkaushal deep learning chatbot everything need know httpstcotulsfzcsk digitaltransformation python iot ai  sklausdev machine learning encrypted data longer fantasy yaron sheffer machinelearning ai deeplearning security data  idalail data analytics sql newbs beginner marketer httpstcoiplbgydvo data dataanalytics sql linuxhac  gp_pulipaka best paper award iclr bigdata analytics datascience ai machinelearning iot iiot pytorch python rstats  omkar_raii staup like synctactic democratising adoption datascience ml amp ai across enterprise turning organisation da'"
      ]
     },
     "execution_count": 120,
     "metadata": {},
     "output_type": "execute_result"
    }
   ],
   "source": [
    "text"
   ]
  },
  {
   "cell_type": "code",
   "execution_count": 121,
   "metadata": {},
   "outputs": [
    {
     "data": {
      "image/png": "[encoded data removed]",
      "text/plain": [
       "<Figure size 720x432 with 1 Axes>"
      ]
     },
     "metadata": {
      "needs_background": "light"
     },
     "output_type": "display_data"
    }
   ],
   "source": [
    "wc = WordCloud(background_color='white').generate(text)\n",
    "plt.figure(figsize=(10,6))\n",
    "plt.imshow(wc, interpolation='bilinear')\n",
    "plt.axis('off')\n",
    "plt.tight_layout(pad = 0)\n",
    "plt.show()"
   ]
  },
  {
   "cell_type": "markdown",
   "metadata": {},
   "source": [
    "# Twitter Sentiment"
   ]
  },
  {
   "cell_type": "code",
   "execution_count": 122,
   "metadata": {},
   "outputs": [
    {
     "data": {
      "text/html": [
       "<div>\n",
       "<style scoped>\n",
       "    .dataframe tbody tr th:only-of-type {\n",
       "        vertical-align: middle;\n",
       "    }\n",
       "\n",
       "    .dataframe tbody tr th {\n",
       "        vertical-align: top;\n",
       "    }\n",
       "\n",
       "    .dataframe thead th {\n",
       "        text-align: right;\n",
       "    }\n",
       "</style>\n",
       "<table border=\"1\" class=\"dataframe\">\n",
       "  <thead>\n",
       "    <tr style=\"text-align: right;\">\n",
       "      <th></th>\n",
       "      <th>id</th>\n",
       "      <th>text</th>\n",
       "      <th>created_at</th>\n",
       "      <th>retweeted</th>\n",
       "      <th>retweet_count</th>\n",
       "      <th>name</th>\n",
       "      <th>user_screen_name</th>\n",
       "      <th>user_followers_count</th>\n",
       "      <th>user_location</th>\n",
       "      <th>Hashtags</th>\n",
       "      <th>tweet_hour</th>\n",
       "      <th>days</th>\n",
       "    </tr>\n",
       "  </thead>\n",
       "  <tbody>\n",
       "    <tr>\n",
       "      <td>0</td>\n",
       "      <td>1233294134179454976</td>\n",
       "      <td>amardeepkaushal deep learning chatbot everyth...</td>\n",
       "      <td>2020-02-28 07:33:29</td>\n",
       "      <td>False</td>\n",
       "      <td>62</td>\n",
       "      <td>J-FACE</td>\n",
       "      <td>JFace4Ever</td>\n",
       "      <td>1313</td>\n",
       "      <td>Charlotte, NC</td>\n",
       "      <td>[{'text': 'DigitalTransformation', 'indices': ...</td>\n",
       "      <td>7</td>\n",
       "      <td>Friday</td>\n",
       "    </tr>\n",
       "    <tr>\n",
       "      <td>1</td>\n",
       "      <td>1233294108036345857</td>\n",
       "      <td>amardeepkaushal deep learning chatbot everyth...</td>\n",
       "      <td>2020-02-28 07:33:23</td>\n",
       "      <td>False</td>\n",
       "      <td>62</td>\n",
       "      <td>Ybeezydakid101</td>\n",
       "      <td>OfficalYBPage</td>\n",
       "      <td>1510</td>\n",
       "      <td>Indianapolis, IN 46229</td>\n",
       "      <td>[{'text': 'DigitalTransformation', 'indices': ...</td>\n",
       "      <td>7</td>\n",
       "      <td>Friday</td>\n",
       "    </tr>\n",
       "    <tr>\n",
       "      <td>2</td>\n",
       "      <td>1233294099849129984</td>\n",
       "      <td>machine learning deep learning aificial intell...</td>\n",
       "      <td>2020-02-28 07:33:21</td>\n",
       "      <td>False</td>\n",
       "      <td>0</td>\n",
       "      <td>Chuck Russell</td>\n",
       "      <td>cichuck</td>\n",
       "      <td>22827</td>\n",
       "      <td>Harrisburg, PA</td>\n",
       "      <td>[{'text': 'tech', 'indices': [104, 109]}]</td>\n",
       "      <td>7</td>\n",
       "      <td>Friday</td>\n",
       "    </tr>\n",
       "    <tr>\n",
       "      <td>3</td>\n",
       "      <td>1233294059088891905</td>\n",
       "      <td>oracleanalytics make datascience team effo co...</td>\n",
       "      <td>2020-02-28 07:33:11</td>\n",
       "      <td>False</td>\n",
       "      <td>6</td>\n",
       "      <td>HubofMachineLearning</td>\n",
       "      <td>hubofml</td>\n",
       "      <td>1834</td>\n",
       "      <td>Germany</td>\n",
       "      <td>[{'text': 'datascience', 'indices': [38, 50]}]</td>\n",
       "      <td>7</td>\n",
       "      <td>Friday</td>\n",
       "    </tr>\n",
       "    <tr>\n",
       "      <td>4</td>\n",
       "      <td>1233294037127507968</td>\n",
       "      <td>oracleanalytics make datascience team effo co...</td>\n",
       "      <td>2020-02-28 07:33:06</td>\n",
       "      <td>False</td>\n",
       "      <td>6</td>\n",
       "      <td>Gabriel Trauvitch</td>\n",
       "      <td>gtrauvit</td>\n",
       "      <td>165</td>\n",
       "      <td>Athens, Greece</td>\n",
       "      <td>[{'text': 'datascience', 'indices': [38, 50]}]</td>\n",
       "      <td>7</td>\n",
       "      <td>Friday</td>\n",
       "    </tr>\n",
       "    <tr>\n",
       "      <td>5</td>\n",
       "      <td>1233293836899713028</td>\n",
       "      <td>gp_pulipaka best paper award iclr bigdata ana...</td>\n",
       "      <td>2020-02-28 07:32:18</td>\n",
       "      <td>False</td>\n",
       "      <td>30</td>\n",
       "      <td>CyberSecurityBot 🤖</td>\n",
       "      <td>CyberSecCare</td>\n",
       "      <td>83</td>\n",
       "      <td>Matrix</td>\n",
       "      <td>[{'text': 'BigData', 'indices': [48, 56]}, {'t...</td>\n",
       "      <td>7</td>\n",
       "      <td>Friday</td>\n",
       "    </tr>\n",
       "    <tr>\n",
       "      <td>6</td>\n",
       "      <td>1233293823691743235</td>\n",
       "      <td>gp_pulipaka best paper award iclr bigdata ana...</td>\n",
       "      <td>2020-02-28 07:32:15</td>\n",
       "      <td>False</td>\n",
       "      <td>30</td>\n",
       "      <td>LinuxBot</td>\n",
       "      <td>LlnuxBot</td>\n",
       "      <td>1239</td>\n",
       "      <td>Raspberry Pi</td>\n",
       "      <td>[{'text': 'BigData', 'indices': [48, 56]}, {'t...</td>\n",
       "      <td>7</td>\n",
       "      <td>Friday</td>\n",
       "    </tr>\n",
       "    <tr>\n",
       "      <td>7</td>\n",
       "      <td>1233293822613999617</td>\n",
       "      <td>amardeepkaushal deep learning chatbot everyth...</td>\n",
       "      <td>2020-02-28 07:32:15</td>\n",
       "      <td>False</td>\n",
       "      <td>62</td>\n",
       "      <td>Red Bizzle</td>\n",
       "      <td>RedBizzle131</td>\n",
       "      <td>1272</td>\n",
       "      <td>Tra Riverz, MI</td>\n",
       "      <td>[{'text': 'DigitalTransformation', 'indices': ...</td>\n",
       "      <td>7</td>\n",
       "      <td>Friday</td>\n",
       "    </tr>\n",
       "    <tr>\n",
       "      <td>8</td>\n",
       "      <td>1233293788065476608</td>\n",
       "      <td>ai datascience ml robotics machine learning pa...</td>\n",
       "      <td>2020-02-28 07:32:07</td>\n",
       "      <td>False</td>\n",
       "      <td>0</td>\n",
       "      <td>Kevin Cooper</td>\n",
       "      <td>KevinCooperCEO</td>\n",
       "      <td>2334</td>\n",
       "      <td></td>\n",
       "      <td>[{'text': 'AI', 'indices': [0, 3]}, {'text': '...</td>\n",
       "      <td>7</td>\n",
       "      <td>Friday</td>\n",
       "    </tr>\n",
       "    <tr>\n",
       "      <td>9</td>\n",
       "      <td>1233293714652618753</td>\n",
       "      <td>amardeepkaushal deep learning chatbot everyth...</td>\n",
       "      <td>2020-02-28 07:31:49</td>\n",
       "      <td>False</td>\n",
       "      <td>62</td>\n",
       "      <td>Brick</td>\n",
       "      <td>MrneedaBrick</td>\n",
       "      <td>839</td>\n",
       "      <td>Atlanta, GA</td>\n",
       "      <td>[{'text': 'DigitalTransformation', 'indices': ...</td>\n",
       "      <td>7</td>\n",
       "      <td>Friday</td>\n",
       "    </tr>\n",
       "    <tr>\n",
       "      <td>10</td>\n",
       "      <td>1233293692519272448</td>\n",
       "      <td>amardeepkaushal deep learning chatbot everyth...</td>\n",
       "      <td>2020-02-28 07:31:44</td>\n",
       "      <td>False</td>\n",
       "      <td>62</td>\n",
       "      <td>MeYouMusic</td>\n",
       "      <td>meyoumusicboy</td>\n",
       "      <td>2843</td>\n",
       "      <td>Atlanta, GA</td>\n",
       "      <td>[{'text': 'DigitalTransformation', 'indices': ...</td>\n",
       "      <td>7</td>\n",
       "      <td>Friday</td>\n",
       "    </tr>\n",
       "    <tr>\n",
       "      <td>11</td>\n",
       "      <td>1233293690136719360</td>\n",
       "      <td>sklausdev machine learning encrypted data lon...</td>\n",
       "      <td>2020-02-28 07:31:43</td>\n",
       "      <td>False</td>\n",
       "      <td>1</td>\n",
       "      <td>Harshavardhan S</td>\n",
       "      <td>HarshaSanthoor</td>\n",
       "      <td>8</td>\n",
       "      <td></td>\n",
       "      <td>[{'text': 'MachineLearning', 'indices': [88, 1...</td>\n",
       "      <td>7</td>\n",
       "      <td>Friday</td>\n",
       "    </tr>\n",
       "    <tr>\n",
       "      <td>12</td>\n",
       "      <td>1233293658914512898</td>\n",
       "      <td>idalail data analytics sql newbs beginner mar...</td>\n",
       "      <td>2020-02-28 07:31:36</td>\n",
       "      <td>False</td>\n",
       "      <td>11</td>\n",
       "      <td>HubofMachineLearning</td>\n",
       "      <td>hubofml</td>\n",
       "      <td>1834</td>\n",
       "      <td>Germany</td>\n",
       "      <td>[{'text': 'data', 'indices': [103, 108]}, {'te...</td>\n",
       "      <td>7</td>\n",
       "      <td>Friday</td>\n",
       "    </tr>\n",
       "    <tr>\n",
       "      <td>13</td>\n",
       "      <td>1233293654510460928</td>\n",
       "      <td>gp_pulipaka best paper award iclr bigdata ana...</td>\n",
       "      <td>2020-02-28 07:31:35</td>\n",
       "      <td>False</td>\n",
       "      <td>30</td>\n",
       "      <td>HubofMachineLearning</td>\n",
       "      <td>hubofml</td>\n",
       "      <td>1834</td>\n",
       "      <td>Germany</td>\n",
       "      <td>[{'text': 'BigData', 'indices': [48, 56]}, {'t...</td>\n",
       "      <td>7</td>\n",
       "      <td>Friday</td>\n",
       "    </tr>\n",
       "    <tr>\n",
       "      <td>14</td>\n",
       "      <td>1233293650949365760</td>\n",
       "      <td>omkar_raii staup like synctactic democratisin...</td>\n",
       "      <td>2020-02-28 07:31:34</td>\n",
       "      <td>False</td>\n",
       "      <td>197</td>\n",
       "      <td>Hemanth Kumar R</td>\n",
       "      <td>Hemanthkr15586</td>\n",
       "      <td>54</td>\n",
       "      <td>Bengaluru</td>\n",
       "      <td>[{'text': 'DataScience', 'indices': [68, 80]},...</td>\n",
       "      <td>7</td>\n",
       "      <td>Friday</td>\n",
       "    </tr>\n",
       "  </tbody>\n",
       "</table>\n",
       "</div>"
      ],
      "text/plain": [
       "                     id                                               text  \\\n",
       "0   1233294134179454976   amardeepkaushal deep learning chatbot everyth...   \n",
       "1   1233294108036345857   amardeepkaushal deep learning chatbot everyth...   \n",
       "2   1233294099849129984  machine learning deep learning aificial intell...   \n",
       "3   1233294059088891905   oracleanalytics make datascience team effo co...   \n",
       "4   1233294037127507968   oracleanalytics make datascience team effo co...   \n",
       "5   1233293836899713028   gp_pulipaka best paper award iclr bigdata ana...   \n",
       "6   1233293823691743235   gp_pulipaka best paper award iclr bigdata ana...   \n",
       "7   1233293822613999617   amardeepkaushal deep learning chatbot everyth...   \n",
       "8   1233293788065476608  ai datascience ml robotics machine learning pa...   \n",
       "9   1233293714652618753   amardeepkaushal deep learning chatbot everyth...   \n",
       "10  1233293692519272448   amardeepkaushal deep learning chatbot everyth...   \n",
       "11  1233293690136719360   sklausdev machine learning encrypted data lon...   \n",
       "12  1233293658914512898   idalail data analytics sql newbs beginner mar...   \n",
       "13  1233293654510460928   gp_pulipaka best paper award iclr bigdata ana...   \n",
       "14  1233293650949365760   omkar_raii staup like synctactic democratisin...   \n",
       "\n",
       "            created_at  retweeted  retweet_count                  name  \\\n",
       "0  2020-02-28 07:33:29      False             62                J-FACE   \n",
       "1  2020-02-28 07:33:23      False             62        Ybeezydakid101   \n",
       "2  2020-02-28 07:33:21      False              0         Chuck Russell   \n",
       "3  2020-02-28 07:33:11      False              6  HubofMachineLearning   \n",
       "4  2020-02-28 07:33:06      False              6     Gabriel Trauvitch   \n",
       "5  2020-02-28 07:32:18      False             30    CyberSecurityBot 🤖   \n",
       "6  2020-02-28 07:32:15      False             30              LinuxBot   \n",
       "7  2020-02-28 07:32:15      False             62            Red Bizzle   \n",
       "8  2020-02-28 07:32:07      False              0          Kevin Cooper   \n",
       "9  2020-02-28 07:31:49      False             62                 Brick   \n",
       "10 2020-02-28 07:31:44      False             62            MeYouMusic   \n",
       "11 2020-02-28 07:31:43      False              1       Harshavardhan S   \n",
       "12 2020-02-28 07:31:36      False             11  HubofMachineLearning   \n",
       "13 2020-02-28 07:31:35      False             30  HubofMachineLearning   \n",
       "14 2020-02-28 07:31:34      False            197       Hemanth Kumar R   \n",
       "\n",
       "   user_screen_name  user_followers_count            user_location  \\\n",
       "0        JFace4Ever                  1313            Charlotte, NC   \n",
       "1     OfficalYBPage                  1510   Indianapolis, IN 46229   \n",
       "2           cichuck                 22827           Harrisburg, PA   \n",
       "3           hubofml                  1834                 Germany    \n",
       "4          gtrauvit                   165           Athens, Greece   \n",
       "5      CyberSecCare                    83                   Matrix   \n",
       "6          LlnuxBot                  1239             Raspberry Pi   \n",
       "7      RedBizzle131                  1272           Tra Riverz, MI   \n",
       "8    KevinCooperCEO                  2334                            \n",
       "9      MrneedaBrick                   839              Atlanta, GA   \n",
       "10    meyoumusicboy                  2843              Atlanta, GA   \n",
       "11   HarshaSanthoor                     8                            \n",
       "12          hubofml                  1834                 Germany    \n",
       "13          hubofml                  1834                 Germany    \n",
       "14   Hemanthkr15586                    54                Bengaluru   \n",
       "\n",
       "                                             Hashtags  tweet_hour    days  \n",
       "0   [{'text': 'DigitalTransformation', 'indices': ...           7  Friday  \n",
       "1   [{'text': 'DigitalTransformation', 'indices': ...           7  Friday  \n",
       "2           [{'text': 'tech', 'indices': [104, 109]}]           7  Friday  \n",
       "3      [{'text': 'datascience', 'indices': [38, 50]}]           7  Friday  \n",
       "4      [{'text': 'datascience', 'indices': [38, 50]}]           7  Friday  \n",
       "5   [{'text': 'BigData', 'indices': [48, 56]}, {'t...           7  Friday  \n",
       "6   [{'text': 'BigData', 'indices': [48, 56]}, {'t...           7  Friday  \n",
       "7   [{'text': 'DigitalTransformation', 'indices': ...           7  Friday  \n",
       "8   [{'text': 'AI', 'indices': [0, 3]}, {'text': '...           7  Friday  \n",
       "9   [{'text': 'DigitalTransformation', 'indices': ...           7  Friday  \n",
       "10  [{'text': 'DigitalTransformation', 'indices': ...           7  Friday  \n",
       "11  [{'text': 'MachineLearning', 'indices': [88, 1...           7  Friday  \n",
       "12  [{'text': 'data', 'indices': [103, 108]}, {'te...           7  Friday  \n",
       "13  [{'text': 'BigData', 'indices': [48, 56]}, {'t...           7  Friday  \n",
       "14  [{'text': 'DataScience', 'indices': [68, 80]},...           7  Friday  "
      ]
     },
     "execution_count": 122,
     "metadata": {},
     "output_type": "execute_result"
    }
   ],
   "source": [
    "df"
   ]
  },
  {
   "cell_type": "code",
   "execution_count": 123,
   "metadata": {},
   "outputs": [],
   "source": [
    "from textblob import TextBlob"
   ]
  },
  {
   "cell_type": "code",
   "execution_count": 124,
   "metadata": {},
   "outputs": [],
   "source": [
    "def sentiment_score(df):\n",
    "    text = df['text']\n",
    "    \n",
    "    for i in range(0, len(text)):\n",
    "        textB = TextBlob(text[i])\n",
    "        sentiment_score = textB.sentiment.polarity\n",
    "        df.set_value(i, 'sentiment_score', sentiment_score)\n",
    "        \n",
    "        \n",
    "        if sentiment_score < 0.00:\n",
    "            sentiment_class = 'Negative'\n",
    "            df.set_value(i, 'sentiment_class', sentiment_class)\n",
    "            \n",
    "        elif sentiment_score > 0.00:\n",
    "            sentiment_class ='Positive'\n",
    "            df.set_value(i, 'sentiment_class', sentiment_class)\n",
    "        else:\n",
    "            sentiment_class = 'Notr'\n",
    "            df.set_value(i, 'sentiment_class', sentiment_class)\n",
    "    return df\n",
    "\n"
   ]
  },
  {
   "cell_type": "code",
   "execution_count": 125,
   "metadata": {},
   "outputs": [
    {
     "data": {
      "text/html": [
       "<div>\n",
       "<style scoped>\n",
       "    .dataframe tbody tr th:only-of-type {\n",
       "        vertical-align: middle;\n",
       "    }\n",
       "\n",
       "    .dataframe tbody tr th {\n",
       "        vertical-align: top;\n",
       "    }\n",
       "\n",
       "    .dataframe thead th {\n",
       "        text-align: right;\n",
       "    }\n",
       "</style>\n",
       "<table border=\"1\" class=\"dataframe\">\n",
       "  <thead>\n",
       "    <tr style=\"text-align: right;\">\n",
       "      <th></th>\n",
       "      <th>id</th>\n",
       "      <th>text</th>\n",
       "      <th>created_at</th>\n",
       "      <th>retweeted</th>\n",
       "      <th>retweet_count</th>\n",
       "      <th>name</th>\n",
       "      <th>user_screen_name</th>\n",
       "      <th>user_followers_count</th>\n",
       "      <th>user_location</th>\n",
       "      <th>Hashtags</th>\n",
       "      <th>tweet_hour</th>\n",
       "      <th>days</th>\n",
       "      <th>sentiment_score</th>\n",
       "      <th>sentiment_class</th>\n",
       "    </tr>\n",
       "  </thead>\n",
       "  <tbody>\n",
       "    <tr>\n",
       "      <td>0</td>\n",
       "      <td>1233294134179454976</td>\n",
       "      <td>amardeepkaushal deep learning chatbot everyth...</td>\n",
       "      <td>2020-02-28 07:33:29</td>\n",
       "      <td>False</td>\n",
       "      <td>62</td>\n",
       "      <td>J-FACE</td>\n",
       "      <td>JFace4Ever</td>\n",
       "      <td>1313</td>\n",
       "      <td>Charlotte, NC</td>\n",
       "      <td>[{'text': 'DigitalTransformation', 'indices': ...</td>\n",
       "      <td>7</td>\n",
       "      <td>Friday</td>\n",
       "      <td>0.0</td>\n",
       "      <td>Notr</td>\n",
       "    </tr>\n",
       "    <tr>\n",
       "      <td>1</td>\n",
       "      <td>1233294108036345857</td>\n",
       "      <td>amardeepkaushal deep learning chatbot everyth...</td>\n",
       "      <td>2020-02-28 07:33:23</td>\n",
       "      <td>False</td>\n",
       "      <td>62</td>\n",
       "      <td>Ybeezydakid101</td>\n",
       "      <td>OfficalYBPage</td>\n",
       "      <td>1510</td>\n",
       "      <td>Indianapolis, IN 46229</td>\n",
       "      <td>[{'text': 'DigitalTransformation', 'indices': ...</td>\n",
       "      <td>7</td>\n",
       "      <td>Friday</td>\n",
       "      <td>0.0</td>\n",
       "      <td>Notr</td>\n",
       "    </tr>\n",
       "    <tr>\n",
       "      <td>2</td>\n",
       "      <td>1233294099849129984</td>\n",
       "      <td>machine learning deep learning aificial intell...</td>\n",
       "      <td>2020-02-28 07:33:21</td>\n",
       "      <td>False</td>\n",
       "      <td>0</td>\n",
       "      <td>Chuck Russell</td>\n",
       "      <td>cichuck</td>\n",
       "      <td>22827</td>\n",
       "      <td>Harrisburg, PA</td>\n",
       "      <td>[{'text': 'tech', 'indices': [104, 109]}]</td>\n",
       "      <td>7</td>\n",
       "      <td>Friday</td>\n",
       "      <td>0.0</td>\n",
       "      <td>Notr</td>\n",
       "    </tr>\n",
       "    <tr>\n",
       "      <td>3</td>\n",
       "      <td>1233294059088891905</td>\n",
       "      <td>oracleanalytics make datascience team effo co...</td>\n",
       "      <td>2020-02-28 07:33:11</td>\n",
       "      <td>False</td>\n",
       "      <td>6</td>\n",
       "      <td>HubofMachineLearning</td>\n",
       "      <td>hubofml</td>\n",
       "      <td>1834</td>\n",
       "      <td>Germany</td>\n",
       "      <td>[{'text': 'datascience', 'indices': [38, 50]}]</td>\n",
       "      <td>7</td>\n",
       "      <td>Friday</td>\n",
       "      <td>0.0</td>\n",
       "      <td>Notr</td>\n",
       "    </tr>\n",
       "    <tr>\n",
       "      <td>4</td>\n",
       "      <td>1233294037127507968</td>\n",
       "      <td>oracleanalytics make datascience team effo co...</td>\n",
       "      <td>2020-02-28 07:33:06</td>\n",
       "      <td>False</td>\n",
       "      <td>6</td>\n",
       "      <td>Gabriel Trauvitch</td>\n",
       "      <td>gtrauvit</td>\n",
       "      <td>165</td>\n",
       "      <td>Athens, Greece</td>\n",
       "      <td>[{'text': 'datascience', 'indices': [38, 50]}]</td>\n",
       "      <td>7</td>\n",
       "      <td>Friday</td>\n",
       "      <td>0.0</td>\n",
       "      <td>Notr</td>\n",
       "    </tr>\n",
       "    <tr>\n",
       "      <td>5</td>\n",
       "      <td>1233293836899713028</td>\n",
       "      <td>gp_pulipaka best paper award iclr bigdata ana...</td>\n",
       "      <td>2020-02-28 07:32:18</td>\n",
       "      <td>False</td>\n",
       "      <td>30</td>\n",
       "      <td>CyberSecurityBot 🤖</td>\n",
       "      <td>CyberSecCare</td>\n",
       "      <td>83</td>\n",
       "      <td>Matrix</td>\n",
       "      <td>[{'text': 'BigData', 'indices': [48, 56]}, {'t...</td>\n",
       "      <td>7</td>\n",
       "      <td>Friday</td>\n",
       "      <td>1.0</td>\n",
       "      <td>Positive</td>\n",
       "    </tr>\n",
       "    <tr>\n",
       "      <td>6</td>\n",
       "      <td>1233293823691743235</td>\n",
       "      <td>gp_pulipaka best paper award iclr bigdata ana...</td>\n",
       "      <td>2020-02-28 07:32:15</td>\n",
       "      <td>False</td>\n",
       "      <td>30</td>\n",
       "      <td>LinuxBot</td>\n",
       "      <td>LlnuxBot</td>\n",
       "      <td>1239</td>\n",
       "      <td>Raspberry Pi</td>\n",
       "      <td>[{'text': 'BigData', 'indices': [48, 56]}, {'t...</td>\n",
       "      <td>7</td>\n",
       "      <td>Friday</td>\n",
       "      <td>1.0</td>\n",
       "      <td>Positive</td>\n",
       "    </tr>\n",
       "    <tr>\n",
       "      <td>7</td>\n",
       "      <td>1233293822613999617</td>\n",
       "      <td>amardeepkaushal deep learning chatbot everyth...</td>\n",
       "      <td>2020-02-28 07:32:15</td>\n",
       "      <td>False</td>\n",
       "      <td>62</td>\n",
       "      <td>Red Bizzle</td>\n",
       "      <td>RedBizzle131</td>\n",
       "      <td>1272</td>\n",
       "      <td>Tra Riverz, MI</td>\n",
       "      <td>[{'text': 'DigitalTransformation', 'indices': ...</td>\n",
       "      <td>7</td>\n",
       "      <td>Friday</td>\n",
       "      <td>0.0</td>\n",
       "      <td>Notr</td>\n",
       "    </tr>\n",
       "    <tr>\n",
       "      <td>8</td>\n",
       "      <td>1233293788065476608</td>\n",
       "      <td>ai datascience ml robotics machine learning pa...</td>\n",
       "      <td>2020-02-28 07:32:07</td>\n",
       "      <td>False</td>\n",
       "      <td>0</td>\n",
       "      <td>Kevin Cooper</td>\n",
       "      <td>KevinCooperCEO</td>\n",
       "      <td>2334</td>\n",
       "      <td></td>\n",
       "      <td>[{'text': 'AI', 'indices': [0, 3]}, {'text': '...</td>\n",
       "      <td>7</td>\n",
       "      <td>Friday</td>\n",
       "      <td>0.0</td>\n",
       "      <td>Notr</td>\n",
       "    </tr>\n",
       "    <tr>\n",
       "      <td>9</td>\n",
       "      <td>1233293714652618753</td>\n",
       "      <td>amardeepkaushal deep learning chatbot everyth...</td>\n",
       "      <td>2020-02-28 07:31:49</td>\n",
       "      <td>False</td>\n",
       "      <td>62</td>\n",
       "      <td>Brick</td>\n",
       "      <td>MrneedaBrick</td>\n",
       "      <td>839</td>\n",
       "      <td>Atlanta, GA</td>\n",
       "      <td>[{'text': 'DigitalTransformation', 'indices': ...</td>\n",
       "      <td>7</td>\n",
       "      <td>Friday</td>\n",
       "      <td>0.0</td>\n",
       "      <td>Notr</td>\n",
       "    </tr>\n",
       "    <tr>\n",
       "      <td>10</td>\n",
       "      <td>1233293692519272448</td>\n",
       "      <td>amardeepkaushal deep learning chatbot everyth...</td>\n",
       "      <td>2020-02-28 07:31:44</td>\n",
       "      <td>False</td>\n",
       "      <td>62</td>\n",
       "      <td>MeYouMusic</td>\n",
       "      <td>meyoumusicboy</td>\n",
       "      <td>2843</td>\n",
       "      <td>Atlanta, GA</td>\n",
       "      <td>[{'text': 'DigitalTransformation', 'indices': ...</td>\n",
       "      <td>7</td>\n",
       "      <td>Friday</td>\n",
       "      <td>0.0</td>\n",
       "      <td>Notr</td>\n",
       "    </tr>\n",
       "    <tr>\n",
       "      <td>11</td>\n",
       "      <td>1233293690136719360</td>\n",
       "      <td>sklausdev machine learning encrypted data lon...</td>\n",
       "      <td>2020-02-28 07:31:43</td>\n",
       "      <td>False</td>\n",
       "      <td>1</td>\n",
       "      <td>Harshavardhan S</td>\n",
       "      <td>HarshaSanthoor</td>\n",
       "      <td>8</td>\n",
       "      <td></td>\n",
       "      <td>[{'text': 'MachineLearning', 'indices': [88, 1...</td>\n",
       "      <td>7</td>\n",
       "      <td>Friday</td>\n",
       "      <td>0.0</td>\n",
       "      <td>Notr</td>\n",
       "    </tr>\n",
       "    <tr>\n",
       "      <td>12</td>\n",
       "      <td>1233293658914512898</td>\n",
       "      <td>idalail data analytics sql newbs beginner mar...</td>\n",
       "      <td>2020-02-28 07:31:36</td>\n",
       "      <td>False</td>\n",
       "      <td>11</td>\n",
       "      <td>HubofMachineLearning</td>\n",
       "      <td>hubofml</td>\n",
       "      <td>1834</td>\n",
       "      <td>Germany</td>\n",
       "      <td>[{'text': 'data', 'indices': [103, 108]}, {'te...</td>\n",
       "      <td>7</td>\n",
       "      <td>Friday</td>\n",
       "      <td>0.0</td>\n",
       "      <td>Notr</td>\n",
       "    </tr>\n",
       "    <tr>\n",
       "      <td>13</td>\n",
       "      <td>1233293654510460928</td>\n",
       "      <td>gp_pulipaka best paper award iclr bigdata ana...</td>\n",
       "      <td>2020-02-28 07:31:35</td>\n",
       "      <td>False</td>\n",
       "      <td>30</td>\n",
       "      <td>HubofMachineLearning</td>\n",
       "      <td>hubofml</td>\n",
       "      <td>1834</td>\n",
       "      <td>Germany</td>\n",
       "      <td>[{'text': 'BigData', 'indices': [48, 56]}, {'t...</td>\n",
       "      <td>7</td>\n",
       "      <td>Friday</td>\n",
       "      <td>1.0</td>\n",
       "      <td>Positive</td>\n",
       "    </tr>\n",
       "    <tr>\n",
       "      <td>14</td>\n",
       "      <td>1233293650949365760</td>\n",
       "      <td>omkar_raii staup like synctactic democratisin...</td>\n",
       "      <td>2020-02-28 07:31:34</td>\n",
       "      <td>False</td>\n",
       "      <td>197</td>\n",
       "      <td>Hemanth Kumar R</td>\n",
       "      <td>Hemanthkr15586</td>\n",
       "      <td>54</td>\n",
       "      <td>Bengaluru</td>\n",
       "      <td>[{'text': 'DataScience', 'indices': [68, 80]},...</td>\n",
       "      <td>7</td>\n",
       "      <td>Friday</td>\n",
       "      <td>0.0</td>\n",
       "      <td>Notr</td>\n",
       "    </tr>\n",
       "  </tbody>\n",
       "</table>\n",
       "</div>"
      ],
      "text/plain": [
       "                     id                                               text  \\\n",
       "0   1233294134179454976   amardeepkaushal deep learning chatbot everyth...   \n",
       "1   1233294108036345857   amardeepkaushal deep learning chatbot everyth...   \n",
       "2   1233294099849129984  machine learning deep learning aificial intell...   \n",
       "3   1233294059088891905   oracleanalytics make datascience team effo co...   \n",
       "4   1233294037127507968   oracleanalytics make datascience team effo co...   \n",
       "5   1233293836899713028   gp_pulipaka best paper award iclr bigdata ana...   \n",
       "6   1233293823691743235   gp_pulipaka best paper award iclr bigdata ana...   \n",
       "7   1233293822613999617   amardeepkaushal deep learning chatbot everyth...   \n",
       "8   1233293788065476608  ai datascience ml robotics machine learning pa...   \n",
       "9   1233293714652618753   amardeepkaushal deep learning chatbot everyth...   \n",
       "10  1233293692519272448   amardeepkaushal deep learning chatbot everyth...   \n",
       "11  1233293690136719360   sklausdev machine learning encrypted data lon...   \n",
       "12  1233293658914512898   idalail data analytics sql newbs beginner mar...   \n",
       "13  1233293654510460928   gp_pulipaka best paper award iclr bigdata ana...   \n",
       "14  1233293650949365760   omkar_raii staup like synctactic democratisin...   \n",
       "\n",
       "            created_at  retweeted  retweet_count                  name  \\\n",
       "0  2020-02-28 07:33:29      False             62                J-FACE   \n",
       "1  2020-02-28 07:33:23      False             62        Ybeezydakid101   \n",
       "2  2020-02-28 07:33:21      False              0         Chuck Russell   \n",
       "3  2020-02-28 07:33:11      False              6  HubofMachineLearning   \n",
       "4  2020-02-28 07:33:06      False              6     Gabriel Trauvitch   \n",
       "5  2020-02-28 07:32:18      False             30    CyberSecurityBot 🤖   \n",
       "6  2020-02-28 07:32:15      False             30              LinuxBot   \n",
       "7  2020-02-28 07:32:15      False             62            Red Bizzle   \n",
       "8  2020-02-28 07:32:07      False              0          Kevin Cooper   \n",
       "9  2020-02-28 07:31:49      False             62                 Brick   \n",
       "10 2020-02-28 07:31:44      False             62            MeYouMusic   \n",
       "11 2020-02-28 07:31:43      False              1       Harshavardhan S   \n",
       "12 2020-02-28 07:31:36      False             11  HubofMachineLearning   \n",
       "13 2020-02-28 07:31:35      False             30  HubofMachineLearning   \n",
       "14 2020-02-28 07:31:34      False            197       Hemanth Kumar R   \n",
       "\n",
       "   user_screen_name  user_followers_count            user_location  \\\n",
       "0        JFace4Ever                  1313            Charlotte, NC   \n",
       "1     OfficalYBPage                  1510   Indianapolis, IN 46229   \n",
       "2           cichuck                 22827           Harrisburg, PA   \n",
       "3           hubofml                  1834                 Germany    \n",
       "4          gtrauvit                   165           Athens, Greece   \n",
       "5      CyberSecCare                    83                   Matrix   \n",
       "6          LlnuxBot                  1239             Raspberry Pi   \n",
       "7      RedBizzle131                  1272           Tra Riverz, MI   \n",
       "8    KevinCooperCEO                  2334                            \n",
       "9      MrneedaBrick                   839              Atlanta, GA   \n",
       "10    meyoumusicboy                  2843              Atlanta, GA   \n",
       "11   HarshaSanthoor                     8                            \n",
       "12          hubofml                  1834                 Germany    \n",
       "13          hubofml                  1834                 Germany    \n",
       "14   Hemanthkr15586                    54                Bengaluru   \n",
       "\n",
       "                                             Hashtags  tweet_hour    days  \\\n",
       "0   [{'text': 'DigitalTransformation', 'indices': ...           7  Friday   \n",
       "1   [{'text': 'DigitalTransformation', 'indices': ...           7  Friday   \n",
       "2           [{'text': 'tech', 'indices': [104, 109]}]           7  Friday   \n",
       "3      [{'text': 'datascience', 'indices': [38, 50]}]           7  Friday   \n",
       "4      [{'text': 'datascience', 'indices': [38, 50]}]           7  Friday   \n",
       "5   [{'text': 'BigData', 'indices': [48, 56]}, {'t...           7  Friday   \n",
       "6   [{'text': 'BigData', 'indices': [48, 56]}, {'t...           7  Friday   \n",
       "7   [{'text': 'DigitalTransformation', 'indices': ...           7  Friday   \n",
       "8   [{'text': 'AI', 'indices': [0, 3]}, {'text': '...           7  Friday   \n",
       "9   [{'text': 'DigitalTransformation', 'indices': ...           7  Friday   \n",
       "10  [{'text': 'DigitalTransformation', 'indices': ...           7  Friday   \n",
       "11  [{'text': 'MachineLearning', 'indices': [88, 1...           7  Friday   \n",
       "12  [{'text': 'data', 'indices': [103, 108]}, {'te...           7  Friday   \n",
       "13  [{'text': 'BigData', 'indices': [48, 56]}, {'t...           7  Friday   \n",
       "14  [{'text': 'DataScience', 'indices': [68, 80]},...           7  Friday   \n",
       "\n",
       "    sentiment_score sentiment_class  \n",
       "0               0.0            Notr  \n",
       "1               0.0            Notr  \n",
       "2               0.0            Notr  \n",
       "3               0.0            Notr  \n",
       "4               0.0            Notr  \n",
       "5               1.0        Positive  \n",
       "6               1.0        Positive  \n",
       "7               0.0            Notr  \n",
       "8               0.0            Notr  \n",
       "9               0.0            Notr  \n",
       "10              0.0            Notr  \n",
       "11              0.0            Notr  \n",
       "12              0.0            Notr  \n",
       "13              1.0        Positive  \n",
       "14              0.0            Notr  "
      ]
     },
     "execution_count": 125,
     "metadata": {},
     "output_type": "execute_result"
    }
   ],
   "source": [
    "sentiment_score(df)"
   ]
  },
  {
   "cell_type": "code",
   "execution_count": 126,
   "metadata": {},
   "outputs": [
    {
     "data": {
      "text/plain": [
       "sentiment_class\n",
       "Notr        12\n",
       "Positive     3\n",
       "Name: id, dtype: int64"
      ]
     },
     "execution_count": 126,
     "metadata": {},
     "output_type": "execute_result"
    }
   ],
   "source": [
    "df.groupby('sentiment_class').count()['id']"
   ]
  },
  {
   "cell_type": "code",
   "execution_count": 127,
   "metadata": {},
   "outputs": [],
   "source": [
    "sentiment_freq = df.groupby('sentiment_class').count()['id']"
   ]
  },
  {
   "cell_type": "code",
   "execution_count": 128,
   "metadata": {},
   "outputs": [
    {
     "data": {
      "text/plain": [
       "<matplotlib.axes._subplots.AxesSubplot at 0x7ffa60fa20b8>"
      ]
     },
     "execution_count": 128,
     "metadata": {},
     "output_type": "execute_result"
    },
    {
     "data": {
      "image/png": "[encoded data removed]",
      "text/plain": [
       "<Figure size 432x288 with 1 Axes>"
      ]
     },
     "metadata": {
      "needs_background": "light"
     },
     "output_type": "display_data"
    }
   ],
   "source": [
    "sentiment_freq.plot.bar(x= 'sentiment_class', y='id')"
   ]
  },
  {
   "cell_type": "code",
   "execution_count": 129,
   "metadata": {},
   "outputs": [],
   "source": [
    "tweets = api.search(q = '#apple', lang='en', count=5000)"
   ]
  },
  {
   "cell_type": "code",
   "execution_count": 130,
   "metadata": {},
   "outputs": [],
   "source": [
    "def hashtag_df(results):\n",
    "    id_list = [tweet.id for tweet in results]\n",
    "    data_set = pd.DataFrame(id_list,columns=['id'])\n",
    "    \n",
    "    \n",
    "    data_set['text'] = [tweet.text for tweet in results]\n",
    "    data_set['created_at'] = [tweet.created_at for tweet in results]\n",
    "    data_set['retweeted'] = [tweet.retweeted for tweet in results]\n",
    "    data_set['retweet_count'] = [tweet.retweet_count for tweet in results]\n",
    "    data_set['name'] = [tweet.author.name for tweet in results]\n",
    "    data_set['user_screen_name'] = [tweet.author.screen_name for tweet in results]\n",
    "    data_set['user_followers_count'] = [tweet.author.followers_count for tweet in results]\n",
    "    data_set['user_location'] = [tweet.author.location for tweet in results]\n",
    "    data_set['Hashtags'] = [tweet.entities.get('hashtags') for tweet in results]\n",
    "    \n",
    "    return data_set"
   ]
  },
  {
   "cell_type": "code",
   "execution_count": 131,
   "metadata": {},
   "outputs": [],
   "source": [
    "df = hashtag_df(tweets)"
   ]
  },
  {
   "cell_type": "code",
   "execution_count": 132,
   "metadata": {},
   "outputs": [
    {
     "data": {
      "text/plain": [
       "(100, 10)"
      ]
     },
     "execution_count": 132,
     "metadata": {},
     "output_type": "execute_result"
    }
   ],
   "source": [
    "df.shape"
   ]
  },
  {
   "cell_type": "code",
   "execution_count": 133,
   "metadata": {},
   "outputs": [],
   "source": [
    "\n",
    "df['text'] = df['text'].apply(lambda x: \" \".join(x.lower() for x in x.split()))\n",
    "\n",
    "df['text'] = df['text'].str.replace('[^\\w\\s]', '')\n",
    "\n",
    "df['text'] = df['text'].str.replace('[\\d]','')\n",
    "\n",
    "\n",
    "import nltk\n",
    "from nltk.corpus import stopwords\n",
    "sw = stopwords.words('english')\n",
    "df['text'] = df['text'].apply(lambda x: \" \".join(x for x in x.split() if x not in sw))\n",
    "\n",
    "#lemmi\n",
    "from textblob import Word\n",
    "df['text'] = df['text'].apply(lambda x: \" \".join([Word(word).lemmatize() for word in x.split()] ))\n",
    "\n",
    "df['text'] = df['text'].str.replace('rt', '')"
   ]
  },
  {
   "cell_type": "code",
   "execution_count": 134,
   "metadata": {},
   "outputs": [],
   "source": [
    "def sentiment_score(df):\n",
    "    text = df['text']\n",
    "    \n",
    "    for i in range(0, len(text)):\n",
    "        textB = TextBlob(text[i])\n",
    "        sentiment_score = textB.sentiment.polarity\n",
    "        df.set_value(i, 'sentiment_score', sentiment_score)\n",
    "        \n",
    "        \n",
    "        if sentiment_score < 0.00:\n",
    "            sentiment_class = 'Negative'\n",
    "            df.set_value(i, 'sentiment_class', sentiment_class)\n",
    "            \n",
    "        elif sentiment_score > 0.00:\n",
    "            sentiment_class ='Positive'\n",
    "            df.set_value(i, 'sentiment_class', sentiment_class)\n",
    "        else:\n",
    "            sentiment_class = 'Notr'\n",
    "            df.set_value(i, 'sentiment_class', sentiment_class)\n",
    "    return df"
   ]
  },
  {
   "cell_type": "code",
   "execution_count": 135,
   "metadata": {},
   "outputs": [],
   "source": [
    "df = sentiment_score(df)"
   ]
  },
  {
   "cell_type": "code",
   "execution_count": 136,
   "metadata": {},
   "outputs": [],
   "source": [
    "sentiment_freq = df.groupby('sentiment_class').count()['id']"
   ]
  },
  {
   "cell_type": "code",
   "execution_count": 137,
   "metadata": {},
   "outputs": [
    {
     "data": {
      "text/plain": [
       "sentiment_class\n",
       "Negative    12\n",
       "Notr        70\n",
       "Positive    18\n",
       "Name: id, dtype: int64"
      ]
     },
     "execution_count": 137,
     "metadata": {},
     "output_type": "execute_result"
    }
   ],
   "source": [
    "sentiment_freq"
   ]
  },
  {
   "cell_type": "code",
   "execution_count": 138,
   "metadata": {},
   "outputs": [
    {
     "data": {
      "text/plain": [
       "<matplotlib.axes._subplots.AxesSubplot at 0x7ffa6e2d3400>"
      ]
     },
     "execution_count": 138,
     "metadata": {},
     "output_type": "execute_result"
    },
    {
     "data": {
      "image/png": "[encoded data removed]",
      "text/plain": [
       "<Figure size 432x288 with 1 Axes>"
      ]
     },
     "metadata": {
      "needs_background": "light"
     },
     "output_type": "display_data"
    }
   ],
   "source": [
    "sentiment_freq.plot.bar(x = 'sentiment_class', y= 'id')"
   ]
  },
  {
   "cell_type": "markdown",
   "metadata": {},
   "source": [
    "# Thus Text Minning On Tweets from Twitter  is Done and Processed"
   ]
  }
 ],
 "metadata": {
  "kernelspec": {
   "display_name": "Python 3",
   "language": "python",
   "name": "python3"
  },
  "language_info": {
   "codemirror_mode": {
    "name": "ipython",
    "version": 3
   },
   "file_extension": ".py",
   "mimetype": "text/x-python",
   "name": "python",
   "nbconvert_exporter": "python",
   "pygments_lexer": "ipython3",
   "version": "3.8.3"
  },
  "varInspector": {
   "cols": {
    "lenName": 16,
    "lenType": 16,
    "lenVar": 40
   },
   "kernels_config": {
    "python": {
     "delete_cmd_postfix": "",
     "delete_cmd_prefix": "del ",
     "library": "var_list.py",
     "varRefreshCmd": "print(var_dic_list())"
    },
    "r": {
     "delete_cmd_postfix": ") ",
     "delete_cmd_prefix": "rm(",
     "library": "var_list.r",
     "varRefreshCmd": "cat(var_dic_list()) "
    }
   },
   "types_to_exclude": [
    "module",
    "function",
    "builtin_function_or_method",
    "instance",
    "_Feature"
   ],
   "window_display": false
  }
 },
 "nbformat": 4,
 "nbformat_minor": 4
}
