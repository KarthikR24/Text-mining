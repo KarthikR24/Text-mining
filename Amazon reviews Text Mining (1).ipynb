{
 "cells": [
  {
   "cell_type": "markdown",
   "metadata": {},
   "source": [
    "# Text Mining Amazon Reviews"
   ]
  },
  {
   "cell_type": "code",
   "execution_count": 2,
   "metadata": {
    "ExecuteTime": {
     "end_time": "2021-01-03T11:08:23.243485Z",
     "start_time": "2021-01-03T11:08:21.290945Z"
    }
   },
   "outputs": [],
   "source": [
    "from bs4 import BeautifulSoup as bs #Beautiful Soup is a Python library for pulling data out of HTML and XML files.\n",
    "import requests # making HTTP requests in Python"
   ]
  },
  {
   "cell_type": "code",
   "execution_count": 3,
   "metadata": {
    "ExecuteTime": {
     "end_time": "2021-01-03T11:09:20.861476Z",
     "start_time": "2021-01-03T11:09:20.857501Z"
    }
   },
   "outputs": [],
   "source": [
    "bt='https://www.amazon.in'\n",
    "ul='https://www.amazon.in/Apple-MacBook-Air-13-3-inch-MQD32HN/product-reviews/B073Q5R6VR/ref=cm_cr_getr_d_paging_btm_next_30?ie=UTF8&reviewerType=all_reviews'"
   ]
  },
  {
   "cell_type": "code",
   "execution_count": 279,
   "metadata": {
    "ExecuteTime": {
     "end_time": "2021-01-03T14:00:18.494651Z",
     "start_time": "2021-01-03T14:00:18.488651Z"
    }
   },
   "outputs": [],
   "source": [
    "cust_name = []   #define list to store Name of the customers\n",
    "review_title = []\n",
    "rate = []\n",
    "review_content = []"
   ]
  },
  {
   "cell_type": "code",
   "execution_count": 280,
   "metadata": {
    "ExecuteTime": {
     "end_time": "2021-01-03T14:00:20.897766Z",
     "start_time": "2021-01-03T14:00:20.301164Z"
    }
   },
   "outputs": [],
   "source": [
    "tt = 0\n",
    "while tt == 0:\n",
    "    page = requests.get(ul)\n",
    "    while page.ok == False:#if it fails to connect then this loop will be executing continuously until get response from site  \n",
    "        page = requests.get(ul)\n",
    "   \n",
    "\n",
    "    soup = bs(page.content,'html.parser')\n",
    "    soup.prettify()       #Prettify() function in BeautifulSoup will enable us to view how the tags are nested in the document.\n",
    "    \n",
    "    names = soup.find_all('span', class_='a-profile-name')\n",
    "    names.pop(0)\n",
    "    names.pop(0)\n",
    "    \n",
    "    for i in range(0,len(names)):\n",
    "        cust_name.append(names[i].get_text())\n",
    "        \n",
    "    title = soup.find_all(\"a\",{\"data-hook\":\"review-title\"})\n",
    "    for i in range(0,len(title)):\n",
    "        review_title.append(title[i].get_text())\n",
    "\n",
    "    rating = soup.find_all('i',class_='review-rating')\n",
    "    rating.pop(0)\n",
    "    rating.pop(0)\n",
    "    for i in range(0,len(rating)):\n",
    "        rate.append(rating[i].get_text())\n",
    "\n",
    "    review = soup.find_all(\"span\",{\"data-hook\":\"review-body\"})\n",
    "    for i in range(0,len(review)):\n",
    "        review_content.append(review[i].get_text())\n",
    "        \n",
    "    try:\n",
    "        for div in soup.findAll('li', attrs={'class':'a-last'}):\n",
    "            A = div.find('a')['href']\n",
    "        ul = bt + A\n",
    "    except:\n",
    "        break"
   ]
  },
  {
   "cell_type": "code",
   "execution_count": 281,
   "metadata": {
    "ExecuteTime": {
     "end_time": "2021-01-03T14:00:25.999477Z",
     "start_time": "2021-01-03T14:00:25.991481Z"
    }
   },
   "outputs": [
    {
     "data": {
      "text/plain": [
       "9"
      ]
     },
     "execution_count": 281,
     "metadata": {},
     "output_type": "execute_result"
    }
   ],
   "source": [
    "len(cust_name)"
   ]
  },
  {
   "cell_type": "code",
   "execution_count": 282,
   "metadata": {
    "ExecuteTime": {
     "end_time": "2021-01-03T14:00:27.003490Z",
     "start_time": "2021-01-03T14:00:26.995490Z"
    }
   },
   "outputs": [
    {
     "data": {
      "text/plain": [
       "9"
      ]
     },
     "execution_count": 282,
     "metadata": {},
     "output_type": "execute_result"
    }
   ],
   "source": [
    "len(review_title)"
   ]
  },
  {
   "cell_type": "code",
   "execution_count": 283,
   "metadata": {
    "ExecuteTime": {
     "end_time": "2021-01-03T14:00:27.669754Z",
     "start_time": "2021-01-03T14:00:27.663754Z"
    }
   },
   "outputs": [
    {
     "data": {
      "text/plain": [
       "9"
      ]
     },
     "execution_count": 283,
     "metadata": {},
     "output_type": "execute_result"
    }
   ],
   "source": [
    "len(review_content)"
   ]
  },
  {
   "cell_type": "code",
   "execution_count": 284,
   "metadata": {
    "ExecuteTime": {
     "end_time": "2021-01-03T14:00:28.282425Z",
     "start_time": "2021-01-03T14:00:28.275907Z"
    }
   },
   "outputs": [
    {
     "data": {
      "text/plain": [
       "9"
      ]
     },
     "execution_count": 284,
     "metadata": {},
     "output_type": "execute_result"
    }
   ],
   "source": [
    "len(rate)"
   ]
  },
  {
   "cell_type": "code",
   "execution_count": 285,
   "metadata": {
    "ExecuteTime": {
     "end_time": "2021-01-03T14:00:29.439708Z",
     "start_time": "2021-01-03T14:00:29.431709Z"
    }
   },
   "outputs": [],
   "source": [
    "review_title[:] = [titles.lstrip('\\n') for titles in review_title]\n",
    "\n",
    "review_title[:] = [titles.rstrip('\\n') for titles in review_title]\n",
    "\n",
    "review_content[:] = [titles.lstrip('\\n') for titles in review_content]\n",
    "\n",
    "review_content[:] = [titles.rstrip('\\n') for titles in review_content]"
   ]
  },
  {
   "cell_type": "code",
   "execution_count": 286,
   "metadata": {
    "ExecuteTime": {
     "end_time": "2021-01-03T14:01:29.097698Z",
     "start_time": "2021-01-03T14:00:58.985561Z"
    }
   },
   "outputs": [
    {
     "name": "stdout",
     "output_type": "stream",
     "text": [
      "Requirement already up-to-date: textblob in c:\\users\\pcs\\anaconda3\\lib\\site-packages (0.15.3)\n",
      "Requirement already satisfied, skipping upgrade: nltk>=3.1 in c:\\users\\pcs\\anaconda3\\lib\\site-packages (from textblob) (3.5)\n",
      "Requirement already satisfied, skipping upgrade: joblib in c:\\users\\pcs\\anaconda3\\lib\\site-packages (from nltk>=3.1->textblob) (0.16.0)\n",
      "Requirement already satisfied, skipping upgrade: tqdm in c:\\users\\pcs\\anaconda3\\lib\\site-packages (from nltk>=3.1->textblob) (4.47.0)\n",
      "Requirement already satisfied, skipping upgrade: click in c:\\users\\pcs\\anaconda3\\lib\\site-packages (from nltk>=3.1->textblob) (7.1.2)\n",
      "Requirement already satisfied, skipping upgrade: regex in c:\\users\\pcs\\anaconda3\\lib\\site-packages (from nltk>=3.1->textblob) (2020.6.8)\n",
      "Finished.\n"
     ]
    },
    {
     "name": "stderr",
     "output_type": "stream",
     "text": [
      "[nltk_data] Downloading package brown to\n",
      "[nltk_data]     C:\\Users\\pcs\\AppData\\Roaming\\nltk_data...\n",
      "[nltk_data]   Package brown is already up-to-date!\n",
      "[nltk_data] Downloading package punkt to\n",
      "[nltk_data]     C:\\Users\\pcs\\AppData\\Roaming\\nltk_data...\n",
      "[nltk_data]   Package punkt is already up-to-date!\n",
      "[nltk_data] Downloading package wordnet to\n",
      "[nltk_data]     C:\\Users\\pcs\\AppData\\Roaming\\nltk_data...\n",
      "[nltk_data]   Package wordnet is already up-to-date!\n",
      "[nltk_data] Downloading package averaged_perceptron_tagger to\n",
      "[nltk_data]     C:\\Users\\pcs\\AppData\\Roaming\\nltk_data...\n",
      "[nltk_data]   Package averaged_perceptron_tagger is already up-to-\n",
      "[nltk_data]       date!\n",
      "[nltk_data] Downloading package conll2000 to\n",
      "[nltk_data]     C:\\Users\\pcs\\AppData\\Roaming\\nltk_data...\n",
      "[nltk_data]   Package conll2000 is already up-to-date!\n",
      "[nltk_data] Downloading package movie_reviews to\n",
      "[nltk_data]     C:\\Users\\pcs\\AppData\\Roaming\\nltk_data...\n",
      "[nltk_data]   Package movie_reviews is already up-to-date!\n"
     ]
    },
    {
     "name": "stdout",
     "output_type": "stream",
     "text": [
      "Requirement already satisfied: wordcloud in c:\\users\\pcs\\anaconda3\\lib\\site-packages (1.8.1)\n",
      "Requirement already satisfied: matplotlib in c:\\users\\pcs\\anaconda3\\lib\\site-packages (from wordcloud) (3.3.3)\n",
      "Requirement already satisfied: numpy>=1.6.1 in c:\\users\\pcs\\anaconda3\\lib\\site-packages (from wordcloud) (1.18.5)\n",
      "Requirement already satisfied: pillow in c:\\users\\pcs\\anaconda3\\lib\\site-packages (from wordcloud) (7.2.0)\n",
      "Requirement already satisfied: python-dateutil>=2.1 in c:\\users\\pcs\\anaconda3\\lib\\site-packages (from matplotlib->wordcloud) (2.8.1)\n",
      "Requirement already satisfied: cycler>=0.10 in c:\\users\\pcs\\anaconda3\\lib\\site-packages (from matplotlib->wordcloud) (0.10.0)\n",
      "Requirement already satisfied: pyparsing!=2.0.4,!=2.1.2,!=2.1.6,>=2.0.3 in c:\\users\\pcs\\anaconda3\\lib\\site-packages (from matplotlib->wordcloud) (2.4.7)\n",
      "Requirement already satisfied: kiwisolver>=1.0.1 in c:\\users\\pcs\\anaconda3\\lib\\site-packages (from matplotlib->wordcloud) (1.2.0)\n",
      "Requirement already satisfied: six>=1.5 in c:\\users\\pcs\\anaconda3\\lib\\site-packages (from python-dateutil>=2.1->matplotlib->wordcloud) (1.15.0)\n",
      "Requirement already satisfied: nltk in c:\\users\\pcs\\anaconda3\\lib\\site-packages (3.5)\n",
      "Requirement already satisfied: regex in c:\\users\\pcs\\anaconda3\\lib\\site-packages (from nltk) (2020.6.8)\n",
      "Requirement already satisfied: tqdm in c:\\users\\pcs\\anaconda3\\lib\\site-packages (from nltk) (4.47.0)\n",
      "Requirement already satisfied: click in c:\\users\\pcs\\anaconda3\\lib\\site-packages (from nltk) (7.1.2)\n",
      "Requirement already satisfied: joblib in c:\\users\\pcs\\anaconda3\\lib\\site-packages (from nltk) (0.16.0)\n"
     ]
    },
    {
     "name": "stderr",
     "output_type": "stream",
     "text": [
      "[nltk_data] Downloading package stopwords to\n",
      "[nltk_data]     C:\\Users\\pcs\\AppData\\Roaming\\nltk_data...\n",
      "[nltk_data]   Package stopwords is already up-to-date!\n"
     ]
    },
    {
     "data": {
      "text/plain": [
       "True"
      ]
     },
     "execution_count": 286,
     "metadata": {},
     "output_type": "execute_result"
    }
   ],
   "source": [
    "!pip install -U textblob\n",
    "!python -m textblob.download_corpora\n",
    "!pip install wordcloud\n",
    "import pandas as pd\n",
    "import numpy as np\n",
    "import matplotlib.pyplot as plt\n",
    "import seaborn as sns\n",
    "sns.set_style('white')\n",
    "import nltk\n",
    "from nltk.corpus import stopwords\n",
    "from nltk import ngrams\n",
    "from nltk.tokenize import word_tokenize\n",
    "from textblob import TextBlob, Word, Blobber\n",
    "import wordcloud\n",
    "from wordcloud import WordCloud\n",
    "from nltk.stem import WordNetLemmatizer\n",
    "lemmatizer=WordNetLemmatizer()\n",
    "!pip install nltk\n",
    "nltk.download('stopwords')"
   ]
  },
  {
   "cell_type": "code",
   "execution_count": 287,
   "metadata": {
    "ExecuteTime": {
     "end_time": "2021-01-03T14:01:48.167721Z",
     "start_time": "2021-01-03T14:01:48.159719Z"
    }
   },
   "outputs": [],
   "source": [
    "df = pd.DataFrame()"
   ]
  },
  {
   "cell_type": "code",
   "execution_count": 288,
   "metadata": {
    "ExecuteTime": {
     "end_time": "2021-01-03T14:01:48.953850Z",
     "start_time": "2021-01-03T14:01:48.939850Z"
    }
   },
   "outputs": [],
   "source": [
    "df['Customer Name'] = cust_name\n",
    "df['Review Title'] = review_title\n",
    "df['Rating'] = rate\n",
    "df['Reviews'] = review_content"
   ]
  },
  {
   "cell_type": "code",
   "execution_count": 289,
   "metadata": {
    "ExecuteTime": {
     "end_time": "2021-01-03T14:01:49.889235Z",
     "start_time": "2021-01-03T14:01:49.871236Z"
    }
   },
   "outputs": [
    {
     "data": {
      "text/html": [
       "<div>\n",
       "<style scoped>\n",
       "    .dataframe tbody tr th:only-of-type {\n",
       "        vertical-align: middle;\n",
       "    }\n",
       "\n",
       "    .dataframe tbody tr th {\n",
       "        vertical-align: top;\n",
       "    }\n",
       "\n",
       "    .dataframe thead th {\n",
       "        text-align: right;\n",
       "    }\n",
       "</style>\n",
       "<table border=\"1\" class=\"dataframe\">\n",
       "  <thead>\n",
       "    <tr style=\"text-align: right;\">\n",
       "      <th></th>\n",
       "      <th>Customer Name</th>\n",
       "      <th>Review Title</th>\n",
       "      <th>Rating</th>\n",
       "      <th>Reviews</th>\n",
       "    </tr>\n",
       "  </thead>\n",
       "  <tbody>\n",
       "    <tr>\n",
       "      <th>0</th>\n",
       "      <td>Sam</td>\n",
       "      <td>Best thing to buy</td>\n",
       "      <td>5.0 out of 5 stars</td>\n",
       "      <td>I spend hours in the comparative analysis of...</td>\n",
       "    </tr>\n",
       "    <tr>\n",
       "      <th>1</th>\n",
       "      <td>karthikeyan subramanian</td>\n",
       "      <td>Awesome Product</td>\n",
       "      <td>5.0 out of 5 stars</td>\n",
       "      <td>Thanks to Amazon and the seller for selling ...</td>\n",
       "    </tr>\n",
       "    <tr>\n",
       "      <th>2</th>\n",
       "      <td>Isak Z.</td>\n",
       "      <td>Excellent product</td>\n",
       "      <td>5.0 out of 5 stars</td>\n",
       "      <td>Excellent product. Recommended</td>\n",
       "    </tr>\n",
       "    <tr>\n",
       "      <th>3</th>\n",
       "      <td>Sunil Gadge</td>\n",
       "      <td>Excellent</td>\n",
       "      <td>5.0 out of 5 stars</td>\n",
       "      <td>Excellent</td>\n",
       "    </tr>\n",
       "    <tr>\n",
       "      <th>4</th>\n",
       "      <td>Guri</td>\n",
       "      <td>happy</td>\n",
       "      <td>5.0 out of 5 stars</td>\n",
       "      <td>good</td>\n",
       "    </tr>\n",
       "    <tr>\n",
       "      <th>5</th>\n",
       "      <td>Sajal K.</td>\n",
       "      <td>Good</td>\n",
       "      <td>5.0 out of 5 stars</td>\n",
       "      <td>Good</td>\n",
       "    </tr>\n",
       "    <tr>\n",
       "      <th>6</th>\n",
       "      <td>Aarish Khanna</td>\n",
       "      <td>👌</td>\n",
       "      <td>5.0 out of 5 stars</td>\n",
       "      <td>👍👍👍</td>\n",
       "    </tr>\n",
       "    <tr>\n",
       "      <th>7</th>\n",
       "      <td>Loyal Customer</td>\n",
       "      <td>Super product</td>\n",
       "      <td>5.0 out of 5 stars</td>\n",
       "      <td>Good value</td>\n",
       "    </tr>\n",
       "    <tr>\n",
       "      <th>8</th>\n",
       "      <td>An</td>\n",
       "      <td>No..words 😍😍😘😘</td>\n",
       "      <td>5.0 out of 5 stars</td>\n",
       "      <td>Not for gamingIt's for those who.want to buy...</td>\n",
       "    </tr>\n",
       "  </tbody>\n",
       "</table>\n",
       "</div>"
      ],
      "text/plain": [
       "             Customer Name       Review Title              Rating  \\\n",
       "0                      Sam  Best thing to buy  5.0 out of 5 stars   \n",
       "1  karthikeyan subramanian    Awesome Product  5.0 out of 5 stars   \n",
       "2                  Isak Z.  Excellent product  5.0 out of 5 stars   \n",
       "3              Sunil Gadge          Excellent  5.0 out of 5 stars   \n",
       "4                     Guri              happy  5.0 out of 5 stars   \n",
       "5                 Sajal K.               Good  5.0 out of 5 stars   \n",
       "6            Aarish Khanna                  👌  5.0 out of 5 stars   \n",
       "7           Loyal Customer      Super product  5.0 out of 5 stars   \n",
       "8                       An     No..words 😍😍😘😘  5.0 out of 5 stars   \n",
       "\n",
       "                                             Reviews  \n",
       "0    I spend hours in the comparative analysis of...  \n",
       "1    Thanks to Amazon and the seller for selling ...  \n",
       "2                     Excellent product. Recommended  \n",
       "3                                          Excellent  \n",
       "4                                               good  \n",
       "5                                               Good  \n",
       "6                                                👍👍👍  \n",
       "7                                         Good value  \n",
       "8    Not for gamingIt's for those who.want to buy...  "
      ]
     },
     "execution_count": 289,
     "metadata": {},
     "output_type": "execute_result"
    }
   ],
   "source": [
    "df.head(10)"
   ]
  },
  {
   "cell_type": "code",
   "execution_count": 290,
   "metadata": {
    "ExecuteTime": {
     "end_time": "2021-01-03T14:01:51.515234Z",
     "start_time": "2021-01-03T14:01:51.495233Z"
    }
   },
   "outputs": [],
   "source": [
    "df.to_csv(r'E:fill.csv',index = True)\n"
   ]
  },
  {
   "cell_type": "code",
   "execution_count": 291,
   "metadata": {
    "ExecuteTime": {
     "end_time": "2021-01-03T14:01:52.493685Z",
     "start_time": "2021-01-03T14:01:52.479682Z"
    }
   },
   "outputs": [],
   "source": [
    "data = pd.read_csv(\"E:fill.csv\",index_col=[0])"
   ]
  },
  {
   "cell_type": "code",
   "execution_count": 292,
   "metadata": {
    "ExecuteTime": {
     "end_time": "2021-01-03T14:01:57.291720Z",
     "start_time": "2021-01-03T14:01:57.279720Z"
    }
   },
   "outputs": [
    {
     "data": {
      "text/plain": [
       "Customer Name    object\n",
       "Review Title     object\n",
       "Rating           object\n",
       "Reviews          object\n",
       "dtype: object"
      ]
     },
     "execution_count": 292,
     "metadata": {},
     "output_type": "execute_result"
    }
   ],
   "source": [
    "data.dtypes"
   ]
  },
  {
   "cell_type": "code",
   "execution_count": 293,
   "metadata": {
    "ExecuteTime": {
     "end_time": "2021-01-03T14:01:58.035179Z",
     "start_time": "2021-01-03T14:01:58.029177Z"
    }
   },
   "outputs": [],
   "source": [
    "data['Rating'] = [titles.rstrip(' out of 5 stars') for titles in data['Rating']]"
   ]
  },
  {
   "cell_type": "code",
   "execution_count": 294,
   "metadata": {
    "ExecuteTime": {
     "end_time": "2021-01-03T14:01:58.853459Z",
     "start_time": "2021-01-03T14:01:58.845459Z"
    }
   },
   "outputs": [
    {
     "data": {
      "text/plain": [
       "0    5.0\n",
       "1    5.0\n",
       "2    5.0\n",
       "3    5.0\n",
       "4    5.0\n",
       "5    5.0\n",
       "6    5.0\n",
       "7    5.0\n",
       "8    5.0\n",
       "Name: Rating, dtype: object"
      ]
     },
     "execution_count": 294,
     "metadata": {},
     "output_type": "execute_result"
    }
   ],
   "source": [
    "data['Rating']"
   ]
  },
  {
   "cell_type": "code",
   "execution_count": 295,
   "metadata": {
    "ExecuteTime": {
     "end_time": "2021-01-03T14:01:59.554503Z",
     "start_time": "2021-01-03T14:01:59.538461Z"
    }
   },
   "outputs": [
    {
     "data": {
      "text/plain": [
       "5.0    100.0\n",
       "Name: Rating, dtype: float64"
      ]
     },
     "execution_count": 295,
     "metadata": {},
     "output_type": "execute_result"
    }
   ],
   "source": [
    "data['Rating'].value_counts(normalize=True)*100"
   ]
  },
  {
   "cell_type": "code",
   "execution_count": 296,
   "metadata": {
    "ExecuteTime": {
     "end_time": "2021-01-03T14:02:01.801457Z",
     "start_time": "2021-01-03T14:02:01.785457Z"
    }
   },
   "outputs": [
    {
     "data": {
      "text/html": [
       "<div>\n",
       "<style scoped>\n",
       "    .dataframe tbody tr th:only-of-type {\n",
       "        vertical-align: middle;\n",
       "    }\n",
       "\n",
       "    .dataframe tbody tr th {\n",
       "        vertical-align: top;\n",
       "    }\n",
       "\n",
       "    .dataframe thead th {\n",
       "        text-align: right;\n",
       "    }\n",
       "</style>\n",
       "<table border=\"1\" class=\"dataframe\">\n",
       "  <thead>\n",
       "    <tr style=\"text-align: right;\">\n",
       "      <th></th>\n",
       "      <th>Customer Name</th>\n",
       "      <th>Review Title</th>\n",
       "      <th>Reviews</th>\n",
       "    </tr>\n",
       "    <tr>\n",
       "      <th>Rating</th>\n",
       "      <th></th>\n",
       "      <th></th>\n",
       "      <th></th>\n",
       "    </tr>\n",
       "  </thead>\n",
       "  <tbody>\n",
       "    <tr>\n",
       "      <th>5.0</th>\n",
       "      <td>9</td>\n",
       "      <td>9</td>\n",
       "      <td>9</td>\n",
       "    </tr>\n",
       "  </tbody>\n",
       "</table>\n",
       "</div>"
      ],
      "text/plain": [
       "        Customer Name  Review Title  Reviews\n",
       "Rating                                      \n",
       "5.0                 9             9        9"
      ]
     },
     "execution_count": 296,
     "metadata": {},
     "output_type": "execute_result"
    }
   ],
   "source": [
    "ratings=data.groupby(['Rating']).count()\n",
    "ratings"
   ]
  },
  {
   "cell_type": "code",
   "execution_count": 297,
   "metadata": {
    "ExecuteTime": {
     "end_time": "2021-01-03T14:02:03.387190Z",
     "start_time": "2021-01-03T14:02:03.097190Z"
    }
   },
   "outputs": [
    {
     "data": {
      "text/plain": [
       "Text(0, 0.5, 'Count')"
      ]
     },
     "execution_count": 297,
     "metadata": {},
     "output_type": "execute_result"
    },
    {
     "data": {
      "image/png": "[encoded data removed]",
      "text/plain": [
       "<Figure size 864x576 with 1 Axes>"
      ]
     },
     "metadata": {},
     "output_type": "display_data"
    }
   ],
   "source": [
    "plt.figure(figsize=(12,8))\n",
    "data['Rating'].value_counts().sort_index().plot(kind='bar')\n",
    "plt.title('Distribution of Rating')\n",
    "plt.xlabel('Rating')\n",
    "plt.ylabel('Count')"
   ]
  },
  {
   "cell_type": "code",
   "execution_count": 298,
   "metadata": {
    "ExecuteTime": {
     "end_time": "2021-01-03T14:02:04.176018Z",
     "start_time": "2021-01-03T14:02:03.901785Z"
    }
   },
   "outputs": [
    {
     "data": {
      "text/plain": [
       "Text(0, 0.5, 'Count')"
      ]
     },
     "execution_count": 298,
     "metadata": {},
     "output_type": "execute_result"
    },
    {
     "data": {
      "image/png": "[encoded data removed]",
      "text/plain": [
       "<Figure size 432x288 with 1 Axes>"
      ]
     },
     "metadata": {},
     "output_type": "display_data"
    }
   ],
   "source": [
    "data.Rating.hist()\n",
    "data.Rating.hist(bins=10)\n",
    "plt.xlabel('Rating')\n",
    "plt.ylabel('Count')"
   ]
  },
  {
   "cell_type": "code",
   "execution_count": 299,
   "metadata": {
    "ExecuteTime": {
     "end_time": "2021-01-03T14:02:05.181686Z",
     "start_time": "2021-01-03T14:02:05.169686Z"
    }
   },
   "outputs": [
    {
     "data": {
      "text/html": [
       "<div>\n",
       "<style scoped>\n",
       "    .dataframe tbody tr th:only-of-type {\n",
       "        vertical-align: middle;\n",
       "    }\n",
       "\n",
       "    .dataframe tbody tr th {\n",
       "        vertical-align: top;\n",
       "    }\n",
       "\n",
       "    .dataframe thead th {\n",
       "        text-align: right;\n",
       "    }\n",
       "</style>\n",
       "<table border=\"1\" class=\"dataframe\">\n",
       "  <thead>\n",
       "    <tr style=\"text-align: right;\">\n",
       "      <th></th>\n",
       "      <th>Reviews</th>\n",
       "    </tr>\n",
       "  </thead>\n",
       "  <tbody>\n",
       "    <tr>\n",
       "      <th>0</th>\n",
       "      <td>I spend hours in the comparative analysis of...</td>\n",
       "    </tr>\n",
       "    <tr>\n",
       "      <th>1</th>\n",
       "      <td>Thanks to Amazon and the seller for selling ...</td>\n",
       "    </tr>\n",
       "    <tr>\n",
       "      <th>2</th>\n",
       "      <td>Excellent product. Recommended</td>\n",
       "    </tr>\n",
       "    <tr>\n",
       "      <th>3</th>\n",
       "      <td>Excellent</td>\n",
       "    </tr>\n",
       "    <tr>\n",
       "      <th>4</th>\n",
       "      <td>good</td>\n",
       "    </tr>\n",
       "    <tr>\n",
       "      <th>5</th>\n",
       "      <td>Good</td>\n",
       "    </tr>\n",
       "    <tr>\n",
       "      <th>6</th>\n",
       "      <td>👍👍👍</td>\n",
       "    </tr>\n",
       "    <tr>\n",
       "      <th>7</th>\n",
       "      <td>Good value</td>\n",
       "    </tr>\n",
       "    <tr>\n",
       "      <th>8</th>\n",
       "      <td>Not for gamingIt's for those who.want to buy...</td>\n",
       "    </tr>\n",
       "  </tbody>\n",
       "</table>\n",
       "</div>"
      ],
      "text/plain": [
       "                                             Reviews\n",
       "0    I spend hours in the comparative analysis of...\n",
       "1    Thanks to Amazon and the seller for selling ...\n",
       "2                     Excellent product. Recommended\n",
       "3                                          Excellent\n",
       "4                                               good\n",
       "5                                               Good\n",
       "6                                                👍👍👍\n",
       "7                                         Good value\n",
       "8    Not for gamingIt's for those who.want to buy..."
      ]
     },
     "execution_count": 299,
     "metadata": {},
     "output_type": "execute_result"
    }
   ],
   "source": [
    "data.iloc[:,[3]]"
   ]
  },
  {
   "cell_type": "code",
   "execution_count": 300,
   "metadata": {
    "ExecuteTime": {
     "end_time": "2021-01-03T14:02:07.135055Z",
     "start_time": "2021-01-03T14:02:07.130041Z"
    }
   },
   "outputs": [],
   "source": [
    "\n",
    "Reviews=data.iloc[:,[3]]"
   ]
  },
  {
   "cell_type": "code",
   "execution_count": 301,
   "metadata": {
    "ExecuteTime": {
     "end_time": "2021-01-03T14:02:08.091452Z",
     "start_time": "2021-01-03T14:02:08.085485Z"
    }
   },
   "outputs": [
    {
     "data": {
      "text/plain": [
       "(9, 1)"
      ]
     },
     "execution_count": 301,
     "metadata": {},
     "output_type": "execute_result"
    }
   ],
   "source": [
    "Reviews.shape"
   ]
  },
  {
   "cell_type": "code",
   "execution_count": 302,
   "metadata": {
    "ExecuteTime": {
     "end_time": "2021-01-03T14:02:08.760673Z",
     "start_time": "2021-01-03T14:02:08.736672Z"
    }
   },
   "outputs": [
    {
     "data": {
      "text/html": [
       "<div>\n",
       "<style scoped>\n",
       "    .dataframe tbody tr th:only-of-type {\n",
       "        vertical-align: middle;\n",
       "    }\n",
       "\n",
       "    .dataframe tbody tr th {\n",
       "        vertical-align: top;\n",
       "    }\n",
       "\n",
       "    .dataframe thead th {\n",
       "        text-align: right;\n",
       "    }\n",
       "</style>\n",
       "<table border=\"1\" class=\"dataframe\">\n",
       "  <thead>\n",
       "    <tr style=\"text-align: right;\">\n",
       "      <th></th>\n",
       "      <th>Reviews</th>\n",
       "    </tr>\n",
       "  </thead>\n",
       "  <tbody>\n",
       "    <tr>\n",
       "      <th>count</th>\n",
       "      <td>9</td>\n",
       "    </tr>\n",
       "    <tr>\n",
       "      <th>unique</th>\n",
       "      <td>9</td>\n",
       "    </tr>\n",
       "    <tr>\n",
       "      <th>top</th>\n",
       "      <td>good</td>\n",
       "    </tr>\n",
       "    <tr>\n",
       "      <th>freq</th>\n",
       "      <td>1</td>\n",
       "    </tr>\n",
       "  </tbody>\n",
       "</table>\n",
       "</div>"
      ],
      "text/plain": [
       "       Reviews\n",
       "count        9\n",
       "unique       9\n",
       "top       good\n",
       "freq         1"
      ]
     },
     "execution_count": 302,
     "metadata": {},
     "output_type": "execute_result"
    }
   ],
   "source": [
    "Reviews.describe()"
   ]
  },
  {
   "cell_type": "code",
   "execution_count": 303,
   "metadata": {
    "ExecuteTime": {
     "end_time": "2021-01-03T14:02:09.445652Z",
     "start_time": "2021-01-03T14:02:09.435652Z"
    }
   },
   "outputs": [
    {
     "data": {
      "text/plain": [
       "Reviews    object\n",
       "dtype: object"
      ]
     },
     "execution_count": 303,
     "metadata": {},
     "output_type": "execute_result"
    }
   ],
   "source": [
    "Reviews.dtypes"
   ]
  },
  {
   "cell_type": "code",
   "execution_count": 304,
   "metadata": {
    "ExecuteTime": {
     "end_time": "2021-01-03T14:02:10.655520Z",
     "start_time": "2021-01-03T14:02:10.639486Z"
    }
   },
   "outputs": [
    {
     "data": {
      "text/html": [
       "<div>\n",
       "<style scoped>\n",
       "    .dataframe tbody tr th:only-of-type {\n",
       "        vertical-align: middle;\n",
       "    }\n",
       "\n",
       "    .dataframe tbody tr th {\n",
       "        vertical-align: top;\n",
       "    }\n",
       "\n",
       "    .dataframe thead th {\n",
       "        text-align: right;\n",
       "    }\n",
       "</style>\n",
       "<table border=\"1\" class=\"dataframe\">\n",
       "  <thead>\n",
       "    <tr style=\"text-align: right;\">\n",
       "      <th></th>\n",
       "      <th>Rating</th>\n",
       "      <th>Reviews</th>\n",
       "    </tr>\n",
       "  </thead>\n",
       "  <tbody>\n",
       "    <tr>\n",
       "      <th>0</th>\n",
       "      <td>5.0</td>\n",
       "      <td>I spend hours in the comparative analysis of...</td>\n",
       "    </tr>\n",
       "    <tr>\n",
       "      <th>1</th>\n",
       "      <td>5.0</td>\n",
       "      <td>Thanks to Amazon and the seller for selling ...</td>\n",
       "    </tr>\n",
       "    <tr>\n",
       "      <th>2</th>\n",
       "      <td>5.0</td>\n",
       "      <td>Excellent product. Recommended</td>\n",
       "    </tr>\n",
       "    <tr>\n",
       "      <th>3</th>\n",
       "      <td>5.0</td>\n",
       "      <td>Excellent</td>\n",
       "    </tr>\n",
       "    <tr>\n",
       "      <th>4</th>\n",
       "      <td>5.0</td>\n",
       "      <td>good</td>\n",
       "    </tr>\n",
       "  </tbody>\n",
       "</table>\n",
       "</div>"
      ],
      "text/plain": [
       "  Rating                                            Reviews\n",
       "0    5.0    I spend hours in the comparative analysis of...\n",
       "1    5.0    Thanks to Amazon and the seller for selling ...\n",
       "2    5.0                     Excellent product. Recommended\n",
       "3    5.0                                          Excellent\n",
       "4    5.0                                               good"
      ]
     },
     "execution_count": 304,
     "metadata": {},
     "output_type": "execute_result"
    }
   ],
   "source": [
    "# removing customer name and reviw title column as they have not that significance in output##\n",
    "data.drop([\"Customer Name\",\"Review Title\"],axis=1,inplace=True)\n",
    "\n",
    "data.head()"
   ]
  },
  {
   "cell_type": "code",
   "execution_count": 305,
   "metadata": {
    "ExecuteTime": {
     "end_time": "2021-01-03T14:02:11.780895Z",
     "start_time": "2021-01-03T14:02:11.774898Z"
    }
   },
   "outputs": [],
   "source": [
    "## Cleaning the text input for betting understanding of Machine..##\n",
    "\n",
    "##Converting all review into Lowercase..###\n",
    "data['Reviews']= data['Reviews'].apply(lambda x: \" \".join(word.lower() for word in x.split()))"
   ]
  },
  {
   "cell_type": "code",
   "execution_count": 306,
   "metadata": {
    "ExecuteTime": {
     "end_time": "2021-01-03T14:02:59.421187Z",
     "start_time": "2021-01-03T14:02:59.413194Z"
    }
   },
   "outputs": [],
   "source": [
    "## removing punctuation from review..#\n",
    "import string\n",
    "data['Reviews']=data['Reviews'].apply(lambda x:''.join([i for i in x  if i not in string.punctuation]))"
   ]
  },
  {
   "cell_type": "code",
   "execution_count": 307,
   "metadata": {
    "ExecuteTime": {
     "end_time": "2021-01-03T14:04:13.629538Z",
     "start_time": "2021-01-03T14:04:13.621540Z"
    }
   },
   "outputs": [],
   "source": [
    "## Remove Numbers from review...##\n",
    "data['Reviews']=data['Reviews'].str.replace('[0-9]','')"
   ]
  },
  {
   "cell_type": "code",
   "execution_count": 308,
   "metadata": {
    "ExecuteTime": {
     "end_time": "2021-01-03T14:06:31.116730Z",
     "start_time": "2021-01-03T14:06:31.110731Z"
    }
   },
   "outputs": [],
   "source": [
    "## removing all stopwords(english)....###\n",
    "from nltk.corpus import stopwords"
   ]
  },
  {
   "cell_type": "code",
   "execution_count": 311,
   "metadata": {
    "ExecuteTime": {
     "end_time": "2021-01-03T14:07:27.518915Z",
     "start_time": "2021-01-03T14:07:27.510949Z"
    }
   },
   "outputs": [],
   "source": [
    "stop_words=stopwords.words('english')"
   ]
  },
  {
   "cell_type": "code",
   "execution_count": 312,
   "metadata": {
    "ExecuteTime": {
     "end_time": "2021-01-03T14:07:28.164439Z",
     "start_time": "2021-01-03T14:07:28.158440Z"
    }
   },
   "outputs": [],
   "source": [
    "data['Reviews']=data['Reviews'].apply(lambda x: \" \".join(word for word in x.split() if word not in stop_words))\n"
   ]
  },
  {
   "cell_type": "code",
   "execution_count": 313,
   "metadata": {
    "ExecuteTime": {
     "end_time": "2021-01-03T14:08:03.419766Z",
     "start_time": "2021-01-03T14:08:03.403731Z"
    }
   },
   "outputs": [
    {
     "data": {
      "text/html": [
       "<div>\n",
       "<style scoped>\n",
       "    .dataframe tbody tr th:only-of-type {\n",
       "        vertical-align: middle;\n",
       "    }\n",
       "\n",
       "    .dataframe tbody tr th {\n",
       "        vertical-align: top;\n",
       "    }\n",
       "\n",
       "    .dataframe thead th {\n",
       "        text-align: right;\n",
       "    }\n",
       "</style>\n",
       "<table border=\"1\" class=\"dataframe\">\n",
       "  <thead>\n",
       "    <tr style=\"text-align: right;\">\n",
       "      <th></th>\n",
       "      <th>Rating</th>\n",
       "      <th>Reviews</th>\n",
       "    </tr>\n",
       "  </thead>\n",
       "  <tbody>\n",
       "    <tr>\n",
       "      <th>0</th>\n",
       "      <td>5.0</td>\n",
       "      <td>spend hours comparative analysis usage windows...</td>\n",
       "    </tr>\n",
       "    <tr>\n",
       "      <th>1</th>\n",
       "      <td>5.0</td>\n",
       "      <td>thanks amazon seller selling quality products ...</td>\n",
       "    </tr>\n",
       "    <tr>\n",
       "      <th>2</th>\n",
       "      <td>5.0</td>\n",
       "      <td>excellent product recommended</td>\n",
       "    </tr>\n",
       "    <tr>\n",
       "      <th>3</th>\n",
       "      <td>5.0</td>\n",
       "      <td>excellent</td>\n",
       "    </tr>\n",
       "    <tr>\n",
       "      <th>4</th>\n",
       "      <td>5.0</td>\n",
       "      <td>good</td>\n",
       "    </tr>\n",
       "  </tbody>\n",
       "</table>\n",
       "</div>"
      ],
      "text/plain": [
       "  Rating                                            Reviews\n",
       "0    5.0  spend hours comparative analysis usage windows...\n",
       "1    5.0  thanks amazon seller selling quality products ...\n",
       "2    5.0                      excellent product recommended\n",
       "3    5.0                                          excellent\n",
       "4    5.0                                               good"
      ]
     },
     "execution_count": 313,
     "metadata": {},
     "output_type": "execute_result"
    }
   ],
   "source": [
    "data.head(5)"
   ]
  },
  {
   "cell_type": "code",
   "execution_count": 314,
   "metadata": {
    "ExecuteTime": {
     "end_time": "2021-01-03T14:08:34.087568Z",
     "start_time": "2021-01-03T14:08:34.055567Z"
    }
   },
   "outputs": [],
   "source": [
    "from textblob import Word\n",
    "data['Reviews']= data['Reviews'].apply(lambda x: \" \".join([Word(word).lemmatize() for word in x.split()]))\n",
    "\n",
    "import re\n",
    "pattern = r\"((?<=^)|(?<= )).((?=$)|(?= ))\"\n",
    "data['Reviews']= data['Reviews'].apply(lambda x:(re.sub(pattern, '',x).strip()))"
   ]
  },
  {
   "cell_type": "code",
   "execution_count": 315,
   "metadata": {
    "ExecuteTime": {
     "end_time": "2021-01-03T14:17:04.487708Z",
     "start_time": "2021-01-03T14:17:04.475708Z"
    }
   },
   "outputs": [
    {
     "data": {
      "text/plain": [
       "0    spend hour comparative analysis usage window  ...\n",
       "1    thanks amazon seller selling quality product g...\n",
       "2                        excellent product recommended\n",
       "3                                            excellent\n",
       "4                                                 good\n",
       "Name: Reviews, dtype: object"
      ]
     },
     "execution_count": 315,
     "metadata": {},
     "output_type": "execute_result"
    }
   ],
   "source": [
    "data['Reviews'].head()"
   ]
  },
  {
   "cell_type": "code",
   "execution_count": 316,
   "metadata": {
    "ExecuteTime": {
     "end_time": "2021-01-03T14:17:21.405071Z",
     "start_time": "2021-01-03T14:17:21.379072Z"
    }
   },
   "outputs": [
    {
     "name": "stdout",
     "output_type": "stream",
     "text": [
      "   amazon  analysis  buy  cable  charger  comparative  described  display  \\\n",
      "0       0         1    0      0        0            1          0        1   \n",
      "1       1         0    0      0        0            0          0        0   \n",
      "2       0         0    0      0        0            0          0        0   \n",
      "3       0         0    0      0        0            0          0        0   \n",
      "4       0         0    0      0        0            0          0        0   \n",
      "5       0         0    0      0        0            0          0        0   \n",
      "6       0         0    0      0        0            0          0        0   \n",
      "7       0         0    0      0        0            0          0        0   \n",
      "8       0         0    2      1        1            0          1        0   \n",
      "\n",
      "   doesnt  dont  ...  time  usage  use  using  value  want  whowant  window  \\\n",
      "0       0     0  ...     0      1    1      0      0     0        0       1   \n",
      "1       0     0  ...     0      0    0      0      1     0        0       0   \n",
      "2       0     0  ...     0      0    0      0      0     0        0       0   \n",
      "3       0     0  ...     0      0    0      0      0     0        0       0   \n",
      "4       0     0  ...     0      0    0      0      0     0        0       0   \n",
      "5       0     0  ...     0      0    0      0      0     0        0       0   \n",
      "6       0     0  ...     0      0    0      0      0     0        0       0   \n",
      "7       0     0  ...     0      0    0      0      1     0        0       0   \n",
      "8       1     2  ...     1      0    0      1      0     1        1       1   \n",
      "\n",
      "   worksbattery  worth  \n",
      "0             0      0  \n",
      "1             0      0  \n",
      "2             0      0  \n",
      "3             0      0  \n",
      "4             0      0  \n",
      "5             0      0  \n",
      "6             0      0  \n",
      "7             0      0  \n",
      "8             1      1  \n",
      "\n",
      "[9 rows x 57 columns]\n"
     ]
    }
   ],
   "source": [
    "from sklearn.feature_extraction.text import CountVectorizer\n",
    "\n",
    "\n",
    "vec = CountVectorizer()\n",
    "X = vec.fit_transform(data['Reviews'])\n",
    "df = pd.DataFrame(X.toarray(), columns=vec.get_feature_names())\n",
    "print(df)"
   ]
  },
  {
   "cell_type": "code",
   "execution_count": 317,
   "metadata": {
    "ExecuteTime": {
     "end_time": "2021-01-03T14:17:44.545491Z",
     "start_time": "2021-01-03T14:17:44.531489Z"
    }
   },
   "outputs": [
    {
     "name": "stdout",
     "output_type": "stream",
     "text": [
      "  (0, 45)\t0.23760158237331974\n",
      "  (0, 38)\t0.23760158237331974\n",
      "  (0, 13)\t0.23760158237331974\n",
      "  (0, 27)\t0.23760158237331974\n",
      "  (0, 10)\t0.23760158237331974\n",
      "  (0, 41)\t0.23760158237331974\n",
      "  (0, 26)\t0.23760158237331974\n",
      "  (0, 49)\t0.23760158237331974\n",
      "  (0, 43)\t0.23760158237331974\n",
      "  (0, 7)\t0.23760158237331974\n",
      "  (0, 28)\t0.23760158237331974\n",
      "  (0, 25)\t0.23760158237331974\n",
      "  (0, 54)\t0.20068207920192474\n",
      "  (0, 48)\t0.23760158237331974\n",
      "  (0, 1)\t0.23760158237331974\n",
      "  (0, 5)\t0.23760158237331974\n",
      "  (0, 19)\t0.23760158237331974\n",
      "  (0, 42)\t0.23760158237331974\n",
      "  (1, 29)\t0.2343117004311495\n",
      "  (1, 51)\t0.2343117004311495\n",
      "  (1, 18)\t0.2343117004311495\n",
      "  (1, 32)\t0.468623400862299\n",
      "  (1, 34)\t0.5548360970987032\n",
      "  (1, 40)\t0.2774180485493516\n",
      "  (1, 39)\t0.2774180485493516\n",
      "  :\t:\n",
      "  (8, 16)\t0.16869349243874776\n",
      "  (8, 20)\t0.16869349243874776\n",
      "  (8, 14)\t0.16869349243874776\n",
      "  (8, 52)\t0.16869349243874776\n",
      "  (8, 9)\t0.3373869848774955\n",
      "  (8, 37)\t0.16869349243874776\n",
      "  (8, 22)\t0.16869349243874776\n",
      "  (8, 24)\t0.16869349243874776\n",
      "  (8, 47)\t0.16869349243874776\n",
      "  (8, 3)\t0.16869349243874776\n",
      "  (8, 4)\t0.16869349243874776\n",
      "  (8, 31)\t0.16869349243874776\n",
      "  (8, 36)\t0.16869349243874776\n",
      "  (8, 8)\t0.16869349243874776\n",
      "  (8, 6)\t0.16869349243874776\n",
      "  (8, 23)\t0.16869349243874776\n",
      "  (8, 55)\t0.16869349243874776\n",
      "  (8, 33)\t0.16869349243874776\n",
      "  (8, 21)\t0.16869349243874776\n",
      "  (8, 2)\t0.3373869848774955\n",
      "  (8, 53)\t0.16869349243874776\n",
      "  (8, 15)\t0.16869349243874776\n",
      "  (8, 29)\t0.14248120939384581\n",
      "  (8, 18)\t0.14248120939384581\n",
      "  (8, 54)\t0.14248120939384581\n"
     ]
    }
   ],
   "source": [
    "from sklearn.feature_extraction.text import TfidfVectorizer\n",
    "tfidf=TfidfVectorizer()\n",
    "TFIDF=tfidf.fit_transform(data['Reviews'])\n",
    "print(TFIDF)"
   ]
  },
  {
   "cell_type": "code",
   "execution_count": 318,
   "metadata": {
    "ExecuteTime": {
     "end_time": "2021-01-03T14:18:07.927138Z",
     "start_time": "2021-01-03T14:18:01.061131Z"
    }
   },
   "outputs": [
    {
     "data": {
      "text/plain": [
       "<matplotlib.image.AxesImage at 0x212b576a00>"
      ]
     },
     "execution_count": 318,
     "metadata": {},
     "output_type": "execute_result"
    },
    {
     "data": {
      "image/png": "[encoded data removed]",
      "text/plain": [
       "<Figure size 720x720 with 1 Axes>"
      ]
     },
     "metadata": {},
     "output_type": "display_data"
    }
   ],
   "source": [
    "\n",
    "Review_wordcloud = ' '.join(data['Reviews'])\n",
    "Q_wordcloud=WordCloud(\n",
    "                    background_color='white',\n",
    "                    width=2000,\n",
    "                    height=2000\n",
    "                   ).generate(Review_wordcloud)\n",
    "fig = plt.figure(figsize = (10, 10))\n",
    "plt.axis('on')\n",
    "plt.imshow(Q_wordcloud)"
   ]
  },
  {
   "cell_type": "markdown",
   "metadata": {},
   "source": [
    "# Removing Punctuation"
   ]
  },
  {
   "cell_type": "code",
   "execution_count": 333,
   "metadata": {
    "ExecuteTime": {
     "end_time": "2021-01-03T14:35:09.661754Z",
     "start_time": "2021-01-03T14:35:09.645721Z"
    }
   },
   "outputs": [
    {
     "data": {
      "text/plain": [
       "0    spend hour comparative analysis usage window  ...\n",
       "1    thanks amazon seller selling quality product g...\n",
       "2                        excellent product recommended\n",
       "3                                            excellent\n",
       "4                                                 good\n",
       "Name: Reviews, dtype: object"
      ]
     },
     "execution_count": 333,
     "metadata": {},
     "output_type": "execute_result"
    }
   ],
   "source": [
    "data['Reviews'] = data['Reviews'].str.replace('[^\\w\\s]','')\n",
    "data['Reviews'].head()"
   ]
  },
  {
   "cell_type": "markdown",
   "metadata": {},
   "source": [
    "#  Common word removal"
   ]
  },
  {
   "cell_type": "code",
   "execution_count": 332,
   "metadata": {
    "ExecuteTime": {
     "end_time": "2021-01-03T14:32:26.630262Z",
     "start_time": "2021-01-03T14:32:26.614262Z"
    }
   },
   "outputs": [
    {
     "data": {
      "text/plain": [
       "product      3\n",
       "good         3\n",
       "value        2\n",
       "quality      2\n",
       "excellent    2\n",
       "great        2\n",
       "money        2\n",
       "dont         2\n",
       "buy          2\n",
       "window       2\n",
       "dtype: int64"
      ]
     },
     "execution_count": 332,
     "metadata": {},
     "output_type": "execute_result"
    }
   ],
   "source": [
    "freq = pd.Series(' '.join(data['Reviews']).split()).value_counts()[:10]\n",
    "freq"
   ]
  },
  {
   "cell_type": "markdown",
   "metadata": {},
   "source": [
    "# Now, let’s remove these words as their presence will not of any use in classification of our text data."
   ]
  },
  {
   "cell_type": "code",
   "execution_count": 343,
   "metadata": {
    "ExecuteTime": {
     "end_time": "2021-01-03T14:44:40.509457Z",
     "start_time": "2021-01-03T14:44:40.495457Z"
    }
   },
   "outputs": [
    {
     "data": {
      "text/plain": [
       "0    spend hour comparative analysis usage mac memo...\n",
       "1                         thanks amazon seller selling\n",
       "2                                          recommended\n",
       "3                                                     \n",
       "4                                                     \n",
       "Name: Reviews, dtype: object"
      ]
     },
     "execution_count": 343,
     "metadata": {},
     "output_type": "execute_result"
    }
   ],
   "source": [
    "\n",
    "data['Reviews'] = data['Reviews'].apply(lambda x: \" \".join(x for x in x.split() if x not in freq))\n",
    "data['Reviews'].head()\n"
   ]
  },
  {
   "cell_type": "markdown",
   "metadata": {},
   "source": [
    "#  Rare words removal"
   ]
  },
  {
   "cell_type": "code",
   "execution_count": 330,
   "metadata": {
    "ExecuteTime": {
     "end_time": "2021-01-03T14:29:29.637693Z",
     "start_time": "2021-01-03T14:29:29.625694Z"
    }
   },
   "outputs": [
    {
     "data": {
      "text/plain": [
       "forgot         1\n",
       "feel           1\n",
       "charger        1\n",
       "memory         1\n",
       "spend          1\n",
       "selling        1\n",
       "laptop         1\n",
       "macbook        1\n",
       "comparative    1\n",
       "thanks         1\n",
       "dtype: int64"
      ]
     },
     "execution_count": 330,
     "metadata": {},
     "output_type": "execute_result"
    }
   ],
   "source": [
    "freq = pd.Series(' '.join(data['Reviews']).split()).value_counts()[-10:]\n",
    "freq\n"
   ]
  },
  {
   "cell_type": "code",
   "execution_count": 345,
   "metadata": {
    "ExecuteTime": {
     "end_time": "2021-01-03T14:45:56.788426Z",
     "start_time": "2021-01-03T14:45:53.039945Z"
    }
   },
   "outputs": [
    {
     "data": {
      "text/plain": [
       "0    spend hour comparative analysis usage mac memo...\n",
       "1                         thanks amazon seller selling\n",
       "2                                          recommended\n",
       "3                                                     \n",
       "4                                                     \n",
       "5                                                     \n",
       "6                                                     \n",
       "7                                                     \n",
       "8    gamingits whowant range professional worksbatt...\n",
       "Name: Reviews, dtype: object"
      ]
     },
     "execution_count": 345,
     "metadata": {},
     "output_type": "execute_result"
    }
   ],
   "source": [
    "from textblob import TextBlob\n",
    "data['Reviews'][:10].apply(lambda x: str(TextBlob(x).correct()))"
   ]
  },
  {
   "cell_type": "markdown",
   "metadata": {},
   "source": [
    "# 2.7 Tokenization"
   ]
  },
  {
   "cell_type": "code",
   "execution_count": 349,
   "metadata": {
    "ExecuteTime": {
     "end_time": "2021-01-03T14:47:57.599433Z",
     "start_time": "2021-01-03T14:47:57.589436Z"
    }
   },
   "outputs": [
    {
     "data": {
      "text/plain": [
       "WordList(['spend', 'hour', 'comparative', 'analysis', 'usage', 'mac', 'memory', 'display', 'sumupif', 'use', 'macbook', 'speed', 'efficiency', 'make', 'forgot', 'rest', 'thing'])"
      ]
     },
     "execution_count": 349,
     "metadata": {},
     "output_type": "execute_result"
    }
   ],
   "source": [
    "TextBlob(data['Reviews'][0]).words"
   ]
  },
  {
   "cell_type": "code",
   "execution_count": 351,
   "metadata": {
    "ExecuteTime": {
     "end_time": "2021-01-03T14:49:12.601470Z",
     "start_time": "2021-01-03T14:49:12.591475Z"
    }
   },
   "outputs": [
    {
     "data": {
      "text/plain": [
       "WordList(['thanks', 'amazon', 'seller', 'selling'])"
      ]
     },
     "execution_count": 351,
     "metadata": {},
     "output_type": "execute_result"
    }
   ],
   "source": [
    "TextBlob(data['Reviews'][1]).words"
   ]
  },
  {
   "cell_type": "markdown",
   "metadata": {},
   "source": [
    "# Stemming refers to the removal of suffices, like “ing”, “ly”, “s”, etc. by a simple rule-based approach. For this purpose, we will use PorterStemmer from the NLTK library."
   ]
  },
  {
   "cell_type": "code",
   "execution_count": 352,
   "metadata": {
    "ExecuteTime": {
     "end_time": "2021-01-03T14:50:58.298154Z",
     "start_time": "2021-01-03T14:50:58.278154Z"
    }
   },
   "outputs": [
    {
     "data": {
      "text/plain": [
       "0    spend hour compar analysi usag mac memori disp...\n",
       "1                             thank amazon seller sell\n",
       "2                                            recommend\n",
       "3                                                     \n",
       "4                                                     \n",
       "5                                                     \n",
       "6                                                     \n",
       "7                                                     \n",
       "8    gamingit whowant kreng profession worksbatteri...\n",
       "Name: Reviews, dtype: object"
      ]
     },
     "execution_count": 352,
     "metadata": {},
     "output_type": "execute_result"
    }
   ],
   "source": [
    "from nltk.stem import PorterStemmer\n",
    "st = PorterStemmer()\n",
    "data['Reviews'][:10].apply(lambda x: \" \".join([st.stem(word) for word in x.split()]))"
   ]
  },
  {
   "cell_type": "markdown",
   "metadata": {},
   "source": [
    "# Lemmatization"
   ]
  },
  {
   "cell_type": "code",
   "execution_count": 353,
   "metadata": {
    "ExecuteTime": {
     "end_time": "2021-01-03T14:53:23.766838Z",
     "start_time": "2021-01-03T14:53:23.744837Z"
    }
   },
   "outputs": [
    {
     "data": {
      "text/plain": [
       "0    spend hour comparative analysis usage mac memo...\n",
       "1                         thanks amazon seller selling\n",
       "2                                          recommended\n",
       "3                                                     \n",
       "4                                                     \n",
       "Name: Reviews, dtype: object"
      ]
     },
     "execution_count": 353,
     "metadata": {},
     "output_type": "execute_result"
    }
   ],
   "source": [
    "from textblob import Word\n",
    "data['Reviews'] = data['Reviews'].apply(lambda x: \" \".join([Word(word).lemmatize() for word in x.split()]))\n",
    "data['Reviews'].head()\n"
   ]
  },
  {
   "cell_type": "markdown",
   "metadata": {},
   "source": [
    "# Advance Text Processing\n",
    "# N-grams"
   ]
  },
  {
   "cell_type": "code",
   "execution_count": 354,
   "metadata": {
    "ExecuteTime": {
     "end_time": "2021-01-03T14:55:41.609697Z",
     "start_time": "2021-01-03T14:55:41.599697Z"
    }
   },
   "outputs": [
    {
     "data": {
      "text/plain": [
       "[WordList(['spend', 'hour']),\n",
       " WordList(['hour', 'comparative']),\n",
       " WordList(['comparative', 'analysis']),\n",
       " WordList(['analysis', 'usage']),\n",
       " WordList(['usage', 'mac']),\n",
       " WordList(['mac', 'memory']),\n",
       " WordList(['memory', 'display']),\n",
       " WordList(['display', 'sumupif']),\n",
       " WordList(['sumupif', 'use']),\n",
       " WordList(['use', 'macbook']),\n",
       " WordList(['macbook', 'speed']),\n",
       " WordList(['speed', 'efficiency']),\n",
       " WordList(['efficiency', 'make']),\n",
       " WordList(['make', 'forgot']),\n",
       " WordList(['forgot', 'rest']),\n",
       " WordList(['rest', 'thing'])]"
      ]
     },
     "execution_count": 354,
     "metadata": {},
     "output_type": "execute_result"
    }
   ],
   "source": [
    "TextBlob(data['Reviews'][0]).ngrams(2)"
   ]
  },
  {
   "cell_type": "markdown",
   "metadata": {},
   "source": [
    "# Term frequency"
   ]
  },
  {
   "cell_type": "code",
   "execution_count": 361,
   "metadata": {
    "ExecuteTime": {
     "end_time": "2021-01-03T14:58:37.925707Z",
     "start_time": "2021-01-03T14:58:37.747706Z"
    }
   },
   "outputs": [
    {
     "data": {
      "text/html": [
       "<div>\n",
       "<style scoped>\n",
       "    .dataframe tbody tr th:only-of-type {\n",
       "        vertical-align: middle;\n",
       "    }\n",
       "\n",
       "    .dataframe tbody tr th {\n",
       "        vertical-align: top;\n",
       "    }\n",
       "\n",
       "    .dataframe thead th {\n",
       "        text-align: right;\n",
       "    }\n",
       "</style>\n",
       "<table border=\"1\" class=\"dataframe\">\n",
       "  <thead>\n",
       "    <tr style=\"text-align: right;\">\n",
       "      <th></th>\n",
       "      <th>words</th>\n",
       "      <th>tf</th>\n",
       "    </tr>\n",
       "  </thead>\n",
       "  <tbody>\n",
       "    <tr>\n",
       "      <th>0</th>\n",
       "      <td>selling</td>\n",
       "      <td>1.0</td>\n",
       "    </tr>\n",
       "    <tr>\n",
       "      <th>1</th>\n",
       "      <td>seller</td>\n",
       "      <td>1.0</td>\n",
       "    </tr>\n",
       "    <tr>\n",
       "      <th>2</th>\n",
       "      <td>amazon</td>\n",
       "      <td>1.0</td>\n",
       "    </tr>\n",
       "    <tr>\n",
       "      <th>3</th>\n",
       "      <td>thanks</td>\n",
       "      <td>1.0</td>\n",
       "    </tr>\n",
       "    <tr>\n",
       "      <th>4</th>\n",
       "      <td>recommended</td>\n",
       "      <td>1.0</td>\n",
       "    </tr>\n",
       "    <tr>\n",
       "      <th>5</th>\n",
       "      <td></td>\n",
       "      <td>5.0</td>\n",
       "    </tr>\n",
       "    <tr>\n",
       "      <th>6</th>\n",
       "      <td>requiresif</td>\n",
       "      <td>1.0</td>\n",
       "    </tr>\n",
       "    <tr>\n",
       "      <th>7</th>\n",
       "      <td>time</td>\n",
       "      <td>1.0</td>\n",
       "    </tr>\n",
       "    <tr>\n",
       "      <th>8</th>\n",
       "      <td>go</td>\n",
       "      <td>1.0</td>\n",
       "    </tr>\n",
       "    <tr>\n",
       "      <th>9</th>\n",
       "      <td>laptop</td>\n",
       "      <td>1.0</td>\n",
       "    </tr>\n",
       "    <tr>\n",
       "      <th>10</th>\n",
       "      <td>gaming</td>\n",
       "      <td>1.0</td>\n",
       "    </tr>\n",
       "    <tr>\n",
       "      <th>11</th>\n",
       "      <td>krenge</td>\n",
       "      <td>1.0</td>\n",
       "    </tr>\n",
       "    <tr>\n",
       "      <th>12</th>\n",
       "      <td>using</td>\n",
       "      <td>1.0</td>\n",
       "    </tr>\n",
       "    <tr>\n",
       "      <th>13</th>\n",
       "      <td>charger</td>\n",
       "      <td>1.0</td>\n",
       "    </tr>\n",
       "    <tr>\n",
       "      <th>14</th>\n",
       "      <td>require</td>\n",
       "      <td>1.0</td>\n",
       "    </tr>\n",
       "    <tr>\n",
       "      <th>15</th>\n",
       "      <td>feel</td>\n",
       "      <td>1.0</td>\n",
       "    </tr>\n",
       "    <tr>\n",
       "      <th>16</th>\n",
       "      <td>want</td>\n",
       "      <td>1.0</td>\n",
       "    </tr>\n",
       "    <tr>\n",
       "      <th>17</th>\n",
       "      <td>think</td>\n",
       "      <td>1.0</td>\n",
       "    </tr>\n",
       "    <tr>\n",
       "      <th>18</th>\n",
       "      <td>gamingits</td>\n",
       "      <td>1.0</td>\n",
       "    </tr>\n",
       "    <tr>\n",
       "      <th>19</th>\n",
       "      <td>cable</td>\n",
       "      <td>1.0</td>\n",
       "    </tr>\n",
       "    <tr>\n",
       "      <th>20</th>\n",
       "      <td>worth</td>\n",
       "      <td>1.0</td>\n",
       "    </tr>\n",
       "    <tr>\n",
       "      <th>21</th>\n",
       "      <td>much</td>\n",
       "      <td>1.0</td>\n",
       "    </tr>\n",
       "    <tr>\n",
       "      <th>22</th>\n",
       "      <td>worksbattery</td>\n",
       "      <td>1.0</td>\n",
       "    </tr>\n",
       "    <tr>\n",
       "      <th>23</th>\n",
       "      <td>plugin</td>\n",
       "      <td>1.0</td>\n",
       "    </tr>\n",
       "    <tr>\n",
       "      <th>24</th>\n",
       "      <td>whowant</td>\n",
       "      <td>1.0</td>\n",
       "    </tr>\n",
       "    <tr>\n",
       "      <th>25</th>\n",
       "      <td>jus</td>\n",
       "      <td>1.0</td>\n",
       "    </tr>\n",
       "    <tr>\n",
       "      <th>26</th>\n",
       "      <td>doesnt</td>\n",
       "      <td>1.0</td>\n",
       "    </tr>\n",
       "    <tr>\n",
       "      <th>27</th>\n",
       "      <td>like</td>\n",
       "      <td>1.0</td>\n",
       "    </tr>\n",
       "    <tr>\n",
       "      <th>28</th>\n",
       "      <td>described</td>\n",
       "      <td>1.0</td>\n",
       "    </tr>\n",
       "    <tr>\n",
       "      <th>29</th>\n",
       "      <td>life</td>\n",
       "      <td>1.0</td>\n",
       "    </tr>\n",
       "    <tr>\n",
       "      <th>30</th>\n",
       "      <td>professional</td>\n",
       "      <td>1.0</td>\n",
       "    </tr>\n",
       "  </tbody>\n",
       "</table>\n",
       "</div>"
      ],
      "text/plain": [
       "           words   tf\n",
       "0        selling  1.0\n",
       "1         seller  1.0\n",
       "2         amazon  1.0\n",
       "3         thanks  1.0\n",
       "4    recommended  1.0\n",
       "5                 5.0\n",
       "6     requiresif  1.0\n",
       "7           time  1.0\n",
       "8             go  1.0\n",
       "9         laptop  1.0\n",
       "10        gaming  1.0\n",
       "11        krenge  1.0\n",
       "12         using  1.0\n",
       "13       charger  1.0\n",
       "14       require  1.0\n",
       "15          feel  1.0\n",
       "16          want  1.0\n",
       "17         think  1.0\n",
       "18     gamingits  1.0\n",
       "19         cable  1.0\n",
       "20         worth  1.0\n",
       "21          much  1.0\n",
       "22  worksbattery  1.0\n",
       "23        plugin  1.0\n",
       "24       whowant  1.0\n",
       "25           jus  1.0\n",
       "26        doesnt  1.0\n",
       "27          like  1.0\n",
       "28     described  1.0\n",
       "29          life  1.0\n",
       "30  professional  1.0"
      ]
     },
     "execution_count": 361,
     "metadata": {},
     "output_type": "execute_result"
    }
   ],
   "source": [
    "tf1 = (data['Reviews'][1:10]).apply(lambda x: pd.value_counts(x.split(\" \"))).sum(axis = 0).reset_index()\n",
    "tf1.columns = ['words','tf']\n",
    "tf1"
   ]
  },
  {
   "cell_type": "markdown",
   "metadata": {},
   "source": [
    "# Inverse Document Frequency"
   ]
  },
  {
   "cell_type": "code",
   "execution_count": 364,
   "metadata": {
    "ExecuteTime": {
     "end_time": "2021-01-03T15:01:12.162055Z",
     "start_time": "2021-01-03T15:01:12.076054Z"
    }
   },
   "outputs": [],
   "source": [
    "for i,word in enumerate(tf1['words']):\n",
    "    tf1.loc[i, 'idf'] = np.log(data.shape[0]/(len(data[data['Reviews'].str.contains(word)])))"
   ]
  },
  {
   "cell_type": "code",
   "execution_count": 365,
   "metadata": {
    "ExecuteTime": {
     "end_time": "2021-01-03T15:01:24.868460Z",
     "start_time": "2021-01-03T15:01:24.850461Z"
    }
   },
   "outputs": [
    {
     "data": {
      "text/html": [
       "<div>\n",
       "<style scoped>\n",
       "    .dataframe tbody tr th:only-of-type {\n",
       "        vertical-align: middle;\n",
       "    }\n",
       "\n",
       "    .dataframe tbody tr th {\n",
       "        vertical-align: top;\n",
       "    }\n",
       "\n",
       "    .dataframe thead th {\n",
       "        text-align: right;\n",
       "    }\n",
       "</style>\n",
       "<table border=\"1\" class=\"dataframe\">\n",
       "  <thead>\n",
       "    <tr style=\"text-align: right;\">\n",
       "      <th></th>\n",
       "      <th>words</th>\n",
       "      <th>tf</th>\n",
       "      <th>idf</th>\n",
       "    </tr>\n",
       "  </thead>\n",
       "  <tbody>\n",
       "    <tr>\n",
       "      <th>0</th>\n",
       "      <td>selling</td>\n",
       "      <td>1.0</td>\n",
       "      <td>2.197225</td>\n",
       "    </tr>\n",
       "    <tr>\n",
       "      <th>1</th>\n",
       "      <td>seller</td>\n",
       "      <td>1.0</td>\n",
       "      <td>2.197225</td>\n",
       "    </tr>\n",
       "    <tr>\n",
       "      <th>2</th>\n",
       "      <td>amazon</td>\n",
       "      <td>1.0</td>\n",
       "      <td>2.197225</td>\n",
       "    </tr>\n",
       "    <tr>\n",
       "      <th>3</th>\n",
       "      <td>thanks</td>\n",
       "      <td>1.0</td>\n",
       "      <td>2.197225</td>\n",
       "    </tr>\n",
       "    <tr>\n",
       "      <th>4</th>\n",
       "      <td>recommended</td>\n",
       "      <td>1.0</td>\n",
       "      <td>2.197225</td>\n",
       "    </tr>\n",
       "    <tr>\n",
       "      <th>5</th>\n",
       "      <td></td>\n",
       "      <td>5.0</td>\n",
       "      <td>0.000000</td>\n",
       "    </tr>\n",
       "    <tr>\n",
       "      <th>6</th>\n",
       "      <td>requiresif</td>\n",
       "      <td>1.0</td>\n",
       "      <td>2.197225</td>\n",
       "    </tr>\n",
       "    <tr>\n",
       "      <th>7</th>\n",
       "      <td>time</td>\n",
       "      <td>1.0</td>\n",
       "      <td>2.197225</td>\n",
       "    </tr>\n",
       "    <tr>\n",
       "      <th>8</th>\n",
       "      <td>go</td>\n",
       "      <td>1.0</td>\n",
       "      <td>1.504077</td>\n",
       "    </tr>\n",
       "    <tr>\n",
       "      <th>9</th>\n",
       "      <td>laptop</td>\n",
       "      <td>1.0</td>\n",
       "      <td>2.197225</td>\n",
       "    </tr>\n",
       "    <tr>\n",
       "      <th>10</th>\n",
       "      <td>gaming</td>\n",
       "      <td>1.0</td>\n",
       "      <td>2.197225</td>\n",
       "    </tr>\n",
       "    <tr>\n",
       "      <th>11</th>\n",
       "      <td>krenge</td>\n",
       "      <td>1.0</td>\n",
       "      <td>2.197225</td>\n",
       "    </tr>\n",
       "    <tr>\n",
       "      <th>12</th>\n",
       "      <td>using</td>\n",
       "      <td>1.0</td>\n",
       "      <td>2.197225</td>\n",
       "    </tr>\n",
       "    <tr>\n",
       "      <th>13</th>\n",
       "      <td>charger</td>\n",
       "      <td>1.0</td>\n",
       "      <td>2.197225</td>\n",
       "    </tr>\n",
       "    <tr>\n",
       "      <th>14</th>\n",
       "      <td>require</td>\n",
       "      <td>1.0</td>\n",
       "      <td>2.197225</td>\n",
       "    </tr>\n",
       "    <tr>\n",
       "      <th>15</th>\n",
       "      <td>feel</td>\n",
       "      <td>1.0</td>\n",
       "      <td>2.197225</td>\n",
       "    </tr>\n",
       "    <tr>\n",
       "      <th>16</th>\n",
       "      <td>want</td>\n",
       "      <td>1.0</td>\n",
       "      <td>2.197225</td>\n",
       "    </tr>\n",
       "    <tr>\n",
       "      <th>17</th>\n",
       "      <td>think</td>\n",
       "      <td>1.0</td>\n",
       "      <td>2.197225</td>\n",
       "    </tr>\n",
       "    <tr>\n",
       "      <th>18</th>\n",
       "      <td>gamingits</td>\n",
       "      <td>1.0</td>\n",
       "      <td>2.197225</td>\n",
       "    </tr>\n",
       "    <tr>\n",
       "      <th>19</th>\n",
       "      <td>cable</td>\n",
       "      <td>1.0</td>\n",
       "      <td>2.197225</td>\n",
       "    </tr>\n",
       "    <tr>\n",
       "      <th>20</th>\n",
       "      <td>worth</td>\n",
       "      <td>1.0</td>\n",
       "      <td>2.197225</td>\n",
       "    </tr>\n",
       "    <tr>\n",
       "      <th>21</th>\n",
       "      <td>much</td>\n",
       "      <td>1.0</td>\n",
       "      <td>2.197225</td>\n",
       "    </tr>\n",
       "    <tr>\n",
       "      <th>22</th>\n",
       "      <td>worksbattery</td>\n",
       "      <td>1.0</td>\n",
       "      <td>2.197225</td>\n",
       "    </tr>\n",
       "    <tr>\n",
       "      <th>23</th>\n",
       "      <td>plugin</td>\n",
       "      <td>1.0</td>\n",
       "      <td>2.197225</td>\n",
       "    </tr>\n",
       "    <tr>\n",
       "      <th>24</th>\n",
       "      <td>whowant</td>\n",
       "      <td>1.0</td>\n",
       "      <td>2.197225</td>\n",
       "    </tr>\n",
       "    <tr>\n",
       "      <th>25</th>\n",
       "      <td>jus</td>\n",
       "      <td>1.0</td>\n",
       "      <td>2.197225</td>\n",
       "    </tr>\n",
       "    <tr>\n",
       "      <th>26</th>\n",
       "      <td>doesnt</td>\n",
       "      <td>1.0</td>\n",
       "      <td>2.197225</td>\n",
       "    </tr>\n",
       "    <tr>\n",
       "      <th>27</th>\n",
       "      <td>like</td>\n",
       "      <td>1.0</td>\n",
       "      <td>2.197225</td>\n",
       "    </tr>\n",
       "    <tr>\n",
       "      <th>28</th>\n",
       "      <td>described</td>\n",
       "      <td>1.0</td>\n",
       "      <td>2.197225</td>\n",
       "    </tr>\n",
       "    <tr>\n",
       "      <th>29</th>\n",
       "      <td>life</td>\n",
       "      <td>1.0</td>\n",
       "      <td>2.197225</td>\n",
       "    </tr>\n",
       "    <tr>\n",
       "      <th>30</th>\n",
       "      <td>professional</td>\n",
       "      <td>1.0</td>\n",
       "      <td>2.197225</td>\n",
       "    </tr>\n",
       "  </tbody>\n",
       "</table>\n",
       "</div>"
      ],
      "text/plain": [
       "           words   tf       idf\n",
       "0        selling  1.0  2.197225\n",
       "1         seller  1.0  2.197225\n",
       "2         amazon  1.0  2.197225\n",
       "3         thanks  1.0  2.197225\n",
       "4    recommended  1.0  2.197225\n",
       "5                 5.0  0.000000\n",
       "6     requiresif  1.0  2.197225\n",
       "7           time  1.0  2.197225\n",
       "8             go  1.0  1.504077\n",
       "9         laptop  1.0  2.197225\n",
       "10        gaming  1.0  2.197225\n",
       "11        krenge  1.0  2.197225\n",
       "12         using  1.0  2.197225\n",
       "13       charger  1.0  2.197225\n",
       "14       require  1.0  2.197225\n",
       "15          feel  1.0  2.197225\n",
       "16          want  1.0  2.197225\n",
       "17         think  1.0  2.197225\n",
       "18     gamingits  1.0  2.197225\n",
       "19         cable  1.0  2.197225\n",
       "20         worth  1.0  2.197225\n",
       "21          much  1.0  2.197225\n",
       "22  worksbattery  1.0  2.197225\n",
       "23        plugin  1.0  2.197225\n",
       "24       whowant  1.0  2.197225\n",
       "25           jus  1.0  2.197225\n",
       "26        doesnt  1.0  2.197225\n",
       "27          like  1.0  2.197225\n",
       "28     described  1.0  2.197225\n",
       "29          life  1.0  2.197225\n",
       "30  professional  1.0  2.197225"
      ]
     },
     "execution_count": 365,
     "metadata": {},
     "output_type": "execute_result"
    }
   ],
   "source": [
    "tf1"
   ]
  },
  {
   "cell_type": "markdown",
   "metadata": {},
   "source": [
    "# Term Frequency – Inverse Document Frequency (TF-IDF)"
   ]
  },
  {
   "cell_type": "code",
   "execution_count": 366,
   "metadata": {
    "ExecuteTime": {
     "end_time": "2021-01-03T15:03:02.089705Z",
     "start_time": "2021-01-03T15:03:02.065708Z"
    }
   },
   "outputs": [
    {
     "data": {
      "text/html": [
       "<div>\n",
       "<style scoped>\n",
       "    .dataframe tbody tr th:only-of-type {\n",
       "        vertical-align: middle;\n",
       "    }\n",
       "\n",
       "    .dataframe tbody tr th {\n",
       "        vertical-align: top;\n",
       "    }\n",
       "\n",
       "    .dataframe thead th {\n",
       "        text-align: right;\n",
       "    }\n",
       "</style>\n",
       "<table border=\"1\" class=\"dataframe\">\n",
       "  <thead>\n",
       "    <tr style=\"text-align: right;\">\n",
       "      <th></th>\n",
       "      <th>words</th>\n",
       "      <th>tf</th>\n",
       "      <th>idf</th>\n",
       "      <th>tfidf</th>\n",
       "    </tr>\n",
       "  </thead>\n",
       "  <tbody>\n",
       "    <tr>\n",
       "      <th>0</th>\n",
       "      <td>selling</td>\n",
       "      <td>1.0</td>\n",
       "      <td>2.197225</td>\n",
       "      <td>2.197225</td>\n",
       "    </tr>\n",
       "    <tr>\n",
       "      <th>1</th>\n",
       "      <td>seller</td>\n",
       "      <td>1.0</td>\n",
       "      <td>2.197225</td>\n",
       "      <td>2.197225</td>\n",
       "    </tr>\n",
       "    <tr>\n",
       "      <th>2</th>\n",
       "      <td>amazon</td>\n",
       "      <td>1.0</td>\n",
       "      <td>2.197225</td>\n",
       "      <td>2.197225</td>\n",
       "    </tr>\n",
       "    <tr>\n",
       "      <th>3</th>\n",
       "      <td>thanks</td>\n",
       "      <td>1.0</td>\n",
       "      <td>2.197225</td>\n",
       "      <td>2.197225</td>\n",
       "    </tr>\n",
       "    <tr>\n",
       "      <th>4</th>\n",
       "      <td>recommended</td>\n",
       "      <td>1.0</td>\n",
       "      <td>2.197225</td>\n",
       "      <td>2.197225</td>\n",
       "    </tr>\n",
       "    <tr>\n",
       "      <th>5</th>\n",
       "      <td></td>\n",
       "      <td>5.0</td>\n",
       "      <td>0.000000</td>\n",
       "      <td>0.000000</td>\n",
       "    </tr>\n",
       "    <tr>\n",
       "      <th>6</th>\n",
       "      <td>requiresif</td>\n",
       "      <td>1.0</td>\n",
       "      <td>2.197225</td>\n",
       "      <td>2.197225</td>\n",
       "    </tr>\n",
       "    <tr>\n",
       "      <th>7</th>\n",
       "      <td>time</td>\n",
       "      <td>1.0</td>\n",
       "      <td>2.197225</td>\n",
       "      <td>2.197225</td>\n",
       "    </tr>\n",
       "    <tr>\n",
       "      <th>8</th>\n",
       "      <td>go</td>\n",
       "      <td>1.0</td>\n",
       "      <td>1.504077</td>\n",
       "      <td>1.504077</td>\n",
       "    </tr>\n",
       "    <tr>\n",
       "      <th>9</th>\n",
       "      <td>laptop</td>\n",
       "      <td>1.0</td>\n",
       "      <td>2.197225</td>\n",
       "      <td>2.197225</td>\n",
       "    </tr>\n",
       "    <tr>\n",
       "      <th>10</th>\n",
       "      <td>gaming</td>\n",
       "      <td>1.0</td>\n",
       "      <td>2.197225</td>\n",
       "      <td>2.197225</td>\n",
       "    </tr>\n",
       "    <tr>\n",
       "      <th>11</th>\n",
       "      <td>krenge</td>\n",
       "      <td>1.0</td>\n",
       "      <td>2.197225</td>\n",
       "      <td>2.197225</td>\n",
       "    </tr>\n",
       "    <tr>\n",
       "      <th>12</th>\n",
       "      <td>using</td>\n",
       "      <td>1.0</td>\n",
       "      <td>2.197225</td>\n",
       "      <td>2.197225</td>\n",
       "    </tr>\n",
       "    <tr>\n",
       "      <th>13</th>\n",
       "      <td>charger</td>\n",
       "      <td>1.0</td>\n",
       "      <td>2.197225</td>\n",
       "      <td>2.197225</td>\n",
       "    </tr>\n",
       "    <tr>\n",
       "      <th>14</th>\n",
       "      <td>require</td>\n",
       "      <td>1.0</td>\n",
       "      <td>2.197225</td>\n",
       "      <td>2.197225</td>\n",
       "    </tr>\n",
       "    <tr>\n",
       "      <th>15</th>\n",
       "      <td>feel</td>\n",
       "      <td>1.0</td>\n",
       "      <td>2.197225</td>\n",
       "      <td>2.197225</td>\n",
       "    </tr>\n",
       "    <tr>\n",
       "      <th>16</th>\n",
       "      <td>want</td>\n",
       "      <td>1.0</td>\n",
       "      <td>2.197225</td>\n",
       "      <td>2.197225</td>\n",
       "    </tr>\n",
       "    <tr>\n",
       "      <th>17</th>\n",
       "      <td>think</td>\n",
       "      <td>1.0</td>\n",
       "      <td>2.197225</td>\n",
       "      <td>2.197225</td>\n",
       "    </tr>\n",
       "    <tr>\n",
       "      <th>18</th>\n",
       "      <td>gamingits</td>\n",
       "      <td>1.0</td>\n",
       "      <td>2.197225</td>\n",
       "      <td>2.197225</td>\n",
       "    </tr>\n",
       "    <tr>\n",
       "      <th>19</th>\n",
       "      <td>cable</td>\n",
       "      <td>1.0</td>\n",
       "      <td>2.197225</td>\n",
       "      <td>2.197225</td>\n",
       "    </tr>\n",
       "    <tr>\n",
       "      <th>20</th>\n",
       "      <td>worth</td>\n",
       "      <td>1.0</td>\n",
       "      <td>2.197225</td>\n",
       "      <td>2.197225</td>\n",
       "    </tr>\n",
       "    <tr>\n",
       "      <th>21</th>\n",
       "      <td>much</td>\n",
       "      <td>1.0</td>\n",
       "      <td>2.197225</td>\n",
       "      <td>2.197225</td>\n",
       "    </tr>\n",
       "    <tr>\n",
       "      <th>22</th>\n",
       "      <td>worksbattery</td>\n",
       "      <td>1.0</td>\n",
       "      <td>2.197225</td>\n",
       "      <td>2.197225</td>\n",
       "    </tr>\n",
       "    <tr>\n",
       "      <th>23</th>\n",
       "      <td>plugin</td>\n",
       "      <td>1.0</td>\n",
       "      <td>2.197225</td>\n",
       "      <td>2.197225</td>\n",
       "    </tr>\n",
       "    <tr>\n",
       "      <th>24</th>\n",
       "      <td>whowant</td>\n",
       "      <td>1.0</td>\n",
       "      <td>2.197225</td>\n",
       "      <td>2.197225</td>\n",
       "    </tr>\n",
       "    <tr>\n",
       "      <th>25</th>\n",
       "      <td>jus</td>\n",
       "      <td>1.0</td>\n",
       "      <td>2.197225</td>\n",
       "      <td>2.197225</td>\n",
       "    </tr>\n",
       "    <tr>\n",
       "      <th>26</th>\n",
       "      <td>doesnt</td>\n",
       "      <td>1.0</td>\n",
       "      <td>2.197225</td>\n",
       "      <td>2.197225</td>\n",
       "    </tr>\n",
       "    <tr>\n",
       "      <th>27</th>\n",
       "      <td>like</td>\n",
       "      <td>1.0</td>\n",
       "      <td>2.197225</td>\n",
       "      <td>2.197225</td>\n",
       "    </tr>\n",
       "    <tr>\n",
       "      <th>28</th>\n",
       "      <td>described</td>\n",
       "      <td>1.0</td>\n",
       "      <td>2.197225</td>\n",
       "      <td>2.197225</td>\n",
       "    </tr>\n",
       "    <tr>\n",
       "      <th>29</th>\n",
       "      <td>life</td>\n",
       "      <td>1.0</td>\n",
       "      <td>2.197225</td>\n",
       "      <td>2.197225</td>\n",
       "    </tr>\n",
       "    <tr>\n",
       "      <th>30</th>\n",
       "      <td>professional</td>\n",
       "      <td>1.0</td>\n",
       "      <td>2.197225</td>\n",
       "      <td>2.197225</td>\n",
       "    </tr>\n",
       "  </tbody>\n",
       "</table>\n",
       "</div>"
      ],
      "text/plain": [
       "           words   tf       idf     tfidf\n",
       "0        selling  1.0  2.197225  2.197225\n",
       "1         seller  1.0  2.197225  2.197225\n",
       "2         amazon  1.0  2.197225  2.197225\n",
       "3         thanks  1.0  2.197225  2.197225\n",
       "4    recommended  1.0  2.197225  2.197225\n",
       "5                 5.0  0.000000  0.000000\n",
       "6     requiresif  1.0  2.197225  2.197225\n",
       "7           time  1.0  2.197225  2.197225\n",
       "8             go  1.0  1.504077  1.504077\n",
       "9         laptop  1.0  2.197225  2.197225\n",
       "10        gaming  1.0  2.197225  2.197225\n",
       "11        krenge  1.0  2.197225  2.197225\n",
       "12         using  1.0  2.197225  2.197225\n",
       "13       charger  1.0  2.197225  2.197225\n",
       "14       require  1.0  2.197225  2.197225\n",
       "15          feel  1.0  2.197225  2.197225\n",
       "16          want  1.0  2.197225  2.197225\n",
       "17         think  1.0  2.197225  2.197225\n",
       "18     gamingits  1.0  2.197225  2.197225\n",
       "19         cable  1.0  2.197225  2.197225\n",
       "20         worth  1.0  2.197225  2.197225\n",
       "21          much  1.0  2.197225  2.197225\n",
       "22  worksbattery  1.0  2.197225  2.197225\n",
       "23        plugin  1.0  2.197225  2.197225\n",
       "24       whowant  1.0  2.197225  2.197225\n",
       "25           jus  1.0  2.197225  2.197225\n",
       "26        doesnt  1.0  2.197225  2.197225\n",
       "27          like  1.0  2.197225  2.197225\n",
       "28     described  1.0  2.197225  2.197225\n",
       "29          life  1.0  2.197225  2.197225\n",
       "30  professional  1.0  2.197225  2.197225"
      ]
     },
     "execution_count": 366,
     "metadata": {},
     "output_type": "execute_result"
    }
   ],
   "source": [
    "tf1['tfidf'] = tf1['tf'] * tf1['idf']\n",
    "tf1"
   ]
  },
  {
   "cell_type": "code",
   "execution_count": 367,
   "metadata": {
    "ExecuteTime": {
     "end_time": "2021-01-03T15:05:16.325461Z",
     "start_time": "2021-01-03T15:05:16.305461Z"
    }
   },
   "outputs": [
    {
     "data": {
      "text/plain": [
       "<9x45 sparse matrix of type '<class 'numpy.float64'>'\n",
       "\twith 45 stored elements in Compressed Sparse Row format>"
      ]
     },
     "execution_count": 367,
     "metadata": {},
     "output_type": "execute_result"
    }
   ],
   "source": [
    "from sklearn.feature_extraction.text import TfidfVectorizer\n",
    "tfidf = TfidfVectorizer(max_features=1000, lowercase=True, analyzer='word',\n",
    " stop_words= 'english',ngram_range=(1,1))\n",
    "data_vect = tfidf.fit_transform(data['Reviews'])\n",
    "\n",
    "data_vect"
   ]
  },
  {
   "cell_type": "markdown",
   "metadata": {},
   "source": [
    "# Bag of Words"
   ]
  },
  {
   "cell_type": "code",
   "execution_count": 368,
   "metadata": {
    "ExecuteTime": {
     "end_time": "2021-01-03T15:07:33.748071Z",
     "start_time": "2021-01-03T15:07:33.736073Z"
    }
   },
   "outputs": [
    {
     "data": {
      "text/plain": [
       "<9x47 sparse matrix of type '<class 'numpy.int64'>'\n",
       "\twith 47 stored elements in Compressed Sparse Row format>"
      ]
     },
     "execution_count": 368,
     "metadata": {},
     "output_type": "execute_result"
    }
   ],
   "source": [
    "from sklearn.feature_extraction.text import CountVectorizer\n",
    "bow = CountVectorizer(max_features=1000, lowercase=True, ngram_range=(1,1),analyzer = \"word\")\n",
    "data_bow = bow.fit_transform(data['Reviews'])\n",
    "data_bow"
   ]
  },
  {
   "cell_type": "markdown",
   "metadata": {},
   "source": [
    "# Sentiment Analysis"
   ]
  },
  {
   "cell_type": "code",
   "execution_count": 370,
   "metadata": {
    "ExecuteTime": {
     "end_time": "2021-01-03T15:08:40.853201Z",
     "start_time": "2021-01-03T15:08:40.833199Z"
    }
   },
   "outputs": [
    {
     "data": {
      "text/plain": [
       "0                                    (0.0, 0.0)\n",
       "1                                    (0.2, 0.2)\n",
       "2                                    (0.0, 0.0)\n",
       "3                                    (0.0, 0.0)\n",
       "4                                    (0.0, 0.0)\n",
       "5                                    (0.0, 0.0)\n",
       "6                                    (0.0, 0.0)\n",
       "7                                    (0.0, 0.0)\n",
       "8    (0.20000000000000004, 0.13333333333333333)\n",
       "Name: Reviews, dtype: object"
      ]
     },
     "execution_count": 370,
     "metadata": {},
     "output_type": "execute_result"
    }
   ],
   "source": [
    "data['Reviews'][:10].apply(lambda x: TextBlob(x).sentiment)"
   ]
  },
  {
   "cell_type": "markdown",
   "metadata": {},
   "source": [
    "# Here, we only extract polarity as it indicates the sentiment as value nearer to 1 means a positive sentiment and values nearer to -1 means a negative sentiment. This can also work as a feature for building a machine learning model."
   ]
  },
  {
   "cell_type": "code",
   "execution_count": 376,
   "metadata": {
    "ExecuteTime": {
     "end_time": "2021-01-03T15:13:02.557390Z",
     "start_time": "2021-01-03T15:13:02.533389Z"
    }
   },
   "outputs": [
    {
     "data": {
      "text/html": [
       "<div>\n",
       "<style scoped>\n",
       "    .dataframe tbody tr th:only-of-type {\n",
       "        vertical-align: middle;\n",
       "    }\n",
       "\n",
       "    .dataframe tbody tr th {\n",
       "        vertical-align: top;\n",
       "    }\n",
       "\n",
       "    .dataframe thead th {\n",
       "        text-align: right;\n",
       "    }\n",
       "</style>\n",
       "<table border=\"1\" class=\"dataframe\">\n",
       "  <thead>\n",
       "    <tr style=\"text-align: right;\">\n",
       "      <th></th>\n",
       "      <th>Reviews</th>\n",
       "      <th>sentiment</th>\n",
       "    </tr>\n",
       "  </thead>\n",
       "  <tbody>\n",
       "    <tr>\n",
       "      <th>0</th>\n",
       "      <td>spend hour comparative analysis usage mac memo...</td>\n",
       "      <td>0.0</td>\n",
       "    </tr>\n",
       "    <tr>\n",
       "      <th>1</th>\n",
       "      <td>thanks amazon seller selling</td>\n",
       "      <td>0.2</td>\n",
       "    </tr>\n",
       "    <tr>\n",
       "      <th>2</th>\n",
       "      <td>recommended</td>\n",
       "      <td>0.0</td>\n",
       "    </tr>\n",
       "    <tr>\n",
       "      <th>3</th>\n",
       "      <td></td>\n",
       "      <td>0.0</td>\n",
       "    </tr>\n",
       "    <tr>\n",
       "      <th>4</th>\n",
       "      <td></td>\n",
       "      <td>0.0</td>\n",
       "    </tr>\n",
       "  </tbody>\n",
       "</table>\n",
       "</div>"
      ],
      "text/plain": [
       "                                             Reviews  sentiment\n",
       "0  spend hour comparative analysis usage mac memo...        0.0\n",
       "1                       thanks amazon seller selling        0.2\n",
       "2                                        recommended        0.0\n",
       "3                                                           0.0\n",
       "4                                                           0.0"
      ]
     },
     "execution_count": 376,
     "metadata": {},
     "output_type": "execute_result"
    }
   ],
   "source": [
    "data['sentiment'] = data['Reviews'].apply(lambda x: TextBlob(x).sentiment[0] )\n",
    "data[['Reviews','sentiment']].head()"
   ]
  },
  {
   "cell_type": "markdown",
   "metadata": {},
   "source": [
    "# Word Embeddings"
   ]
  },
  {
   "cell_type": "code",
   "execution_count": 380,
   "metadata": {
    "ExecuteTime": {
     "end_time": "2021-01-03T15:27:26.757695Z",
     "start_time": "2021-01-03T15:27:22.343727Z"
    }
   },
   "outputs": [
    {
     "name": "stdout",
     "output_type": "stream",
     "text": [
      "Requirement already satisfied: gensim in c:\\users\\pcs\\anaconda3\\lib\\site-packages (3.8.3)\n",
      "Requirement already satisfied: six>=1.5.0 in c:\\users\\pcs\\anaconda3\\lib\\site-packages (from gensim) (1.15.0)\n",
      "Requirement already satisfied: smart-open>=1.8.1 in c:\\users\\pcs\\anaconda3\\lib\\site-packages (from gensim) (4.1.0)\n",
      "Requirement already satisfied: numpy>=1.11.3 in c:\\users\\pcs\\anaconda3\\lib\\site-packages (from gensim) (1.18.5)\n",
      "Requirement already satisfied: Cython==0.29.14 in c:\\users\\pcs\\anaconda3\\lib\\site-packages (from gensim) (0.29.14)\n",
      "Requirement already satisfied: scipy>=0.18.1 in c:\\users\\pcs\\anaconda3\\lib\\site-packages (from gensim) (1.5.0)\n"
     ]
    }
   ],
   "source": [
    "!pip install gensim\n",
    "from gensim.scripts.glove2word2vec import glove2word2vec\n",
    "from gensim.test.utils import datapath, get_tmpfile\n",
    "from gensim.models import KeyedVectors\n",
    "from gensim.scripts.glove2word2vec import glove2word2vec"
   ]
  },
  {
   "cell_type": "code",
   "execution_count": 435,
   "metadata": {
    "ExecuteTime": {
     "end_time": "2021-01-03T18:12:08.011600Z",
     "start_time": "2021-01-03T18:12:07.977508Z"
    }
   },
   "outputs": [
    {
     "data": {
      "text/plain": [
       "(4782, 0)"
      ]
     },
     "execution_count": 435,
     "metadata": {},
     "output_type": "execute_result"
    }
   ],
   "source": [
    "from gensim.scripts.glove2word2vec import glove2word2vec\n",
    "glove_input_file = 'negative-word.txt'\n",
    "word2vec_output_file = 'positive-word.txt.word2vec'\n",
    "glove2word2vec(glove_input_file, word2vec_output_file)"
   ]
  },
  {
   "cell_type": "code",
   "execution_count": 320,
   "metadata": {
    "ExecuteTime": {
     "end_time": "2021-01-03T14:19:41.425231Z",
     "start_time": "2021-01-03T14:19:41.365232Z"
    }
   },
   "outputs": [
    {
     "name": "stderr",
     "output_type": "stream",
     "text": [
      "[nltk_data] Downloading package punkt to\n",
      "[nltk_data]     C:\\Users\\pcs\\AppData\\Roaming\\nltk_data...\n",
      "[nltk_data]   Package punkt is already up-to-date!\n"
     ]
    },
    {
     "data": {
      "text/plain": [
       "True"
      ]
     },
     "execution_count": 320,
     "metadata": {},
     "output_type": "execute_result"
    }
   ],
   "source": [
    "\n",
    "import collections\n",
    "from collections import Counter\n",
    "import nltk\n",
    "nltk.download('punkt')"
   ]
  },
  {
   "cell_type": "code",
   "execution_count": 321,
   "metadata": {
    "ExecuteTime": {
     "end_time": "2021-01-03T14:20:03.615187Z",
     "start_time": "2021-01-03T14:20:03.145708Z"
    }
   },
   "outputs": [
    {
     "data": {
      "text/html": [
       "<div>\n",
       "<style scoped>\n",
       "    .dataframe tbody tr th:only-of-type {\n",
       "        vertical-align: middle;\n",
       "    }\n",
       "\n",
       "    .dataframe tbody tr th {\n",
       "        vertical-align: top;\n",
       "    }\n",
       "\n",
       "    .dataframe thead th {\n",
       "        text-align: right;\n",
       "    }\n",
       "</style>\n",
       "<table border=\"1\" class=\"dataframe\">\n",
       "  <thead>\n",
       "    <tr style=\"text-align: right;\">\n",
       "      <th></th>\n",
       "      <th>Reviews</th>\n",
       "      <th>polarity</th>\n",
       "    </tr>\n",
       "  </thead>\n",
       "  <tbody>\n",
       "    <tr>\n",
       "      <th>0</th>\n",
       "      <td>spend hour comparative analysis usage window  ...</td>\n",
       "      <td>0.0</td>\n",
       "    </tr>\n",
       "    <tr>\n",
       "      <th>1</th>\n",
       "      <td>thanks amazon seller selling quality product g...</td>\n",
       "      <td>0.5</td>\n",
       "    </tr>\n",
       "    <tr>\n",
       "      <th>2</th>\n",
       "      <td>excellent product recommended</td>\n",
       "      <td>1.0</td>\n",
       "    </tr>\n",
       "    <tr>\n",
       "      <th>3</th>\n",
       "      <td>excellent</td>\n",
       "      <td>1.0</td>\n",
       "    </tr>\n",
       "    <tr>\n",
       "      <th>4</th>\n",
       "      <td>good</td>\n",
       "      <td>0.7</td>\n",
       "    </tr>\n",
       "  </tbody>\n",
       "</table>\n",
       "</div>"
      ],
      "text/plain": [
       "                                             Reviews  polarity\n",
       "0  spend hour comparative analysis usage window  ...       0.0\n",
       "1  thanks amazon seller selling quality product g...       0.5\n",
       "2                      excellent product recommended       1.0\n",
       "3                                          excellent       1.0\n",
       "4                                               good       0.7"
      ]
     },
     "execution_count": 321,
     "metadata": {},
     "output_type": "execute_result"
    }
   ],
   "source": [
    "from textblob import TextBlob\n",
    "data['polarity'] = data['Reviews'].apply(lambda x: TextBlob(x).sentiment[0])\n",
    "data[['Reviews','polarity']].head(5)"
   ]
  },
  {
   "cell_type": "code",
   "execution_count": 322,
   "metadata": {
    "ExecuteTime": {
     "end_time": "2021-01-03T14:22:54.778876Z",
     "start_time": "2021-01-03T14:22:54.762873Z"
    }
   },
   "outputs": [
    {
     "data": {
      "text/html": [
       "<div>\n",
       "<style scoped>\n",
       "    .dataframe tbody tr th:only-of-type {\n",
       "        vertical-align: middle;\n",
       "    }\n",
       "\n",
       "    .dataframe tbody tr th {\n",
       "        vertical-align: top;\n",
       "    }\n",
       "\n",
       "    .dataframe thead th {\n",
       "        text-align: right;\n",
       "    }\n",
       "</style>\n",
       "<table border=\"1\" class=\"dataframe\">\n",
       "  <thead>\n",
       "    <tr style=\"text-align: right;\">\n",
       "      <th></th>\n",
       "      <th>Rating</th>\n",
       "      <th>Reviews</th>\n",
       "      <th>polarity</th>\n",
       "    </tr>\n",
       "  </thead>\n",
       "  <tbody>\n",
       "    <tr>\n",
       "      <th>1</th>\n",
       "      <td>5.0</td>\n",
       "      <td>thanks amazon seller selling quality product g...</td>\n",
       "      <td>0.5</td>\n",
       "    </tr>\n",
       "    <tr>\n",
       "      <th>2</th>\n",
       "      <td>5.0</td>\n",
       "      <td>excellent product recommended</td>\n",
       "      <td>1.0</td>\n",
       "    </tr>\n",
       "    <tr>\n",
       "      <th>3</th>\n",
       "      <td>5.0</td>\n",
       "      <td>excellent</td>\n",
       "      <td>1.0</td>\n",
       "    </tr>\n",
       "    <tr>\n",
       "      <th>4</th>\n",
       "      <td>5.0</td>\n",
       "      <td>good</td>\n",
       "      <td>0.7</td>\n",
       "    </tr>\n",
       "    <tr>\n",
       "      <th>5</th>\n",
       "      <td>5.0</td>\n",
       "      <td>good</td>\n",
       "      <td>0.7</td>\n",
       "    </tr>\n",
       "  </tbody>\n",
       "</table>\n",
       "</div>"
      ],
      "text/plain": [
       "  Rating                                            Reviews  polarity\n",
       "1    5.0  thanks amazon seller selling quality product g...       0.5\n",
       "2    5.0                      excellent product recommended       1.0\n",
       "3    5.0                                          excellent       1.0\n",
       "4    5.0                                               good       0.7\n",
       "5    5.0                                               good       0.7"
      ]
     },
     "execution_count": 322,
     "metadata": {},
     "output_type": "execute_result"
    }
   ],
   "source": [
    "# Displaying top 5 positive posts of Category_A\n",
    "data[data.polarity>0].head(5)"
   ]
  },
  {
   "cell_type": "code",
   "execution_count": 323,
   "metadata": {
    "ExecuteTime": {
     "end_time": "2021-01-03T14:23:30.754618Z",
     "start_time": "2021-01-03T14:23:30.746618Z"
    }
   },
   "outputs": [],
   "source": [
    "def sent_type(text): \n",
    "    for i in (text):\n",
    "        if i>0:\n",
    "            print('positive')\n",
    "        elif i==0:\n",
    "            print('neutral')\n",
    "        else:\n",
    "            print('negative')"
   ]
  },
  {
   "cell_type": "code",
   "execution_count": 324,
   "metadata": {
    "ExecuteTime": {
     "end_time": "2021-01-03T14:23:45.105705Z",
     "start_time": "2021-01-03T14:23:45.097711Z"
    }
   },
   "outputs": [
    {
     "name": "stdout",
     "output_type": "stream",
     "text": [
      "neutral\n",
      "positive\n",
      "positive\n",
      "positive\n",
      "positive\n",
      "positive\n",
      "neutral\n",
      "positive\n",
      "positive\n"
     ]
    }
   ],
   "source": [
    "sent_type(data['polarity'])"
   ]
  },
  {
   "cell_type": "code",
   "execution_count": 325,
   "metadata": {
    "ExecuteTime": {
     "end_time": "2021-01-03T14:24:43.155195Z",
     "start_time": "2021-01-03T14:24:43.147194Z"
    }
   },
   "outputs": [],
   "source": [
    "data[\"category\"]=data['polarity']"
   ]
  },
  {
   "cell_type": "code",
   "execution_count": 326,
   "metadata": {
    "ExecuteTime": {
     "end_time": "2021-01-03T14:24:56.241377Z",
     "start_time": "2021-01-03T14:24:56.065170Z"
    }
   },
   "outputs": [],
   "source": [
    "data.loc[data.category > 0,'category']=\"Positive\"\n",
    "data.loc[data.category !='Positive','category']=\"Negative\""
   ]
  },
  {
   "cell_type": "code",
   "execution_count": 327,
   "metadata": {
    "ExecuteTime": {
     "end_time": "2021-01-03T14:25:07.534655Z",
     "start_time": "2021-01-03T14:25:07.350656Z"
    }
   },
   "outputs": [
    {
     "data": {
      "text/plain": [
       "Rating        object\n",
       "Reviews       object\n",
       "polarity     float64\n",
       "category    category\n",
       "dtype: object"
      ]
     },
     "execution_count": 327,
     "metadata": {},
     "output_type": "execute_result"
    }
   ],
   "source": [
    "data[\"category\"]=data[\"category\"].astype('category')\n",
    "data.dtypes"
   ]
  },
  {
   "cell_type": "code",
   "execution_count": 328,
   "metadata": {
    "ExecuteTime": {
     "end_time": "2021-01-03T14:25:26.690773Z",
     "start_time": "2021-01-03T14:25:25.872778Z"
    }
   },
   "outputs": [
    {
     "data": {
      "text/plain": [
       "<AxesSubplot:xlabel='category', ylabel='count'>"
      ]
     },
     "execution_count": 328,
     "metadata": {},
     "output_type": "execute_result"
    },
    {
     "data": {
      "image/png": "[encoded data removed]",
      "text/plain": [
       "<Figure size 432x288 with 1 Axes>"
      ]
     },
     "metadata": {},
     "output_type": "display_data"
    }
   ],
   "source": [
    "sns.countplot(x='category',data=data,palette='hls')"
   ]
  },
  {
   "cell_type": "code",
   "execution_count": 329,
   "metadata": {
    "ExecuteTime": {
     "end_time": "2021-01-03T14:26:27.517736Z",
     "start_time": "2021-01-03T14:26:26.253670Z"
    }
   },
   "outputs": [
    {
     "data": {
      "image/png": "[encoded data removed]",
      "text/plain": [
       "<Figure size 432x288 with 1 Axes>"
      ]
     },
     "metadata": {},
     "output_type": "display_data"
    },
    {
     "data": {
      "image/png": "[encoded data removed]",
      "text/plain": [
       "<Figure size 432x288 with 1 Axes>"
      ]
     },
     "metadata": {},
     "output_type": "display_data"
    }
   ],
   "source": [
    "positive_reviews= data[data.category=='Positive']\n",
    "negative_reviews= data[data.category=='Negative']\n",
    "positive_reviews_text=\" \".join(positive_reviews.Reviews.to_numpy().tolist())\n",
    "negative_reviews_text=\" \".join(negative_reviews.Reviews.to_numpy().tolist())\n",
    "positive_reviews_cloud=WordCloud(background_color='black',max_words=150).generate(positive_reviews_text)\n",
    "negative_reviews_cloud=WordCloud(background_color='black',max_words=150).generate(negative_reviews_text)\n",
    "plt.imshow(positive_reviews_cloud, interpolation='bilinear')\n",
    "plt.axis(\"off\")\n",
    "plt.margins(x=0, y=0) \n",
    "plt.show()\n",
    "plt.imshow(negative_reviews_cloud,interpolation='bilinear')\n",
    "plt.axis(\"off\")\n",
    "plt.margins(x=0, y=0) \n",
    "plt.show()"
   ]
  },
  {
   "cell_type": "markdown",
   "metadata": {},
   "source": [
    "# Thus a Sentiment Analysis in Made on Amazon Reviews "
   ]
  }
 ],
 "metadata": {
  "kernelspec": {
   "display_name": "Python 3",
   "language": "python",
   "name": "python3"
  },
  "language_info": {
   "codemirror_mode": {
    "name": "ipython",
    "version": 3
   },
   "file_extension": ".py",
   "mimetype": "text/x-python",
   "name": "python",
   "nbconvert_exporter": "python",
   "pygments_lexer": "ipython3",
   "version": "3.8.3"
  },
  "varInspector": {
   "cols": {
    "lenName": 16,
    "lenType": 16,
    "lenVar": 40
   },
   "kernels_config": {
    "python": {
     "delete_cmd_postfix": "",
     "delete_cmd_prefix": "del ",
     "library": "var_list.py",
     "varRefreshCmd": "print(var_dic_list())"
    },
    "r": {
     "delete_cmd_postfix": ") ",
     "delete_cmd_prefix": "rm(",
     "library": "var_list.r",
     "varRefreshCmd": "cat(var_dic_list()) "
    }
   },
   "types_to_exclude": [
    "module",
    "function",
    "builtin_function_or_method",
    "instance",
    "_Feature"
   ],
   "window_display": false
  }
 },
 "nbformat": 4,
 "nbformat_minor": 4
}
